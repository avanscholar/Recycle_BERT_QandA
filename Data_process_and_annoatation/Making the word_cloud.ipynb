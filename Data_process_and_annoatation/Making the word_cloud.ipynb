{
 "cells": [
  {
   "cell_type": "code",
   "execution_count": null,
   "id": "cace49d2",
   "metadata": {},
   "outputs": [],
   "source": [
    "import pandas as pd\n",
    "import numpy as np\n",
    "import os"
   ]
  },
  {
   "cell_type": "code",
   "execution_count": null,
   "id": "db279f86",
   "metadata": {},
   "outputs": [],
   "source": [
    "my_path='/home/user3/Documents/avan_phd/Objective_3/Objective_3_QnA/data/harshita/data_full.csv'\n",
    "    \n",
    "data = pd.read_csv(my_path)\n",
    "data =  data.drop(['Unnamed: 0',\"Title\", \"process\"], axis =1)\n",
    "data.head(2)"
   ]
  },
  {
   "cell_type": "code",
   "execution_count": null,
   "id": "5cdc76fb",
   "metadata": {},
   "outputs": [],
   "source": [
    "doi_list = list(data['DOI'])"
   ]
  },
  {
   "cell_type": "code",
   "execution_count": null,
   "id": "b20a3c9d",
   "metadata": {},
   "outputs": [],
   "source": [
    "df_cd = pd.merge(df_net, data, how='inner', left_on = 'DOI', right_on = 'DOI')\n",
    "df_cd.shape, data.shape"
   ]
  },
  {
   "cell_type": "code",
   "execution_count": null,
   "id": "be85ac1d",
   "metadata": {},
   "outputs": [],
   "source": [
    "df_cd.drop_duplicates(subset=['DOI'], keep = 'first').shape"
   ]
  },
  {
   "cell_type": "code",
   "execution_count": null,
   "id": "ecf36194",
   "metadata": {},
   "outputs": [],
   "source": [
    "df_cd"
   ]
  },
  {
   "cell_type": "markdown",
   "id": "04b16815",
   "metadata": {},
   "source": [
    "**For Catalyst**"
   ]
  },
  {
   "cell_type": "code",
   "execution_count": null,
   "id": "284c3b8f",
   "metadata": {},
   "outputs": [],
   "source": [
    "#The reactant columns\n",
    "x=data['catalyst'].values"
   ]
  },
  {
   "cell_type": "code",
   "execution_count": null,
   "id": "f6755d76",
   "metadata": {},
   "outputs": [],
   "source": [
    "y=[]\n",
    "List=[]\n",
    "for i in range(len(data)):\n",
    "    lis = x[i].split('[')\n",
    "    gis = lis[1].split(']')\n",
    "    his = gis[0].split(\"'\")\n",
    "    J=[]\n",
    "    for k in range(1, len(his)-1):\n",
    "        if(his[k]!=' '):\n",
    "            J.append(his[k])\n",
    "    List.append(J)\n",
    "    #print(J)"
   ]
  },
  {
   "cell_type": "code",
   "execution_count": null,
   "id": "9b0393c7",
   "metadata": {},
   "outputs": [],
   "source": [
    "for i in range(0, len(List)):\n",
    "    for j in range(0, len(List[i])):\n",
    "        v=List[i][j]\n",
    "        if(y.count(v)==0):\n",
    "            y.append(v)"
   ]
  },
  {
   "cell_type": "code",
   "execution_count": null,
   "id": "d631e28c",
   "metadata": {},
   "outputs": [],
   "source": [
    "from wordcloud import WordCloud\n",
    "\n",
    "# matplotlib library\n",
    "import matplotlib.pyplot as plt\n",
    "\n",
    "# Joining all the processed lines together. Whole PDF\n",
    "long_string = ''.join([str(i) for i in y])\n",
    "\n",
    "# WordCloud object\n",
    "wordcloud = WordCloud(background_color=\"white\", \n",
    "                      max_words=100000, \n",
    "                      contour_width=5, \n",
    "                      contour_color='steelblue',\n",
    "                      repeat = False,\n",
    "                      relative_scaling = 0.5,\n",
    "                      min_font_size=3,\n",
    "                      max_font_size = 40)\n",
    "wordcloud.generate(long_string)\n",
    "\n",
    "# Visualizing\n",
    "wordcloud.to_image()\n",
    "\n",
    "plt.imshow(wordcloud) # image show\n",
    "plt.axis('off') # to off the axis of x and y\n",
    "plt.savefig('cata_word_cloud.pdf',dpi=2000,bbox_inches='tight')\n",
    "plt.show()"
   ]
  },
  {
   "cell_type": "markdown",
   "id": "b3b73ccc",
   "metadata": {},
   "source": [
    "**For Method**"
   ]
  },
  {
   "cell_type": "code",
   "execution_count": null,
   "id": "48e8f0a5",
   "metadata": {},
   "outputs": [],
   "source": [
    "#The reactant columns\n",
    "x=data['Method'].values"
   ]
  },
  {
   "cell_type": "code",
   "execution_count": null,
   "id": "b4c92146",
   "metadata": {},
   "outputs": [],
   "source": [
    "y=[]\n",
    "List=[]\n",
    "for i in range(len(data)):\n",
    "    lis = x[i].split('[')\n",
    "    gis = lis[1].split(']')\n",
    "    his = gis[0].split(\"'\")\n",
    "    J=[]\n",
    "    for k in range(1, len(his)-1):\n",
    "        if(his[k]!=' '):\n",
    "            J.append(his[k])\n",
    "    List.append(J)\n",
    "    #print(J)"
   ]
  },
  {
   "cell_type": "code",
   "execution_count": null,
   "id": "39b53a25",
   "metadata": {},
   "outputs": [],
   "source": [
    "for i in range(0, len(List)):\n",
    "    for j in range(0, len(List[i])):\n",
    "        v=List[i][j]\n",
    "        if(y.count(v)==0):\n",
    "            y.append(v)"
   ]
  },
  {
   "cell_type": "code",
   "execution_count": null,
   "id": "2a11404d",
   "metadata": {},
   "outputs": [],
   "source": [
    "from wordcloud import WordCloud\n",
    "\n",
    "# matplotlib library\n",
    "import matplotlib.pyplot as plt\n",
    "\n",
    "# Joining all the processed lines together. Whole PDF\n",
    "long_string = ''.join([str(i) for i in y])\n",
    "\n",
    "# WordCloud object\n",
    "wordcloud = WordCloud(background_color=\"white\", \n",
    "                      max_words=100000, \n",
    "                      contour_width=5, \n",
    "                      contour_color='steelblue',\n",
    "                      repeat = False,\n",
    "                      relative_scaling = 0.5,\n",
    "                      min_font_size=3,\n",
    "                      max_font_size = 40)\n",
    "wordcloud.generate(long_string)\n",
    "\n",
    "# Visualizing\n",
    "wordcloud.to_image()\n",
    "\n",
    "plt.imshow(wordcloud) # image show\n",
    "plt.axis('off') # to off the axis of x and y\n",
    "plt.savefig('method_word_cloud.pdf',dpi=2000,bbox_inches='tight')\n",
    "plt.show()"
   ]
  },
  {
   "cell_type": "markdown",
   "id": "d6f3a24a",
   "metadata": {},
   "source": [
    "**For Product**"
   ]
  },
  {
   "cell_type": "code",
   "execution_count": null,
   "id": "33face38",
   "metadata": {},
   "outputs": [],
   "source": [
    "#The reactant columns\n",
    "x=data['Product'].values"
   ]
  },
  {
   "cell_type": "code",
   "execution_count": null,
   "id": "c117fe2f",
   "metadata": {},
   "outputs": [],
   "source": [
    "y=[]\n",
    "List=[]\n",
    "for i in range(len(data)):\n",
    "    lis = x[i].split('[')\n",
    "    gis = lis[1].split(']')\n",
    "    his = gis[0].split(\"'\")\n",
    "    J=[]\n",
    "    for k in range(1, len(his)-1):\n",
    "        if(his[k]!=' '):\n",
    "            J.append(his[k])\n",
    "    List.append(J)"
   ]
  },
  {
   "cell_type": "code",
   "execution_count": null,
   "id": "e31c441b",
   "metadata": {},
   "outputs": [],
   "source": [
    "for i in range(0, len(List)):\n",
    "    for j in range(0, len(List[i])):\n",
    "        v=List[i][j]\n",
    "        if(y.count(v)==0):\n",
    "            y.append(v)"
   ]
  },
  {
   "cell_type": "code",
   "execution_count": null,
   "id": "8dd4b756",
   "metadata": {},
   "outputs": [],
   "source": [
    "from wordcloud import WordCloud\n",
    "\n",
    "# matplotlib library\n",
    "import matplotlib.pyplot as plt\n",
    "\n",
    "# Joining all the processed lines together. Whole PDF\n",
    "long_string = ''.join([str(i) for i in y])\n",
    "\n",
    "# WordCloud object\n",
    "wordcloud = WordCloud(background_color=\"white\", \n",
    "                      max_words=100000, \n",
    "                      contour_width=5, \n",
    "                      contour_color='steelblue',\n",
    "                      repeat = False,\n",
    "                      relative_scaling = 0.5,\n",
    "                      min_font_size=3,\n",
    "                      max_font_size = 40)\n",
    "wordcloud.generate(long_string)\n",
    "\n",
    "# Visualizing\n",
    "wordcloud.to_image()\n",
    "\n",
    "plt.imshow(wordcloud) # image show\n",
    "plt.axis('off') # to off the axis of x and y\n",
    "plt.savefig('products_word_cloud.pdf',dpi=2000,bbox_inches='tight')\n",
    "plt.show()"
   ]
  },
  {
   "cell_type": "markdown",
   "id": "f2d6effc",
   "metadata": {},
   "source": [
    "**For Reactant**"
   ]
  },
  {
   "cell_type": "code",
   "execution_count": null,
   "id": "15967259",
   "metadata": {},
   "outputs": [],
   "source": [
    "#The reactant columns\n",
    "x=data['reactant'].values"
   ]
  },
  {
   "cell_type": "code",
   "execution_count": null,
   "id": "0ff2ac5e",
   "metadata": {},
   "outputs": [],
   "source": [
    "y=[]\n",
    "List=[]\n",
    "for i in range(len(data)):\n",
    "    lis = x[i].split('[')\n",
    "    gis = lis[1].split(']')\n",
    "    his = gis[0].split(\"'\")\n",
    "    J=[]\n",
    "    for k in range(1, len(his)-1):\n",
    "        if(his[k]!=' '):\n",
    "            J.append(his[k])\n",
    "    List.append(J)"
   ]
  },
  {
   "cell_type": "code",
   "execution_count": null,
   "id": "03be2dcd",
   "metadata": {},
   "outputs": [],
   "source": [
    "for i in range(0, len(List)):\n",
    "    for j in range(0, len(List[i])):\n",
    "        v=List[i][j]\n",
    "        if(y.count(v)==0):\n",
    "            y.append(v)"
   ]
  },
  {
   "cell_type": "code",
   "execution_count": null,
   "id": "f77feb32",
   "metadata": {},
   "outputs": [],
   "source": [
    "from wordcloud import WordCloud\n",
    "\n",
    "# matplotlib library\n",
    "import matplotlib.pyplot as plt\n",
    "\n",
    "# Joining all the processed lines together. Whole PDF\n",
    "long_string = ''.join([str(i) for i in y])\n",
    "\n",
    "# WordCloud object\n",
    "wordcloud = WordCloud(background_color=\"white\", \n",
    "                      max_words=100000, \n",
    "                      contour_width=5, \n",
    "                      contour_color='steelblue',\n",
    "                      repeat = False,\n",
    "                      relative_scaling = 0.5,\n",
    "                      min_font_size=3,\n",
    "                      max_font_size = 40)\n",
    "wordcloud.generate(long_string)\n",
    "\n",
    "# Visualizing\n",
    "wordcloud.to_image()\n",
    "\n",
    "plt.imshow(wordcloud) # image show\n",
    "plt.axis('off') # to off the axis of x and y\n",
    "plt.savefig('react_word_cloud.pdf',dpi=2000,bbox_inches='tight')\n",
    "plt.show()"
   ]
  }
 ],
 "metadata": {
  "kernelspec": {
   "display_name": "bert",
   "language": "python",
   "name": "bert"
  },
  "language_info": {
   "codemirror_mode": {
    "name": "ipython",
    "version": 3
   },
   "file_extension": ".py",
   "mimetype": "text/x-python",
   "name": "python",
   "nbconvert_exporter": "python",
   "pygments_lexer": "ipython3",
   "version": "3.7.11"
  }
 },
 "nbformat": 4,
 "nbformat_minor": 5
}

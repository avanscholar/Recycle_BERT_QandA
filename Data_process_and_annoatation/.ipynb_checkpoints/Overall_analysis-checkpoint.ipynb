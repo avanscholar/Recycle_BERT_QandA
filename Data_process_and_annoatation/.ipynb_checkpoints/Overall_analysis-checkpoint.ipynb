{
 "cells": [
  {
   "cell_type": "code",
   "execution_count": null,
   "id": "d56723e8",
   "metadata": {},
   "outputs": [],
   "source": [
    "#Import basic libraries\n",
    "import pandas as pd\n",
    "import numpy as np"
   ]
  },
  {
   "cell_type": "code",
   "execution_count": null,
   "id": "adc4016a",
   "metadata": {},
   "outputs": [],
   "source": [
    "#Access the avaiable full text DOIs\n",
    "df0 = pd.read_csv(r\"ps_recycle_methods.csv\")\n",
    "print('Shape of data:',df0.shape)\n",
    "#Shows the five rows of data frame\n",
    "df0.head(2)"
   ]
  },
  {
   "cell_type": "code",
   "execution_count": null,
   "id": "59263215",
   "metadata": {},
   "outputs": [],
   "source": [
    "#Access the avaiable full text DOIs\n",
    "df1 = pd.read_csv(r\"pet_recycle_methods.csv\")\n",
    "print('Shape of data:',df1.shape)\n",
    "#Shows the five rows of data frame\n",
    "df1.head(2)"
   ]
  },
  {
   "cell_type": "code",
   "execution_count": null,
   "id": "bf943b6c",
   "metadata": {},
   "outputs": [],
   "source": [
    "#Access the avaiable full text DOIs\n",
    "df2 = pd.read_csv(r\"pp_recycle_methods.csv\")\n",
    "print('Shape of data:',df2.shape)\n",
    "#Shows the five rows of data frame\n",
    "df2.head(2)"
   ]
  },
  {
   "cell_type": "code",
   "execution_count": null,
   "id": "2287e646",
   "metadata": {},
   "outputs": [],
   "source": [
    "#Access the avaiable full text DOIs\n",
    "df3 = pd.read_csv(r\"pe_recycle_methods.csv\")\n",
    "print('Shape of data:',df3.shape)\n",
    "#Shows the five rows of data frame\n",
    "df3.head(2)"
   ]
  },
  {
   "cell_type": "code",
   "execution_count": null,
   "id": "f3d6a74a",
   "metadata": {},
   "outputs": [],
   "source": [
    "# concatenating df1 and df2 along rows\n",
    "df_net = pd.concat([df0, df1,df2, df3], axis=0).reset_index(drop = True)\n",
    "print('Net shape of data frame:', df_net.shape)"
   ]
  },
  {
   "cell_type": "code",
   "execution_count": null,
   "id": "1571321a",
   "metadata": {},
   "outputs": [],
   "source": [
    "date = []\n",
    "for i in range(len(df_net)):\n",
    "    date.append(int(df_net.Year[i][:4]))\n",
    "    \n",
    "PUSHILSER = []\n",
    "for i in range(len(df_net)):\n",
    "    PUSHILSER.append(df_net.Pub_name[i])"
   ]
  },
  {
   "cell_type": "code",
   "execution_count": null,
   "id": "77821559",
   "metadata": {},
   "outputs": [],
   "source": [
    "# pd.Series(date).value_counts()\n",
    "from collections import defaultdict\n",
    "\n",
    "def frequencies(lst):\n",
    "    freq = defaultdict(int)\n",
    "    for val in lst:\n",
    "        freq[val] += 1\n",
    "    return dict(freq)\n",
    "\n",
    "date_dict = frequencies(date)\n",
    "pubshi_dict =frequencies(PUSHILSER)"
   ]
  },
  {
   "cell_type": "code",
   "execution_count": null,
   "id": "31553597",
   "metadata": {},
   "outputs": [],
   "source": [
    "import operator\n",
    "# sorted_date = dict( sorted(date_dict.items(), key=operator.itemgetter(1),reverse=True))\n",
    "\n",
    "sorted_pub = dict( sorted(pubshi_dict.items(), key=operator.itemgetter(1),reverse=True))"
   ]
  },
  {
   "cell_type": "code",
   "execution_count": null,
   "id": "0058505a",
   "metadata": {},
   "outputs": [],
   "source": [
    "myKeys = list(date_dict.keys())\n",
    "myKeys.sort(reverse=True)\n",
    "sorted_date = {i: date_dict[i] for i in myKeys}"
   ]
  },
  {
   "cell_type": "code",
   "execution_count": null,
   "id": "8c9f8995",
   "metadata": {},
   "outputs": [],
   "source": [
    "years = []\n",
    "numbers = []\n",
    "\n",
    "for key, value in sorted_date.items():\n",
    "    years.append(key)\n",
    "    numbers.append(value)"
   ]
  },
  {
   "cell_type": "code",
   "execution_count": null,
   "id": "425ac32e",
   "metadata": {},
   "outputs": [],
   "source": [
    "# years"
   ]
  },
  {
   "cell_type": "code",
   "execution_count": null,
   "id": "20f9014f",
   "metadata": {},
   "outputs": [],
   "source": [
    "print(years[:24])\n",
    "yearss = years[:24]\n",
    "\n",
    "numberss = numbers[:24] \n",
    "# numberss, yearss"
   ]
  },
  {
   "cell_type": "code",
   "execution_count": null,
   "id": "d1e39e8f",
   "metadata": {},
   "outputs": [],
   "source": [
    "name_pub =[]\n",
    "countss =[]\n",
    "for key, value in sorted_pub.items():\n",
    "    name_pub.append(key)\n",
    "    countss.append(value)"
   ]
  },
  {
   "cell_type": "code",
   "execution_count": null,
   "id": "874c3f91",
   "metadata": {},
   "outputs": [],
   "source": [
    "import numpy as np\n",
    "import matplotlib.pyplot as plt\n",
    "#plt.bar(r1, bars1, color='red', width=barWidth,  label='Once-through reactor')\n",
    "plt.bar(yearss, numberss, color='blue', label='Recycle reactor')\n",
    "#labels = numberss\n",
    "#plt.bar(r3, bars3, color='#2d7f5e', width=barWidth, edgecolor='white', label='var3')\n",
    " \n",
    "# Add xticks on the middle of the group bars\n",
    "plt.xlabel('Year', fontsize=16, fontweight='bold')\n",
    "plt.ylabel('Number of Publication', fontsize=16, fontweight='bold')\n",
    "#plt.xticks([r + barWidth for r in range(len(bars3))], bars3, rotation=90,fontsize=16,fontweight='bold')\n",
    "plt.yticks(fontsize=10,fontweight='bold') \n",
    "#plt.xticks(fontsize=10,fontweight='bold', rotation =90) \n",
    "\n",
    "plt.xticks(yearss, fontsize=10,fontweight='bold', rotation =90)\n",
    "# Create legend & Show graphic\n",
    "#plt.legend(framealpha=0.8, frameon=False,prop={\"size\":16,'weight':'bold'},bbox_to_anchor =(1.06, 1.1), ncol = 2)\n",
    "#plt.legend(loc=0,bbox_to_anchor =(0.5, 1.20), frameon=False)\n",
    "plt.savefig(r'number_paper.pdf', dpi=5000,bbox_inches='tight')\n",
    "plt.show()"
   ]
  },
  {
   "cell_type": "code",
   "execution_count": null,
   "id": "fa05dc13",
   "metadata": {},
   "outputs": [],
   "source": [
    "# name_pub, countss\n",
    "df = pd.DataFrame(\n",
    "   dict(\n",
    "      names=name_pub[:30],\n",
    "      marks=countss[:30]\n",
    "   )\n",
    ")\n",
    "df_sorted = df.sort_values('marks')"
   ]
  },
  {
   "cell_type": "code",
   "execution_count": null,
   "id": "39a143d8",
   "metadata": {},
   "outputs": [],
   "source": [
    "import numpy as np\n",
    "import matplotlib.pyplot as plt\n",
    "#plt.bar(r1, bars1, color='red', width=barWidth,  label='Once-through reactor')\n",
    "plt.bar('names', 'marks', data=df_sorted, color='blue', label='Recycle reactor')\n",
    "#labels = numberss\n",
    "#plt.bar(r3, bars3, color='#2d7f5e', width=barWidth, edgecolor='white', label='var3')\n",
    " \n",
    "# Add xticks on the middle of the group bars\n",
    "plt.xlabel('Name of Journal', fontsize=16, fontweight='bold')\n",
    "plt.ylabel('Number of Publication', fontsize=16, fontweight='bold')\n",
    "#plt.xticks([r + barWidth for r in range(len(bars3))], bars3, rotation=90,fontsize=16,fontweight='bold')\n",
    "plt.yticks(fontsize=10,fontweight='bold') \n",
    "#plt.xticks(fontsize=10,fontweight='bold', rotation =90) \n",
    "\n",
    "plt.xticks(fontsize=10,fontweight='bold', rotation =90)\n",
    "# Create legend & Show graphic\n",
    "#plt.legend(framealpha=0.8, frameon=False,prop={\"size\":16,'weight':'bold'},bbox_to_anchor =(1.06, 1.1), ncol = 2)\n",
    "#plt.legend(loc=0,bbox_to_anchor =(0.5, 1.20), frameon=False)\n",
    "plt.savefig(r'publication.pdf', dpi=5000,bbox_inches='tight')\n",
    "plt.show()"
   ]
  },
  {
   "cell_type": "markdown",
   "id": "1b7f16f0",
   "metadata": {},
   "source": [
    "# Random data testing"
   ]
  },
  {
   "cell_type": "code",
   "execution_count": null,
   "id": "bb8ea51f",
   "metadata": {},
   "outputs": [],
   "source": [
    "import pandas as pd\n",
    "\n",
    "#data load of pet\n",
    "df_pet = pd.read_csv(r'random_files.csv')\n",
    "df_pet =  df_pet.drop(['Unnamed: 0'], axis=1)\n",
    "print('Shape of data frame:', df_pet.shape)\n",
    "df_pet.head()"
   ]
  },
  {
   "cell_type": "code",
   "execution_count": null,
   "id": "48d8a201",
   "metadata": {},
   "outputs": [],
   "source": [
    "indd = []\n",
    "\n",
    "for i in range(len(df_pet)):\n",
    "    if df_pet.Date[i] != '3':\n",
    "        indd.append(i)"
   ]
  },
  {
   "cell_type": "code",
   "execution_count": null,
   "id": "39706cbd",
   "metadata": {},
   "outputs": [],
   "source": [
    "df_net =  df_pet.iloc[indd].reset_index(drop=True)"
   ]
  },
  {
   "cell_type": "code",
   "execution_count": null,
   "id": "621851b5",
   "metadata": {},
   "outputs": [],
   "source": [
    "date = []\n",
    "for i in range(len(df_net)):\n",
    "    date.append(int(df_net.Date[i][-4:]))\n",
    "    \n",
    "PUSHILSER = []\n",
    "for i in range(len(df_net)):\n",
    "    PUSHILSER.append(df_net.Journal[i])"
   ]
  },
  {
   "cell_type": "code",
   "execution_count": null,
   "id": "fa3efcfa",
   "metadata": {},
   "outputs": [],
   "source": [
    "# pd.Series(date).value_counts()\n",
    "from collections import defaultdict\n",
    "\n",
    "def frequencies(lst):\n",
    "    freq = defaultdict(int)\n",
    "    for val in lst:\n",
    "        freq[val] += 1\n",
    "    return dict(freq)\n",
    "\n",
    "date_dict = frequencies(date)\n",
    "pubshi_dict =frequencies(PUSHILSER)"
   ]
  },
  {
   "cell_type": "code",
   "execution_count": null,
   "id": "6fd2fe8b",
   "metadata": {},
   "outputs": [],
   "source": [
    "import operator\n",
    "# sorted_date = dict( sorted(date_dict.items(), key=operator.itemgetter(1),reverse=True))\n",
    "\n",
    "sorted_pub = dict( sorted(pubshi_dict.items(), key=operator.itemgetter(1),reverse=True))"
   ]
  },
  {
   "cell_type": "code",
   "execution_count": null,
   "id": "c82e57d8",
   "metadata": {},
   "outputs": [],
   "source": [
    "myKeys = list(date_dict.keys())\n",
    "myKeys.sort(reverse=True)\n",
    "sorted_date = {i: date_dict[i] for i in myKeys}"
   ]
  },
  {
   "cell_type": "code",
   "execution_count": null,
   "id": "a07efbda",
   "metadata": {},
   "outputs": [],
   "source": [
    "years = []\n",
    "numbers = []\n",
    "\n",
    "for key, value in sorted_date.items():\n",
    "    years.append(key)\n",
    "    numbers.append(value)"
   ]
  },
  {
   "cell_type": "code",
   "execution_count": null,
   "id": "511bba28",
   "metadata": {},
   "outputs": [],
   "source": [
    "# years, numbers"
   ]
  },
  {
   "cell_type": "code",
   "execution_count": null,
   "id": "0a55280d",
   "metadata": {},
   "outputs": [],
   "source": [
    "print(years[:24])\n",
    "yearss = years[:24]\n",
    "\n",
    "numberss = numbers[:24] \n",
    "# numberss, yearss"
   ]
  },
  {
   "cell_type": "code",
   "execution_count": null,
   "id": "5e83019e",
   "metadata": {},
   "outputs": [],
   "source": [
    "name_pub =[]\n",
    "countss =[]\n",
    "for key, value in sorted_pub.items():\n",
    "    name_pub.append(key)\n",
    "    countss.append(value)"
   ]
  },
  {
   "cell_type": "code",
   "execution_count": null,
   "id": "307240ec",
   "metadata": {},
   "outputs": [],
   "source": [
    "import numpy as np\n",
    "import matplotlib.pyplot as plt\n",
    "#plt.bar(r1, bars1, color='red', width=barWidth,  label='Once-through reactor')\n",
    "plt.bar(yearss, numberss, color='blue', label='Recycle reactor')\n",
    "#labels = numberss\n",
    "#plt.bar(r3, bars3, color='#2d7f5e', width=barWidth, edgecolor='white', label='var3')\n",
    " \n",
    "# Add xticks on the middle of the group bars\n",
    "plt.xlabel('Year', fontsize=16, fontweight='bold')\n",
    "plt.ylabel('Number of Publication', fontsize=16, fontweight='bold')\n",
    "#plt.xticks([r + barWidth for r in range(len(bars3))], bars3, rotation=90,fontsize=16,fontweight='bold')\n",
    "plt.yticks(fontsize=10,fontweight='bold') \n",
    "#plt.xticks(fontsize=10,fontweight='bold', rotation =90) \n",
    "\n",
    "plt.xticks(yearss, fontsize=10,fontweight='bold', rotation =90)\n",
    "# Create legend & Show graphic\n",
    "#plt.legend(framealpha=0.8, frameon=False,prop={\"size\":16,'weight':'bold'},bbox_to_anchor =(1.06, 1.1), ncol = 2)\n",
    "#plt.legend(loc=0,bbox_to_anchor =(0.5, 1.20), frameon=False)\n",
    "plt.savefig(r'number_paper_random.pdf', dpi=5000,bbox_inches='tight')\n",
    "plt.show()"
   ]
  },
  {
   "cell_type": "code",
   "execution_count": null,
   "id": "99f3d889",
   "metadata": {},
   "outputs": [],
   "source": [
    "# name_pub, countss\n",
    "df = pd.DataFrame(\n",
    "   dict(\n",
    "      names=name_pub[:30],\n",
    "      marks=countss[:30]\n",
    "   )\n",
    ")\n",
    "df_sorted = df.sort_values('marks')"
   ]
  },
  {
   "cell_type": "code",
   "execution_count": null,
   "id": "1307b611",
   "metadata": {},
   "outputs": [],
   "source": [
    "import numpy as np\n",
    "import matplotlib.pyplot as plt\n",
    "#plt.bar(r1, bars1, color='red', width=barWidth,  label='Once-through reactor')\n",
    "plt.bar('names', 'marks', data=df_sorted, color='blue', label='Recycle reactor')\n",
    "#labels = numberss\n",
    "#plt.bar(r3, bars3, color='#2d7f5e', width=barWidth, edgecolor='white', label='var3')\n",
    " \n",
    "# Add xticks on the middle of the group bars\n",
    "plt.xlabel('Name of Journal', fontsize=16, fontweight='bold')\n",
    "plt.ylabel('Number of Publication', fontsize=16, fontweight='bold')\n",
    "#plt.xticks([r + barWidth for r in range(len(bars3))], bars3, rotation=90,fontsize=16,fontweight='bold')\n",
    "plt.yticks(fontsize=10,fontweight='bold') \n",
    "#plt.xticks(fontsize=10,fontweight='bold', rotation =90) \n",
    "\n",
    "plt.xticks(fontsize=10,fontweight='bold', rotation =90)\n",
    "# Create legend & Show graphic\n",
    "#plt.legend(framealpha=0.8, frameon=False,prop={\"size\":16,'weight':'bold'},bbox_to_anchor =(1.06, 1.1), ncol = 2)\n",
    "#plt.legend(loc=0,bbox_to_anchor =(0.5, 1.20), frameon=False)\n",
    "plt.savefig(r'publication_random.pdf', dpi=5000,bbox_inches='tight')\n",
    "plt.show()"
   ]
  },
  {
   "cell_type": "markdown",
   "id": "b3dd835b",
   "metadata": {},
   "source": [
    "**End of Code**"
   ]
  }
 ],
 "metadata": {
  "kernelspec": {
   "display_name": "bert",
   "language": "python",
   "name": "bert"
  },
  "language_info": {
   "codemirror_mode": {
    "name": "ipython",
    "version": 3
   },
   "file_extension": ".py",
   "mimetype": "text/x-python",
   "name": "python",
   "nbconvert_exporter": "python",
   "pygments_lexer": "ipython3",
   "version": "3.7.11"
  }
 },
 "nbformat": 4,
 "nbformat_minor": 5
}

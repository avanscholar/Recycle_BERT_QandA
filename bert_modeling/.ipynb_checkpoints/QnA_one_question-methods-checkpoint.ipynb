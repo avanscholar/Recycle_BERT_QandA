{
 "cells": [
  {
   "cell_type": "code",
   "execution_count": 2,
   "id": "6ea04b73",
   "metadata": {},
   "outputs": [
    {
     "data": {
      "text/plain": [
       "18826"
      ]
     },
     "execution_count": 2,
     "metadata": {},
     "output_type": "execute_result"
    }
   ],
   "source": [
    "import json\n",
    "with open(r\"/home/user3/Documents/avan_phd/Objective_3/Objective_3_QnA/data/data qna/data_individual/with_dupli/react_train_full.json\", \"r\") as read_file:\n",
    "    full = json.load(read_file)\n",
    "len(full)"
   ]
  },
  {
   "cell_type": "code",
   "execution_count": 3,
   "id": "8a362528",
   "metadata": {},
   "outputs": [],
   "source": [
    "# full"
   ]
  },
  {
   "cell_type": "code",
   "execution_count": 4,
   "id": "b5462242",
   "metadata": {},
   "outputs": [],
   "source": [
    "from sklearn.model_selection import train_test_split\n",
    "\n",
    "train, _ = train_test_split(full, test_size=0.30, random_state=42)\n",
    "valid, test = train_test_split(_, test_size=0.50, random_state=42)"
   ]
  },
  {
   "cell_type": "code",
   "execution_count": 5,
   "id": "fe6fc9b5",
   "metadata": {},
   "outputs": [
    {
     "data": {
      "text/plain": [
       "(13178, 2824, 2824)"
      ]
     },
     "execution_count": 5,
     "metadata": {},
     "output_type": "execute_result"
    }
   ],
   "source": [
    "len(train), len(valid), len(test)"
   ]
  },
  {
   "cell_type": "code",
   "execution_count": 28,
   "id": "3000de06",
   "metadata": {},
   "outputs": [],
   "source": [
    "import logging\n",
    "\n",
    "from simpletransformers.question_answering import QuestionAnsweringModel, QuestionAnsweringArgs\n",
    "\n",
    "\n",
    "# from transformers import AutoTokenizer, AutoModelForQuestionAnswering\n",
    "\n",
    "# tokenizer = AutoTokenizer.from_pretrained(\"ixa-ehu/SciBERT-SQuAD-QuAC\")\n",
    "\n",
    "# model = AutoModelForQuestionAnswering.from_pretrained(\"ixa-ehu/SciBERT-SQuAD-QuAC\")"
   ]
  },
  {
   "cell_type": "code",
   "execution_count": 29,
   "id": "beaee80d",
   "metadata": {},
   "outputs": [],
   "source": [
    "model_type=\"bert\"\n",
    "model_name= \"bert-base-cased\"\n",
    "if model_type == \"bert\":\n",
    "    model_name = \"bert-base-cased\"\n",
    "\n",
    "elif model_type == \"roberta\":\n",
    "    model_name = \"roberta-base\"\n",
    "\n",
    "elif model_type == \"distilbert\":\n",
    "    model_name = \"distilbert-base-cased\"\n",
    "\n",
    "elif model_type == \"distilroberta\":\n",
    "    model_type = \"roberta\"\n",
    "    model_name = \"distilroberta-base\"\n",
    "\n",
    "elif model_type == \"electra-base\":\n",
    "    model_type = \"electra\"\n",
    "    model_name = \"google/electra-base-discriminator\"\n",
    "\n",
    "elif model_type == \"electra-small\":\n",
    "    model_type = \"electra\"\n",
    "    model_name = \"google/electra-small-discriminator\"\n",
    "\n",
    "elif model_type == \"xlnet\":\n",
    "    model_name = \"xlnet-base-cased\""
   ]
  },
  {
   "cell_type": "code",
   "execution_count": 30,
   "id": "5a3c517e",
   "metadata": {},
   "outputs": [],
   "source": [
    "# Configure the model \n",
    "model_args = QuestionAnsweringArgs()\n",
    "model_args.train_batch_size = 16\n",
    "model_args.evaluate_during_training = True\n",
    "model_args.n_best_size=3\n",
    "model_args.num_train_epochs=5\n"
   ]
  },
  {
   "cell_type": "code",
   "execution_count": 31,
   "id": "cbdd54c5",
   "metadata": {},
   "outputs": [],
   "source": [
    "# !pip install wandb\n",
    "model_args.loss_type"
   ]
  },
  {
   "cell_type": "code",
   "execution_count": 32,
   "id": "b43906e7",
   "metadata": {},
   "outputs": [
    {
     "data": {
      "text/plain": [
       "['__annotations__',\n",
       " '__class__',\n",
       " '__dataclass_fields__',\n",
       " '__dataclass_params__',\n",
       " '__delattr__',\n",
       " '__dict__',\n",
       " '__dir__',\n",
       " '__doc__',\n",
       " '__eq__',\n",
       " '__format__',\n",
       " '__ge__',\n",
       " '__getattribute__',\n",
       " '__gt__',\n",
       " '__hash__',\n",
       " '__init__',\n",
       " '__init_subclass__',\n",
       " '__le__',\n",
       " '__lt__',\n",
       " '__module__',\n",
       " '__ne__',\n",
       " '__new__',\n",
       " '__reduce__',\n",
       " '__reduce_ex__',\n",
       " '__repr__',\n",
       " '__setattr__',\n",
       " '__sizeof__',\n",
       " '__str__',\n",
       " '__subclasshook__',\n",
       " '__weakref__',\n",
       " 'adafactor_beta1',\n",
       " 'adafactor_clip_threshold',\n",
       " 'adafactor_decay_rate',\n",
       " 'adafactor_eps',\n",
       " 'adafactor_relative_step',\n",
       " 'adafactor_scale_parameter',\n",
       " 'adafactor_warmup_init',\n",
       " 'adam_betas',\n",
       " 'adam_epsilon',\n",
       " 'best_model_dir',\n",
       " 'cache_dir',\n",
       " 'config',\n",
       " 'cosine_schedule_num_cycles',\n",
       " 'custom_layer_parameters',\n",
       " 'custom_parameter_groups',\n",
       " 'dataloader_num_workers',\n",
       " 'do_lower_case',\n",
       " 'doc_stride',\n",
       " 'dynamic_quantize',\n",
       " 'early_stopping_consider_epochs',\n",
       " 'early_stopping_delta',\n",
       " 'early_stopping_metric',\n",
       " 'early_stopping_metric_minimize',\n",
       " 'early_stopping_patience',\n",
       " 'encoding',\n",
       " 'eval_batch_size',\n",
       " 'evaluate_during_training',\n",
       " 'evaluate_during_training_silent',\n",
       " 'evaluate_during_training_steps',\n",
       " 'evaluate_during_training_verbose',\n",
       " 'evaluate_each_epoch',\n",
       " 'fp16',\n",
       " 'get_args_for_saving',\n",
       " 'gradient_accumulation_steps',\n",
       " 'lazy_loading',\n",
       " 'learning_rate',\n",
       " 'load',\n",
       " 'local_rank',\n",
       " 'logging_steps',\n",
       " 'loss_args',\n",
       " 'loss_type',\n",
       " 'manual_seed',\n",
       " 'max_answer_length',\n",
       " 'max_grad_norm',\n",
       " 'max_query_length',\n",
       " 'max_seq_length',\n",
       " 'model_class',\n",
       " 'model_name',\n",
       " 'model_type',\n",
       " 'multiprocessing_chunksize',\n",
       " 'n_best_size',\n",
       " 'n_gpu',\n",
       " 'no_cache',\n",
       " 'no_save',\n",
       " 'not_saved_args',\n",
       " 'null_score_diff_threshold',\n",
       " 'num_train_epochs',\n",
       " 'optimizer',\n",
       " 'output_dir',\n",
       " 'overwrite_output_dir',\n",
       " 'polynomial_decay_schedule_lr_end',\n",
       " 'polynomial_decay_schedule_power',\n",
       " 'process_count',\n",
       " 'quantized_model',\n",
       " 'reprocess_input_data',\n",
       " 'save',\n",
       " 'save_best_model',\n",
       " 'save_eval_checkpoints',\n",
       " 'save_model_every_epoch',\n",
       " 'save_optimizer_and_scheduler',\n",
       " 'save_steps',\n",
       " 'scheduler',\n",
       " 'silent',\n",
       " 'skip_special_tokens',\n",
       " 'special_tokens_list',\n",
       " 'tensorboard_dir',\n",
       " 'thread_count',\n",
       " 'tokenizer_name',\n",
       " 'tokenizer_type',\n",
       " 'train_batch_size',\n",
       " 'train_custom_parameters_only',\n",
       " 'update_from_dict',\n",
       " 'use_cached_eval_features',\n",
       " 'use_early_stopping',\n",
       " 'use_hf_datasets',\n",
       " 'use_multiprocessing',\n",
       " 'use_multiprocessing_for_evaluation',\n",
       " 'wandb_kwargs',\n",
       " 'wandb_project',\n",
       " 'warmup_ratio',\n",
       " 'warmup_steps',\n",
       " 'weight_decay']"
      ]
     },
     "execution_count": 32,
     "metadata": {},
     "output_type": "execute_result"
    }
   ],
   "source": [
    "dir(model_args)"
   ]
  },
  {
   "cell_type": "code",
   "execution_count": 33,
   "id": "5b87f3bd",
   "metadata": {},
   "outputs": [],
   "source": [
    "### Advanced Methodology\n",
    "train_args = {\n",
    "    \"reprocess_input_data\": True,\n",
    "    \"overwrite_output_dir\": True,\n",
    "    \"use_cached_eval_features\": True,\n",
    "    \"output_dir\": f\"outputs/{model_type}\",\n",
    "    \"best_model_dir\": f\"outputs/{model_type}/best_model\",\n",
    "    \"evaluate_during_training\": True,\n",
    "    \"max_seq_length\": 512,\n",
    "    \"num_train_epochs\": 25,\n",
    "    \"evaluate_during_training_steps\": 1000,\n",
    "    \"wandb_project\": \"Question Answer Application\",\n",
    "    \"wandb_kwargs\": {\"name\": model_name},\n",
    "    \"save_model_every_epoch\": False,\n",
    "    \"save_eval_checkpoints\": False,\n",
    "    \"n_best_size\":5,\n",
    "    \"use_early_stopping\": True,\n",
    "    # \"early_stopping_metric\": \"mcc\",\n",
    "    # \"n_gpu\": 2,\n",
    "    # \"manual_seed\": 4,\n",
    "    # \"use_multiprocessing\": False,\n",
    "    \"train_batch_size\": 128,\n",
    "    \"eval_batch_size\": 64,\n",
    "    # \"config\": {\n",
    "    #     \"output_hidden_states\": True\n",
    "    # }\n",
    "}"
   ]
  },
  {
   "cell_type": "code",
   "execution_count": 34,
   "id": "76b2870e",
   "metadata": {},
   "outputs": [
    {
     "name": "stdout",
     "output_type": "stream",
     "text": [
      "Working on cuda:1\n"
     ]
    }
   ],
   "source": [
    "# train\n",
    "\n",
    "\n",
    "import torch\n",
    "# Check on the available device - use GPU\n",
    "device = torch.device('cuda:1') if torch.cuda.is_available() else torch.device('cpu')\n",
    "print(f'Working on {device}')"
   ]
  },
  {
   "cell_type": "code",
   "execution_count": 35,
   "id": "2185bbed",
   "metadata": {},
   "outputs": [
    {
     "name": "stderr",
     "output_type": "stream",
     "text": [
      "Some weights of the model checkpoint at bert-base-cased were not used when initializing BertForQuestionAnswering: ['cls.predictions.bias', 'cls.predictions.transform.LayerNorm.bias', 'cls.predictions.decoder.weight', 'cls.seq_relationship.bias', 'cls.predictions.transform.LayerNorm.weight', 'cls.seq_relationship.weight', 'cls.predictions.transform.dense.bias', 'cls.predictions.transform.dense.weight']\n",
      "- This IS expected if you are initializing BertForQuestionAnswering from the checkpoint of a model trained on another task or with another architecture (e.g. initializing a BertForSequenceClassification model from a BertForPreTraining model).\n",
      "- This IS NOT expected if you are initializing BertForQuestionAnswering from the checkpoint of a model that you expect to be exactly identical (initializing a BertForSequenceClassification model from a BertForSequenceClassification model).\n",
      "Some weights of BertForQuestionAnswering were not initialized from the model checkpoint at bert-base-cased and are newly initialized: ['qa_outputs.bias', 'qa_outputs.weight']\n",
      "You should probably TRAIN this model on a down-stream task to be able to use it for predictions and inference.\n"
     ]
    }
   ],
   "source": [
    "model = QuestionAnsweringModel(\n",
    "    model_type,  model_name, args=train_args,use_cuda=True, cuda_device=1\n",
    ")"
   ]
  },
  {
   "cell_type": "code",
   "execution_count": 36,
   "id": "6a51d9a4",
   "metadata": {},
   "outputs": [],
   "source": [
    "### Remove output folder\n",
    "!rm -rf outputs"
   ]
  },
  {
   "cell_type": "code",
   "execution_count": 37,
   "id": "896d3640",
   "metadata": {},
   "outputs": [],
   "source": [
    "#!wandb login --relogin\n",
    "#!pip install wandb --upgrade"
   ]
  },
  {
   "cell_type": "code",
   "execution_count": 38,
   "id": "8a89fba1",
   "metadata": {},
   "outputs": [
    {
     "ename": "IndexError",
     "evalue": "list index out of range",
     "output_type": "error",
     "traceback": [
      "\u001b[0;31m---------------------------------------------------------------------------\u001b[0m",
      "\u001b[0;31mIndexError\u001b[0m                                Traceback (most recent call last)",
      "\u001b[0;32m/tmp/ipykernel_17855/3680797565.py\u001b[0m in \u001b[0;36m<module>\u001b[0;34m\u001b[0m\n\u001b[1;32m      1\u001b[0m \u001b[0;31m# Train the model\u001b[0m\u001b[0;34m\u001b[0m\u001b[0;34m\u001b[0m\u001b[0;34m\u001b[0m\u001b[0m\n\u001b[0;32m----> 2\u001b[0;31m \u001b[0mmodel\u001b[0m\u001b[0;34m.\u001b[0m\u001b[0mtrain_model\u001b[0m\u001b[0;34m(\u001b[0m\u001b[0mtrain\u001b[0m\u001b[0;34m,\u001b[0m \u001b[0meval_data\u001b[0m\u001b[0;34m=\u001b[0m\u001b[0mvalid\u001b[0m\u001b[0;34m)\u001b[0m\u001b[0;34m\u001b[0m\u001b[0;34m\u001b[0m\u001b[0m\n\u001b[0m",
      "\u001b[0;32m/opt/anaconda3/envs/bart1/lib/python3.7/site-packages/simpletransformers/question_answering/question_answering_model.py\u001b[0m in \u001b[0;36mtrain_model\u001b[0;34m(self, train_data, output_dir, show_running_loss, args, eval_data, verbose, **kwargs)\u001b[0m\n\u001b[1;32m    447\u001b[0m                 \u001b[0mtrain_examples\u001b[0m \u001b[0;34m=\u001b[0m \u001b[0mtrain_data\u001b[0m\u001b[0;34m\u001b[0m\u001b[0;34m\u001b[0m\u001b[0m\n\u001b[1;32m    448\u001b[0m \u001b[0;34m\u001b[0m\u001b[0m\n\u001b[0;32m--> 449\u001b[0;31m             \u001b[0mtrain_dataset\u001b[0m \u001b[0;34m=\u001b[0m \u001b[0mself\u001b[0m\u001b[0;34m.\u001b[0m\u001b[0mload_and_cache_examples\u001b[0m\u001b[0;34m(\u001b[0m\u001b[0mtrain_examples\u001b[0m\u001b[0;34m)\u001b[0m\u001b[0;34m\u001b[0m\u001b[0;34m\u001b[0m\u001b[0m\n\u001b[0m\u001b[1;32m    450\u001b[0m \u001b[0;34m\u001b[0m\u001b[0m\n\u001b[1;32m    451\u001b[0m         \u001b[0mos\u001b[0m\u001b[0;34m.\u001b[0m\u001b[0mmakedirs\u001b[0m\u001b[0;34m(\u001b[0m\u001b[0moutput_dir\u001b[0m\u001b[0;34m,\u001b[0m \u001b[0mexist_ok\u001b[0m\u001b[0;34m=\u001b[0m\u001b[0;32mTrue\u001b[0m\u001b[0;34m)\u001b[0m\u001b[0;34m\u001b[0m\u001b[0;34m\u001b[0m\u001b[0m\n",
      "\u001b[0;32m/opt/anaconda3/envs/bart1/lib/python3.7/site-packages/simpletransformers/question_answering/question_answering_model.py\u001b[0m in \u001b[0;36mload_and_cache_examples\u001b[0;34m(self, examples, evaluate, no_cache, output_examples)\u001b[0m\n\u001b[1;32m    287\u001b[0m             \u001b[0mos\u001b[0m\u001b[0;34m.\u001b[0m\u001b[0mmakedirs\u001b[0m\u001b[0;34m(\u001b[0m\u001b[0mself\u001b[0m\u001b[0;34m.\u001b[0m\u001b[0margs\u001b[0m\u001b[0;34m.\u001b[0m\u001b[0mcache_dir\u001b[0m\u001b[0;34m,\u001b[0m \u001b[0mexist_ok\u001b[0m\u001b[0;34m=\u001b[0m\u001b[0;32mTrue\u001b[0m\u001b[0;34m)\u001b[0m\u001b[0;34m\u001b[0m\u001b[0;34m\u001b[0m\u001b[0m\n\u001b[1;32m    288\u001b[0m \u001b[0;34m\u001b[0m\u001b[0m\n\u001b[0;32m--> 289\u001b[0;31m         \u001b[0mexamples\u001b[0m \u001b[0;34m=\u001b[0m \u001b[0mget_examples\u001b[0m\u001b[0;34m(\u001b[0m\u001b[0mexamples\u001b[0m\u001b[0;34m,\u001b[0m \u001b[0mis_training\u001b[0m\u001b[0;34m=\u001b[0m\u001b[0;32mnot\u001b[0m \u001b[0mevaluate\u001b[0m\u001b[0;34m)\u001b[0m\u001b[0;34m\u001b[0m\u001b[0;34m\u001b[0m\u001b[0m\n\u001b[0m\u001b[1;32m    290\u001b[0m \u001b[0;34m\u001b[0m\u001b[0m\n\u001b[1;32m    291\u001b[0m         \u001b[0mmode\u001b[0m \u001b[0;34m=\u001b[0m \u001b[0;34m\"dev\"\u001b[0m \u001b[0;32mif\u001b[0m \u001b[0mevaluate\u001b[0m \u001b[0;32melse\u001b[0m \u001b[0;34m\"train\"\u001b[0m\u001b[0;34m\u001b[0m\u001b[0;34m\u001b[0m\u001b[0m\n",
      "\u001b[0;32m/opt/anaconda3/envs/bart1/lib/python3.7/site-packages/simpletransformers/question_answering/question_answering_utils.py\u001b[0m in \u001b[0;36mget_examples\u001b[0;34m(examples_to_process, is_training, version_2_with_negative)\u001b[0m\n\u001b[1;32m    168\u001b[0m                 \u001b[0mtitle\u001b[0m\u001b[0;34m=\u001b[0m\u001b[0;32mNone\u001b[0m\u001b[0;34m,\u001b[0m\u001b[0;34m\u001b[0m\u001b[0;34m\u001b[0m\u001b[0m\n\u001b[1;32m    169\u001b[0m                 \u001b[0mis_impossible\u001b[0m\u001b[0;34m=\u001b[0m\u001b[0mis_impossible\u001b[0m\u001b[0;34m,\u001b[0m\u001b[0;34m\u001b[0m\u001b[0;34m\u001b[0m\u001b[0m\n\u001b[0;32m--> 170\u001b[0;31m                 \u001b[0manswers\u001b[0m\u001b[0;34m=\u001b[0m\u001b[0manswers\u001b[0m\u001b[0;34m,\u001b[0m\u001b[0;34m\u001b[0m\u001b[0;34m\u001b[0m\u001b[0m\n\u001b[0m\u001b[1;32m    171\u001b[0m             )\n\u001b[1;32m    172\u001b[0m             \u001b[0mexamples\u001b[0m\u001b[0;34m.\u001b[0m\u001b[0mappend\u001b[0m\u001b[0;34m(\u001b[0m\u001b[0mexample\u001b[0m\u001b[0;34m)\u001b[0m\u001b[0;34m\u001b[0m\u001b[0;34m\u001b[0m\u001b[0m\n",
      "\u001b[0;32m/opt/anaconda3/envs/bart1/lib/python3.7/site-packages/transformers/data/processors/squad.py\u001b[0m in \u001b[0;36m__init__\u001b[0;34m(self, qas_id, question_text, context_text, answer_text, start_position_character, title, answers, is_impossible)\u001b[0m\n\u001b[1;32m    753\u001b[0m         \u001b[0;31m# Start and end positions only has a value during evaluation.\u001b[0m\u001b[0;34m\u001b[0m\u001b[0;34m\u001b[0m\u001b[0;34m\u001b[0m\u001b[0m\n\u001b[1;32m    754\u001b[0m         \u001b[0;32mif\u001b[0m \u001b[0mstart_position_character\u001b[0m \u001b[0;32mis\u001b[0m \u001b[0;32mnot\u001b[0m \u001b[0;32mNone\u001b[0m \u001b[0;32mand\u001b[0m \u001b[0;32mnot\u001b[0m \u001b[0mis_impossible\u001b[0m\u001b[0;34m:\u001b[0m\u001b[0;34m\u001b[0m\u001b[0;34m\u001b[0m\u001b[0m\n\u001b[0;32m--> 755\u001b[0;31m             \u001b[0mself\u001b[0m\u001b[0;34m.\u001b[0m\u001b[0mstart_position\u001b[0m \u001b[0;34m=\u001b[0m \u001b[0mchar_to_word_offset\u001b[0m\u001b[0;34m[\u001b[0m\u001b[0mstart_position_character\u001b[0m\u001b[0;34m]\u001b[0m\u001b[0;34m\u001b[0m\u001b[0;34m\u001b[0m\u001b[0m\n\u001b[0m\u001b[1;32m    756\u001b[0m             self.end_position = char_to_word_offset[\n\u001b[1;32m    757\u001b[0m                 \u001b[0mmin\u001b[0m\u001b[0;34m(\u001b[0m\u001b[0mstart_position_character\u001b[0m \u001b[0;34m+\u001b[0m \u001b[0mlen\u001b[0m\u001b[0;34m(\u001b[0m\u001b[0manswer_text\u001b[0m\u001b[0;34m)\u001b[0m \u001b[0;34m-\u001b[0m \u001b[0;36m1\u001b[0m\u001b[0;34m,\u001b[0m \u001b[0mlen\u001b[0m\u001b[0;34m(\u001b[0m\u001b[0mchar_to_word_offset\u001b[0m\u001b[0;34m)\u001b[0m \u001b[0;34m-\u001b[0m \u001b[0;36m1\u001b[0m\u001b[0;34m)\u001b[0m\u001b[0;34m\u001b[0m\u001b[0;34m\u001b[0m\u001b[0m\n",
      "\u001b[0;31mIndexError\u001b[0m: list index out of range"
     ]
    }
   ],
   "source": [
    "# Train the model\n",
    "model.train_model(train, eval_data=valid)"
   ]
  },
  {
   "cell_type": "code",
   "execution_count": 9,
   "id": "8b8bb5ad",
   "metadata": {},
   "outputs": [
    {
     "ename": "NameError",
     "evalue": "name 'model' is not defined",
     "output_type": "error",
     "traceback": [
      "\u001b[0;31m---------------------------------------------------------------------------\u001b[0m",
      "\u001b[0;31mNameError\u001b[0m                                 Traceback (most recent call last)",
      "\u001b[0;32m/tmp/ipykernel_16708/817956383.py\u001b[0m in \u001b[0;36m<module>\u001b[0;34m\u001b[0m\n\u001b[0;32m----> 1\u001b[0;31m \u001b[0mdir\u001b[0m\u001b[0;34m(\u001b[0m\u001b[0mmodel\u001b[0m\u001b[0;34m)\u001b[0m\u001b[0;34m\u001b[0m\u001b[0;34m\u001b[0m\u001b[0m\n\u001b[0m",
      "\u001b[0;31mNameError\u001b[0m: name 'model' is not defined"
     ]
    }
   ],
   "source": [
    "dir(model)"
   ]
  },
  {
   "cell_type": "code",
   "execution_count": 31,
   "id": "ceeb97d1",
   "metadata": {},
   "outputs": [
    {
     "data": {
      "application/vnd.jupyter.widget-view+json": {
       "model_id": "d25258b35f074414a461711db86a6caf",
       "version_major": 2,
       "version_minor": 0
      },
      "text/plain": [
       "Running Evaluation:   0%|          | 0/3 [00:00<?, ?it/s]"
      ]
     },
     "metadata": {},
     "output_type": "display_data"
    }
   ],
   "source": [
    "# Evaluate the model with train\n",
    "result, texts = model.eval_model(train)"
   ]
  },
  {
   "cell_type": "code",
   "execution_count": 32,
   "id": "749841fd",
   "metadata": {},
   "outputs": [
    {
     "data": {
      "text/plain": [
       "134"
      ]
     },
     "execution_count": 32,
     "metadata": {},
     "output_type": "execute_result"
    }
   ],
   "source": [
    "len(train)"
   ]
  },
  {
   "cell_type": "code",
   "execution_count": 33,
   "id": "3f3be9d6",
   "metadata": {},
   "outputs": [
    {
     "data": {
      "text/plain": [
       "{'correct': 79, 'similar': 55, 'incorrect': 0, 'eval_loss': -4.584635416666667}"
      ]
     },
     "execution_count": 33,
     "metadata": {},
     "output_type": "execute_result"
    }
   ],
   "source": [
    "result"
   ]
  },
  {
   "cell_type": "code",
   "execution_count": 34,
   "id": "700a386b",
   "metadata": {},
   "outputs": [
    {
     "data": {
      "text/plain": [
       "{'correct_text': {'2': 'zeolite',\n",
       "  '3': 'Co3O4',\n",
       "  '4': 'Fe/SiO2',\n",
       "  '7': 'aluminum',\n",
       "  '9': 'NiAl',\n",
       "  '11': 'montmorillonite',\n",
       "  '12': 'cobalt',\n",
       "  '15': 'Zn/C',\n",
       "  '18': 'Ni',\n",
       "  '20': 'zeolite',\n",
       "  '21': 'Cl',\n",
       "  '22': 'Ni-based',\n",
       "  '23': 'zeolite',\n",
       "  '24': 'TiO2',\n",
       "  '25': 'chlorine',\n",
       "  '26': 'CuNiIn',\n",
       "  '27': 'Y-zeolite',\n",
       "  '29': 'Si/Al',\n",
       "  '30': 'Y-Zeolite/ZnO',\n",
       "  '32': 'Li/NaY',\n",
       "  '33': 'Fe2O3',\n",
       "  '37': 'cobalt',\n",
       "  '39': 'titania',\n",
       "  '42': 'Co/Mo',\n",
       "  '44': 'Co3O4',\n",
       "  '45': 'Fe',\n",
       "  '46': 'zeolite',\n",
       "  '51': 'CoFe2O4',\n",
       "  '54': 'zeolite',\n",
       "  '55': 'TiO2',\n",
       "  '56': 'zeolite',\n",
       "  '57': 'Ni-based',\n",
       "  '58': 'Cl',\n",
       "  '59': 'Fe',\n",
       "  '61': 'KOH',\n",
       "  '63': 'Ni/Al2O3',\n",
       "  '64': 'ZnO-based',\n",
       "  '66': 'Ru',\n",
       "  '67': 'glucose',\n",
       "  '68': 'Mn',\n",
       "  '70': 'NiFe2O4',\n",
       "  '71': 'zeolites',\n",
       "  '75': 'Fe/SiO2',\n",
       "  '76': 'Fe/SiO2',\n",
       "  '77': 'zeolite',\n",
       "  '78': 'Co3O4',\n",
       "  '79': 'Ni–Mg–Al–CaO',\n",
       "  '80': 'Fe-SBA-15',\n",
       "  '82': 'aluminum',\n",
       "  '84': 'cobalt',\n",
       "  '85': 'aluminum',\n",
       "  '89': 'Co/Mo',\n",
       "  '91': 'Ni',\n",
       "  '92': 'zeolite',\n",
       "  '93': 'Cl',\n",
       "  '94': 'zeolite',\n",
       "  '95': 'chlorine',\n",
       "  '96': 'Zn/C',\n",
       "  '99': 'Ni-based',\n",
       "  '100': 'Ni/ZSM5-30',\n",
       "  '102': 'Pt',\n",
       "  '103': 'nickel',\n",
       "  '104': 'Fe',\n",
       "  '105': 'Ni/CeO2/Al2O3',\n",
       "  '106': 'Fe2O3',\n",
       "  '108': 'TiO2',\n",
       "  '109': 'Ni/Al2O3',\n",
       "  '112': 'Titanium',\n",
       "  '113': 'TiO2',\n",
       "  '115': 'KOH',\n",
       "  '116': 'NiFe2O4',\n",
       "  '120': 'Mgx-Aly-O',\n",
       "  '124': 'Co3O4',\n",
       "  '125': 'zeolite',\n",
       "  '126': 'Cu-Al2O3',\n",
       "  '128': 'Fe',\n",
       "  '130': 'Zn/C',\n",
       "  '133': 'zeolite',\n",
       "  '134': 'Cl'},\n",
       " 'similar_text': {'1': {'truth': 'Ni-REY',\n",
       "   'predicted': '',\n",
       "   'question': 'What are the materials used as catalyst?'},\n",
       "  '5': {'truth': 'Ru/Al2O3',\n",
       "   'predicted': '',\n",
       "   'question': 'What are the materials used as catalyst?'},\n",
       "  '6': {'truth': 'Fe2O3',\n",
       "   'predicted': '',\n",
       "   'question': 'What are the materials used as catalyst?'},\n",
       "  '8': {'truth': 'CaO',\n",
       "   'predicted': '',\n",
       "   'question': 'What are the materials used as catalyst?'},\n",
       "  '10': {'truth': 'Ni',\n",
       "   'predicted': '',\n",
       "   'question': 'What are the materials used as catalyst?'},\n",
       "  '13': {'truth': 'Ni',\n",
       "   'predicted': '',\n",
       "   'question': 'What are the materials used as catalyst?'},\n",
       "  '14': {'truth': 'hydrodesulfurizated',\n",
       "   'predicted': '',\n",
       "   'question': 'What are the materials used as catalyst?'},\n",
       "  '16': {'truth': 'chlorine',\n",
       "   'predicted': '',\n",
       "   'question': 'What are the materials used as catalyst?'},\n",
       "  '17': {'truth': 'zeolite',\n",
       "   'predicted': '',\n",
       "   'question': 'What are the materials used as catalyst?'},\n",
       "  '19': {'truth': 'nickel',\n",
       "   'predicted': '',\n",
       "   'question': 'What are the materials used as catalyst?'},\n",
       "  '28': {'truth': 'copper',\n",
       "   'predicted': '',\n",
       "   'question': 'What are the materials used as catalyst?'},\n",
       "  '31': {'truth': 'Ni/SiO2-S',\n",
       "   'predicted': '',\n",
       "   'question': 'What are the materials used as catalyst?'},\n",
       "  '34': {'truth': 'nickel',\n",
       "   'predicted': '',\n",
       "   'question': 'What are the materials used as catalyst?'},\n",
       "  '35': {'truth': 'CNF-PEI',\n",
       "   'predicted': '',\n",
       "   'question': 'What are the materials used as catalyst?'},\n",
       "  '36': {'truth': 'Ni–Pd/Al2O3',\n",
       "   'predicted': '',\n",
       "   'question': 'What are the materials used as catalyst?'},\n",
       "  '38': {'truth': 'MnO2/HGO',\n",
       "   'predicted': '',\n",
       "   'question': 'What are the materials used as catalyst?'},\n",
       "  '40': {'truth': 'FeCl3',\n",
       "   'predicted': '',\n",
       "   'question': 'What are the materials used as catalyst?'},\n",
       "  '41': {'truth': 'Ni-REY',\n",
       "   'predicted': '',\n",
       "   'question': 'What are the materials used as catalyst?'},\n",
       "  '43': {'truth': 'Ni',\n",
       "   'predicted': '',\n",
       "   'question': 'What are the materials used as catalyst?'},\n",
       "  '47': {'truth': 'Ru/Al2O3',\n",
       "   'predicted': '',\n",
       "   'question': 'What are the materials used as catalyst?'},\n",
       "  '48': {'truth': 'chlorine',\n",
       "   'predicted': '',\n",
       "   'question': 'What are the materials used as catalyst?'},\n",
       "  '49': {'truth': 'nickel',\n",
       "   'predicted': '',\n",
       "   'question': 'What are the materials used as catalyst?'},\n",
       "  '50': {'truth': 'CaO',\n",
       "   'predicted': '',\n",
       "   'question': 'What are the materials used as catalyst?'},\n",
       "  '52': {'truth': 'Ni',\n",
       "   'predicted': '',\n",
       "   'question': 'What are the materials used as catalyst?'},\n",
       "  '53': {'truth': 'zeolite',\n",
       "   'predicted': '',\n",
       "   'question': 'What are the materials used as catalyst?'},\n",
       "  '60': {'truth': 'zeolite',\n",
       "   'predicted': '',\n",
       "   'question': 'What are the materials used as catalyst?'},\n",
       "  '62': {'truth': 'sulfonic',\n",
       "   'predicted': '',\n",
       "   'question': 'What are the materials used as catalyst?'},\n",
       "  '65': {'truth': 'cobalt',\n",
       "   'predicted': '',\n",
       "   'question': 'What are the materials used as catalyst?'},\n",
       "  '69': {'truth': 'Si/Al',\n",
       "   'predicted': '',\n",
       "   'question': 'What are the materials used as catalyst?'},\n",
       "  '72': {'truth': 'chlorine-containing',\n",
       "   'predicted': '',\n",
       "   'question': 'What are the materials used as catalyst?'},\n",
       "  '73': {'truth': 'Ru-based',\n",
       "   'predicted': '',\n",
       "   'question': 'What are the materials used as catalyst?'},\n",
       "  '74': {'truth': 'Ni-REY',\n",
       "   'predicted': '',\n",
       "   'question': 'What are the materials used as catalyst?'},\n",
       "  '81': {'truth': 'zeolite',\n",
       "   'predicted': '',\n",
       "   'question': 'What are the materials used as catalyst?'},\n",
       "  '83': {'truth': 'Ni/sphere',\n",
       "   'predicted': '',\n",
       "   'question': 'What are the materials used as catalyst?'},\n",
       "  '86': {'truth': 'chlorine',\n",
       "   'predicted': '',\n",
       "   'question': 'What are the materials used as catalyst?'},\n",
       "  '87': {'truth': 'CaO',\n",
       "   'predicted': '',\n",
       "   'question': 'What are the materials used as catalyst?'},\n",
       "  '88': {'truth': 'Ni/SiO2-S',\n",
       "   'predicted': '',\n",
       "   'question': 'What are the materials used as catalyst?'},\n",
       "  '90': {'truth': 'Ni',\n",
       "   'predicted': '',\n",
       "   'question': 'What are the materials used as catalyst?'},\n",
       "  '97': {'truth': 'copper',\n",
       "   'predicted': '',\n",
       "   'question': 'What are the materials used as catalyst?'},\n",
       "  '98': {'truth': 'Cl',\n",
       "   'predicted': '',\n",
       "   'question': 'What are the materials used as catalyst?'},\n",
       "  '101': {'truth': 'nickel',\n",
       "   'predicted': '',\n",
       "   'question': 'What are the materials used as catalyst?'},\n",
       "  '107': {'truth': 'Al2O3',\n",
       "   'predicted': '',\n",
       "   'question': 'What are the materials used as catalyst?'},\n",
       "  '110': {'truth': 'Ag',\n",
       "   'predicted': '',\n",
       "   'question': 'What are the materials used as catalyst?'},\n",
       "  '111': {'truth': 'Ni-Fe/γ-Al2O3',\n",
       "   'predicted': '',\n",
       "   'question': 'What are the materials used as catalyst?'},\n",
       "  '114': {'truth': 'Si/Al',\n",
       "   'predicted': '',\n",
       "   'question': 'What are the materials used as catalyst?'},\n",
       "  '117': {'truth': 'chlorine-containing',\n",
       "   'predicted': '',\n",
       "   'question': 'What are the materials used as catalyst?'},\n",
       "  '118': {'truth': 'Zn',\n",
       "   'predicted': '',\n",
       "   'question': 'What are the materials used as catalyst?'},\n",
       "  '119': {'truth': 'Al2O3',\n",
       "   'predicted': '',\n",
       "   'question': 'What are the materials used as catalyst?'},\n",
       "  '121': {'truth': 'Ni-REY',\n",
       "   'predicted': '',\n",
       "   'question': 'What are the materials used as catalyst?'},\n",
       "  '122': {'truth': 'Ni-REY',\n",
       "   'predicted': '',\n",
       "   'question': 'What are the materials used as catalyst?'},\n",
       "  '123': {'truth': 'platinum',\n",
       "   'predicted': '',\n",
       "   'question': 'What are the materials used as catalyst?'},\n",
       "  '127': {'truth': 'chlorine',\n",
       "   'predicted': '',\n",
       "   'question': 'What are the materials used as catalyst?'},\n",
       "  '129': {'truth': 'CaO',\n",
       "   'predicted': '',\n",
       "   'question': 'What are the materials used as catalyst?'},\n",
       "  '131': {'truth': 'Ni',\n",
       "   'predicted': '',\n",
       "   'question': 'What are the materials used as catalyst?'},\n",
       "  '132': {'truth': 'Fe3O4',\n",
       "   'predicted': '',\n",
       "   'question': 'What are the materials used as catalyst?'}},\n",
       " 'incorrect_text': {}}"
      ]
     },
     "execution_count": 34,
     "metadata": {},
     "output_type": "execute_result"
    }
   ],
   "source": [
    "texts"
   ]
  },
  {
   "cell_type": "code",
   "execution_count": 35,
   "id": "3fa4645f",
   "metadata": {},
   "outputs": [
    {
     "data": {
      "application/vnd.jupyter.widget-view+json": {
       "model_id": "a2fd146a233d4c5d9f25ae7c42911993",
       "version_major": 2,
       "version_minor": 0
      },
      "text/plain": [
       "Running Evaluation:   0%|          | 0/1 [00:00<?, ?it/s]"
      ]
     },
     "metadata": {},
     "output_type": "display_data"
    }
   ],
   "source": [
    "# Evaluate the model with test\n",
    "result, texts = model.eval_model(test)"
   ]
  },
  {
   "cell_type": "code",
   "execution_count": 36,
   "id": "0b6a7816",
   "metadata": {},
   "outputs": [
    {
     "data": {
      "text/plain": [
       "17"
      ]
     },
     "execution_count": 36,
     "metadata": {},
     "output_type": "execute_result"
    }
   ],
   "source": [
    "len(test)"
   ]
  },
  {
   "cell_type": "code",
   "execution_count": 37,
   "id": "3156ff52",
   "metadata": {},
   "outputs": [
    {
     "data": {
      "text/plain": [
       "{'correct': 3, 'similar': 13, 'incorrect': 1, 'eval_loss': -4.5078125}"
      ]
     },
     "execution_count": 37,
     "metadata": {},
     "output_type": "execute_result"
    }
   ],
   "source": [
    "result"
   ]
  },
  {
   "cell_type": "code",
   "execution_count": 39,
   "id": "310eb0bf",
   "metadata": {},
   "outputs": [
    {
     "data": {
      "text/plain": [
       "{'correct_text': {'154': 'Ni/Al2O3', '158': 'Fe', '167': 'ZnO'},\n",
       " 'similar_text': {'152': {'truth': 'AgNPs',\n",
       "   'predicted': '',\n",
       "   'question': 'What are the materials used as catalyst?'},\n",
       "  '153': {'truth': 'Mg',\n",
       "   'predicted': '',\n",
       "   'question': 'What are the materials used as catalyst?'},\n",
       "  '155': {'truth': 'Nickel',\n",
       "   'predicted': '',\n",
       "   'question': 'What are the materials used as catalyst?'},\n",
       "  '157': {'truth': 'TiO2-based',\n",
       "   'predicted': '',\n",
       "   'question': 'What are the materials used as catalyst?'},\n",
       "  '159': {'truth': 'cobalt',\n",
       "   'predicted': '',\n",
       "   'question': 'What are the materials used as catalyst?'},\n",
       "  '160': {'truth': 'TiO2',\n",
       "   'predicted': '',\n",
       "   'question': 'What are the materials used as catalyst?'},\n",
       "  '161': {'truth': 'TiO2-based',\n",
       "   'predicted': 'TiO2',\n",
       "   'question': 'What are the materials used as catalyst?'},\n",
       "  '162': {'truth': 'FeCl3',\n",
       "   'predicted': '',\n",
       "   'question': 'What are the materials used as catalyst?'},\n",
       "  '163': {'truth': 'oxalate',\n",
       "   'predicted': '',\n",
       "   'question': 'What are the materials used as catalyst?'},\n",
       "  '164': {'truth': '/Pd',\n",
       "   'predicted': '',\n",
       "   'question': 'What are the materials used as catalyst?'},\n",
       "  '165': {'truth': 'Al–Mg',\n",
       "   'predicted': '',\n",
       "   'question': 'What are the materials used as catalyst?'},\n",
       "  '166': {'truth': 'Ru',\n",
       "   'predicted': '',\n",
       "   'question': 'What are the materials used as catalyst?'},\n",
       "  '168': {'truth': 'sulfonic',\n",
       "   'predicted': '',\n",
       "   'question': 'What are the materials used as catalyst?'}},\n",
       " 'incorrect_text': {'156': {'truth': 'H2SO4',\n",
       "   'predicted': 'glucose',\n",
       "   'question': 'What are the materials used as catalyst?'}}}"
      ]
     },
     "execution_count": 39,
     "metadata": {},
     "output_type": "execute_result"
    }
   ],
   "source": [
    "texts"
   ]
  },
  {
   "cell_type": "code",
   "execution_count": 40,
   "id": "a86317f4",
   "metadata": {},
   "outputs": [
    {
     "data": {
      "application/vnd.jupyter.widget-view+json": {
       "model_id": "d77ad578c5524b3893dd2ba02c6e5e9e",
       "version_major": 2,
       "version_minor": 0
      },
      "text/plain": [
       "Running Evaluation:   0%|          | 0/1 [00:00<?, ?it/s]"
      ]
     },
     "metadata": {},
     "output_type": "display_data"
    }
   ],
   "source": [
    "# Evaluate the model with test\n",
    "result, texts = model.eval_model(valid)"
   ]
  },
  {
   "cell_type": "code",
   "execution_count": 41,
   "id": "3eaad10e",
   "metadata": {},
   "outputs": [
    {
     "data": {
      "text/plain": [
       "17"
      ]
     },
     "execution_count": 41,
     "metadata": {},
     "output_type": "execute_result"
    }
   ],
   "source": [
    "len(valid)"
   ]
  },
  {
   "cell_type": "code",
   "execution_count": 42,
   "id": "cb2ea334",
   "metadata": {},
   "outputs": [
    {
     "data": {
      "text/plain": [
       "{'correct': 0, 'similar': 12, 'incorrect': 5, 'eval_loss': -4.5078125}"
      ]
     },
     "execution_count": 42,
     "metadata": {},
     "output_type": "execute_result"
    }
   ],
   "source": [
    "result"
   ]
  },
  {
   "cell_type": "code",
   "execution_count": 43,
   "id": "2cfbad06",
   "metadata": {},
   "outputs": [
    {
     "data": {
      "text/plain": [
       "{'correct_text': {},\n",
       " 'similar_text': {'135': {'truth': 'Co',\n",
       "   'predicted': '',\n",
       "   'question': 'What are the materials used as catalyst?'},\n",
       "  '136': {'truth': 'Ni-based',\n",
       "   'predicted': '',\n",
       "   'question': 'What are the materials used as catalyst?'},\n",
       "  '138': {'truth': 'zeolite',\n",
       "   'predicted': '',\n",
       "   'question': 'What are the materials used as catalyst?'},\n",
       "  '140': {'truth': 'Co/Mo',\n",
       "   'predicted': '',\n",
       "   'question': 'What are the materials used as catalyst?'},\n",
       "  '142': {'truth': 'palladium',\n",
       "   'predicted': '',\n",
       "   'question': 'What are the materials used as catalyst?'},\n",
       "  '143': {'truth': 'nickel',\n",
       "   'predicted': '',\n",
       "   'question': 'What are the materials used as catalyst?'},\n",
       "  '145': {'truth': 'Ni/SiO2-S',\n",
       "   'predicted': '',\n",
       "   'question': 'What are the materials used as catalyst?'},\n",
       "  '146': {'truth': 'organoiodine',\n",
       "   'predicted': '',\n",
       "   'question': 'What are the materials used as catalyst?'},\n",
       "  '147': {'truth': 'ruthenium/catalyst',\n",
       "   'predicted': '',\n",
       "   'question': 'What are the materials used as catalyst?'},\n",
       "  '148': {'truth': 'KOH',\n",
       "   'predicted': '',\n",
       "   'question': 'What are the materials used as catalyst?'},\n",
       "  '149': {'truth': 'iron',\n",
       "   'predicted': '',\n",
       "   'question': 'What are the materials used as catalyst?'},\n",
       "  '151': {'truth': 'Ni-Fe/γ-Al2O3',\n",
       "   'predicted': '',\n",
       "   'question': 'What are the materials used as catalyst?'}},\n",
       " 'incorrect_text': {'137': {'truth': 'copper',\n",
       "   'predicted': 'using',\n",
       "   'question': 'What are the materials used as catalyst?'},\n",
       "  '139': {'truth': 'copper-',\n",
       "   'predicted': 'and',\n",
       "   'question': 'What are the materials used as catalyst?'},\n",
       "  '141': {'truth': 'Cl',\n",
       "   'predicted': 'operated',\n",
       "   'question': 'What are the materials used as catalyst?'},\n",
       "  '144': {'truth': 'nickel',\n",
       "   'predicted': 'of',\n",
       "   'question': 'What are the materials used as catalyst?'},\n",
       "  '150': {'truth': 'Fe',\n",
       "   'predicted': 'bimetallic',\n",
       "   'question': 'What are the materials used as catalyst?'}}}"
      ]
     },
     "execution_count": 43,
     "metadata": {},
     "output_type": "execute_result"
    }
   ],
   "source": [
    "texts"
   ]
  },
  {
   "cell_type": "code",
   "execution_count": 44,
   "id": "da13ea55",
   "metadata": {},
   "outputs": [],
   "source": [
    "with open(r\"/home/user3/Documents/avan_phd/Objective_3/Objective_3_QnA/data/data qna/data_individual/with_dupli/bert/cat_valid.json\", \"r\") as read_file:\n",
    "    valid = json.load(read_file)"
   ]
  },
  {
   "cell_type": "code",
   "execution_count": 45,
   "id": "e49cc91c",
   "metadata": {},
   "outputs": [
    {
     "data": {
      "text/plain": [
       "[{'context': 'A facile and green method is developed to synthesize cobalt species embedded in a nitrogen-doped carbon matrix (P–Co@NCs). The materials are synthesized using hard template precursors via single-step in-situ thermal treatment under free solvent conditions. The optimal P–Co@NC composite prepared through rational synthesis and synergic composition shows an efficient electrocatalytic performance for oxygen evolution reduction (OER). The P–Co@NC exhibits the OER overpotential of 350 mv at 10 mA cm−2 and low Tafel 73 mv·dec−1 in 0.1 M KOH electrolyte. The advantage of catalyst is the dispersion of Co species, which are in close interaction with nitrogen-doped carbon matrix. The Co-Nx plays a dominating role among Co species in P–Co@NC and is well protected by the nitrogen-doped carbon matrix layer. That resulted in efficient electron transport on CNTs (high conductivity) that improves the OER performance of P–Co@NC compared to the reference catalysts (IrO2 and B–Co@NC). The P–Co@NC also showed excellent cycling performance from long-term chronoamperometry testing. Interestingly, the P–Co@NC catalyst could be synthesized straightforward via a short solvent-free single-step process that introduced it as a green and environmental friendly method, which can be potential to develop catalyst based on metal embedded N-doped carbon.',\n",
       "  'qas': [{'id': '135',\n",
       "    'is_impossible': False,\n",
       "    'question': 'What are the materials used as catalyst?',\n",
       "    'answers': [{'text': 'Co', 'answer_start': 114}]}]},\n",
       " {'context': 'The catalytic upgrading of plastic pyrolysis oil was conducted in a 2-kg-scale pyrolysis oil separation system with or without zeolite 4A, Cu-based (MDC-7) and Ni-based catalysts to produce light (F1), middle (F2) and heavy (F3) oil fractions. From the preliminary separation tests without a catalyst, the separation vapor temperature for diesel-like middle fraction (C11 - C22) was determined to be in the range of 107–305 °C. After the pyrolysis oil separation with catalysts, the heavy carbon range (>C23) sharply decreased from 22.1 wt% in the crude plastic pyrolysis oil to 0.1–1.6 wt% and 7.3–8.4 wt% in the F1 and F2, respectively. Among three catalysts, Ni-based catalyst exhibited the highest deoxygenation capacity (1.23% O in F1 and 0.3% O in F2) owing to its strong acid sites concentration (1.115 mmol/g). Accordingly, the order of the deoxygenation capacity was Ni-based > MDC-7 > zeolite 4A > no catalyst. Moreover, the catalytic reactions (deoxygenation) and coke formation mainly occurred on the strong acid sites. MDC-7 catalyst contributed to more production of C6–C10 range (15.8 %) with aromatic and naphthenic compounds. In contrast, the major catalytic mechanisms of Ni-based catalyst were dehydration, decarboxylation and decarbonylation reactions. In addition, the physical properties of catalytically upgraded pyrolysis oil were close to those of the petroleum-based fuels. Finally, the current study suggested that Ni-based catalyst was a suitable catalyst for the production of diesel-like fraction (C11-C12) with the lowest contents of oxygen from the plastic pyrolysis oil.',\n",
       "  'qas': [{'id': '136',\n",
       "    'is_impossible': False,\n",
       "    'question': 'What are the materials used as catalyst?',\n",
       "    'answers': [{'text': 'Ni-based', 'answer_start': 160}]}]},\n",
       " {'context': 'This work is focussing to the thermo-catalytic batch pyrolysis of contaminated real municipal plastic waste using different catalyst mixtures in their different ratios: Ni/ZSM-5, red mud, Ca(OH)2 and Ni/SAPO-11, red mud, Ca(OH)2. The effect of the catalysts to the pyrolysis oil properties and the in-situ upgrading (especially the storage, transportation and corrosion stability) of pyrolysis oil was investigated. High concentration of Ni/ZSM-5 and Ni/SAPO-11 zeolites in catalyst mixtures can increase the yield of gases and pyrolysis oil, the concentration of aromatics or the hydrogen content in gases; however the presence of red mud in higher content can further increase the hydrogen concentration. ZSM-5 based catalysts showed higher efficiency in aromatization reactions. An accelerated aging test at 80 °C till 1 week was performed to investigate the storage and transportation stability of pyrolysis oils. Only slight increase was found in the density and viscosity, on the other hand there was a bit greater increase using SAPO-11 based catalysts than ZSM-5. The change in the olefin content was followed via bromine number and FTIR spectra of pyrolysis oil, which resulted ∼3% and ∼4% decreasing using Ni/ZSM-5 and Ni/SAPO-11 containing catalyst mixtures. Regarding acidic components, they significantly increased by aging time, while the high red mud and/or Ca(OH)2 in catalyst mixtures had notable benefit, because they can drastically decrease the concentration of chlorinated compounds, which led to less weight loss during corrosion test using copper plate till 60 days at 20 °C.',\n",
       "  'qas': [{'id': '137',\n",
       "    'is_impossible': False,\n",
       "    'question': 'What are the materials used as catalyst?',\n",
       "    'answers': [{'text': 'copper', 'answer_start': 1563}]}]},\n",
       " {'context': 'In this work, a study of the regeneration and reuse of ZSM-5 zeolite in the pyrolysis of a plastic mixture has been carried out in a semi-batch reactor at 440°C. The results have been compared with those obtained with fresh-catalyst and in non-catalytic experiments with the same conditions. The use of fresh catalyst produces a significant change in both the pyrolysis yields and the properties of the liquids and gases obtained. Gases more rich in C3–C4 and H2 are produced, as well as lower quantities of aromatic liquids if compared with those obtained in thermal decomposition. The authors have proved that after one pyrolysis experiment the zeolite loses quite a lot of its activity, which is reflected in both the yields and the products quality; however, this deactivation was found to be reversible since after regeneration heating at 550°C in oxygen atmosphere, this catalyst recovered its initial activity, generating similar products and in equivalent proportions as those obtained with fresh catalyst.',\n",
       "  'qas': [{'id': '138',\n",
       "    'is_impossible': False,\n",
       "    'question': 'What are the materials used as catalyst?',\n",
       "    'answers': [{'text': 'zeolite', 'answer_start': 61}]}]},\n",
       " {'context': 'A polystyrene-supported palladium(0) complex [PS-dpp-Pd(0)] is an efficient catalyst for the copper- and solvent-free acylation of terminal alkynes with different acid chlorides in the presence of triethylamine as base, giving the corresponding ynones in good yields.',\n",
       "  'qas': [{'id': '139',\n",
       "    'is_impossible': False,\n",
       "    'question': 'What are the materials used as catalyst?',\n",
       "    'answers': [{'text': 'copper-', 'answer_start': 93}]}]},\n",
       " {'context': 'A simple two-stage method was used to produce multiwalled carbon nanotubes (MWCNTs) from low-density polyethylene (LDPE) plastic waste using a group of CoMo/MgO catalysts with several Co/Mo molar ratios (14.5, 6.5, 2.5, 1 and 0.4). The catalytic degradation of LDPE waste was performed using the HZSM-5 catalyst at a low temperature of 400\\u202f°C to form non-condensable gases, which were subsequently used as a carbon source for the production of MWCNTs at 700\\u202f°C. The influence of Co/Mo ratio on the yield, morphological structure, thermal stability, purity, and quality of MWCNTs was studied. The freshly calcined catalysts were characterized using BET surface area, XRD, FTIR, and H2-TPR techniques. On the other hand, Raman spectroscopy, TEM, XRD, and TGA analyses were performed for full characterization of the as-deposited carbon materials. The TPR and FTIR profiles of the fresh catalysts illustrated that the interaction between Co, Mo, and MgO increased by decreasing the Co/Mo ratio from 14.5 to 0.4. Also, the CoMo(6.5)/MgO catalyst displayed the highest surface properties compared to the other catalysts with different Co/Mo ratios. The CoMo(6.5)/MgO catalyst was the most active in terms of MWCNTs production. Moreover, the morphology, purity, and quality of the produced MWCNTs were strongly associated with the catalyst composition. TEM images illustrated that pure MWCNTs were obtained using the CoMo(14.5)/MgO catalyst, while a mixture of MWCNTs, carbon nanofibers (CNFs) and carbon nano-onions (CNOs) was produced using the CoMo(0.4)/MgO catalyst. Raman spectroscopy and TGA results proved that MWCNTs with the best quality and purity were obtained using the catalysts with Co/Mo ratios of 14.5 and 6.5.',\n",
       "  'qas': [{'id': '140',\n",
       "    'is_impossible': False,\n",
       "    'question': 'What are the materials used as catalyst?',\n",
       "    'answers': [{'text': 'Co/Mo', 'answer_start': 184}]}]},\n",
       " {'context': 'A continuous flow reactor was operated at atmospheric pressure and feed rate of 0–1.5kgh−1 for degradation of PE, PP and PS in presence of 1–2wt% PVC. The degradation temperatures were between 360 and 440°C depending on the feeding material. The influence of PVC, temperature and silica-alumina catalysts on degradation behavior and on the properties of the products was studied and discussed. Different effects were observed for binary PE/PVC, PP/PVC, PS/PVC and complex PE/PP/PS/PVC mixtures due to specific interactions between PVC and each hydrocarbon polyolefin. Silica-alumina catalysts decreased the Cl concentration in oils but it seems to generate high amounts of Cl-containing organic compounds in gases.',\n",
       "  'qas': [{'id': '141',\n",
       "    'is_impossible': False,\n",
       "    'question': 'What are the materials used as catalyst?',\n",
       "    'answers': [{'text': 'Cl', 'answer_start': 607},\n",
       "     {'text': 'Cl-containing', 'answer_start': 673}]}]},\n",
       " {'context': 'A simple, efficient one-step route to polystyrene-supported trialkylphosphine ligands is reported. These polymer-supported alkyl phosphine ligands proved to be highly active for Suzuki–Miyaura reactions and in alkoxycarbonylation reactions. The palladium loaded polymer-supported catalysts can be recycled several times with only minimal loss of catalyst activity.',\n",
       "  'qas': [{'id': '142',\n",
       "    'is_impossible': False,\n",
       "    'question': 'What are the materials used as catalyst?',\n",
       "    'answers': [{'text': 'palladium', 'answer_start': 245}]}]},\n",
       " {'context': 'This article presents experimental results on the pyrolysis of different mixtures of polymer waste. ABS copolymer, PET, PP, tire waste styrene-butadiene rubber (SBR) and pure non-vulcanised SBR were used in the experiments under different catalyst conditions: (i) without a catalyst, (ii) with an unmodified ZSM-5 catalyst, (iii) with a ZSM-5 catalyst possessing ammonium groups, and (iv) with a ZSM-5 catalyst containing 10 % Ni. The primary objective of this study was to select suitable conditions to pyrolyse polymeric materials depending on the polymer type and properties of the desired final products, e.g., aromatic and heteroaromatic hydrocarbons and valuable chemical subproducts. Suitable conditions can be determined for the thermal conversion of polymeric materials, and using non-catalytic pyrolysis can yield chemical compounds such as alpha-methyl styrene from acrylonitrile-butadiene-styrene (ABS) and limonene from tire waste, which can be used in both fine chemicals and industrial production. The pyrolysis conditions can be modified in terms of the catalyst based on the tested waste polymer and result in products rich in BTEX fractions. Among all tested catalysts, the ZSM-5 catalyst based on aluminosilicate impregnated with nickel ions yielded the highest total fraction of aromatic and heteroaromatic hydrocarbons, especially from the pyrolysis of PP and PET. With this catalyst, more than 75 area% of the product stream (of the total identified product peaks by MS) consisted of aromatic and heteroaromatic fractions (e.g., terephthalonitrile from polyethylene terephthalate), which were composed of 5.6 and 19.9 area% benzene, 7.0 and 10.8 area% toluene, 5.7 and 10.6 area% ethylbenzene and 1.2 and 1.4 area% xylene for PP and PET, respectively. High proportions of the aromatic and heteroaromatic fractions were observed in the product stream during the ABS pyrolysis with two types of catalysts: aluminosilicate with ammonium groups (73 area% of the aromatic and heteroaromatic hydrocarbons) and aluminosilicate impregnated with nickel ions (85 area% of the aromatic and heteroaromatic hydrocarbons).',\n",
       "  'qas': [{'id': '143',\n",
       "    'is_impossible': False,\n",
       "    'question': 'What are the materials used as catalyst?',\n",
       "    'answers': [{'text': 'nickel', 'answer_start': 1249}]}]},\n",
       " {'context': 'Steam gasification of phenolic boards (PB) in the presence of ternary eutectic carbonates (LNK–carbonate mixture: Li2CO3, Na2CO3 and K2CO3) was carried out at 823–948K under atmospheric pressure to produce clean hydrogen. Rates of hydrogen formation were accelerated in the presence of nickel metal powder in the low temperature range (823K). The experimental results imply that unsupported nickel metal powder or small nickel pieces in molten carbonate could be used as catalyst to produce hydrogen on steam gasification of e-waste.',\n",
       "  'qas': [{'id': '144',\n",
       "    'is_impossible': False,\n",
       "    'question': 'What are the materials used as catalyst?',\n",
       "    'answers': [{'text': 'nickel', 'answer_start': 286}]}]},\n",
       " {'context': 'Co-production of valuable hydrogen and carbon nanotubes (CNTs) has obtained growing interest for the management of waste plastics through thermo-chemical conversion technology. Catalyst development is one of the key factors for this process to improve hydrogen production and the quality of CNTs. In this work, Ni/SiO2 and Fe/SiO2 catalysts with different metal particle sizes were investigated in relation to their performance on the production of hydrogen and CNTs from catalytic gasification of waste polypropylene, using a two-stage fixed-bed reaction system. The influences of the type of metals and the crystal size of metal particles on product yields and the production of CNTs in terms of morphology have been studied using a range of techniques; gas chromatography (GC); X-ray diffraction (XRD); temperature programme oxidation (TPO); scanning electron microscopy (SEM); transmission electron microscopy (TEM) etc. The results show that the Fe-based catalysts, in particular with large particle size (∼80nm), produced the highest yield of hydrogen (∼25.60mmol H2 g−1 plastic) and the highest yield of carbons (29wt.%), as well as the largest fraction of graphite carbons (as obtained from TPO analysis of the reacted catalyst). Both Fe- and Ni-based catalysts with larger metal particles produced higher yield of hydrogen compared with the catalysts with smaller metal particles, respectively. Furthermore, the CNTs formed using the Ni/SiO2-S catalyst (with the smallest metal particles around 8nm) produced large amount of amorphous carbons, which are undesirable for the process of CNTs production.',\n",
       "  'qas': [{'id': '145',\n",
       "    'is_impossible': False,\n",
       "    'question': 'What are the materials used as catalyst?',\n",
       "    'answers': [{'text': 'Ni/SiO2-S', 'answer_start': 1443}]}]},\n",
       " {'context': 'An iodine-functionalized metal–organic framework (MOF), UiO-68-I, was synthesized. UiO-68-I showed good catalytic activity for dibromination of alkenes and alkynes with a low catalyst loading of 1% and was able to be recycled and recovered efficiently. Mechanistic studies suggest that UiO-68-I may trigger the formation of molecular bromine through a radical intermediate and thus accelerate the reaction. The activity and stability of UiO-68-I outperforms most earlier reports on organoiodine catalysts, showing the great potential of iodine-functionalized MOFs as recyclable heterogeneous hypervalent iodine reagents or catalysts.',\n",
       "  'qas': [{'id': '146',\n",
       "    'is_impossible': False,\n",
       "    'question': 'What are the materials used as catalyst?',\n",
       "    'answers': [{'text': 'organoiodine', 'answer_start': 482},\n",
       "     {'text': 'iodine-functionalized', 'answer_start': 3},\n",
       "     {'text': 'iodine', 'answer_start': 3}]}]},\n",
       " {'context': 'Polymer supported ruthenium catalyst 8 was found to be an effective catalyst for ring closing metathesis. The rate of reaction and activity was found to be comparable to that of homogeneous catalyst 1. In addition, the catalyst could be recycled and re-used up to three times by simple filtration. The residual ruthenium/catalyst content in the product mixtures using catalyst 8 were found to be much reduced compared with the homogeneous catalyst 1.',\n",
       "  'qas': [{'id': '147',\n",
       "    'is_impossible': False,\n",
       "    'question': 'What are the materials used as catalyst?',\n",
       "    'answers': [{'text': 'ruthenium/catalyst', 'answer_start': 311}]}]},\n",
       " {'context': 'Dianols (etherified derivatives of bis-phenol-A) and bis-phenol-A (BPA) itself were efficiently obtained from waste polycarbonate (PC) via a fast catalytic hydrolysis/glycolysis process using microwave heating. A complete conversion of waste PC was achieved using a microwave power of 3kW in a very short time (10min). A mixture of BPA, mono- and dianols were obtained working with a basic catalyst and ethylene glycol as solvent. This mixture was selectively converted into dianol 220 (2,2′-((propane-2,2-diylbis(4,1-phenylene))bis(oxy))bis (ethan-1-ol)) using diethyl carbonate. Furthermore several dianols were obtained through a more eco-friendly process through hydrolysis in the appropiate diol as solvent and Na2CO3 as catalyst followed by a one-pot etherification with urea, zinc oxide and a microwave heating for 15min. On the contrary using THF/H2O as solvent and KOH as catalyst, PC was hydrolysed to BPA with high selectivity (80.6, wt%).',\n",
       "  'qas': [{'id': '148',\n",
       "    'is_impossible': False,\n",
       "    'question': 'What are the materials used as catalyst?',\n",
       "    'answers': [{'text': 'KOH', 'answer_start': 874}]}]},\n",
       " {'context': 'Spent ion exchange resins have become a crucial radioactive solid waste from the nuclear industry. Developing effective and safe disposal methods as alternatives to the present cementation method remains challenging. This investigation demonstrates the treatment of a mixed resin (sulfonated and quaternary ammonium polystyrene beads with a weight ratio of 40%:60%) by the electro-Fenton process. Mesh-type titanium metal that was coated with IrO2/RuO2 (Ti-DSA) was used as the anode and a stainless steel net was used as the cathode. The conversion of resins to soluble fragments and the removal of total organic carbon reached 92% and 99.4%, respectively, under conditions of solid loading=40gL−1, pH 2, applied current=2A, H2O2 flow rate=1.2mLmin−1, FeSO4 =20mMat 85°C. A pseudo first-order kinetic model of consecutive reactions specified that the efficacy of the electro-Fenton depended strongly on the slowly generated styrene in the aqueous phase by H2O2 and strong acid, which was rapidly mineralized by the hydroxyl radicals. The electro-Fenton process with reused iron catalyst was effective for treating ion exchange resin for at least for three runs, greatly reducing the volume of waste resin liquid.',\n",
       "  'qas': [{'id': '149',\n",
       "    'is_impossible': False,\n",
       "    'question': 'What are the materials used as catalyst?',\n",
       "    'answers': [{'text': 'iron', 'answer_start': 1074}]}]},\n",
       " {'context': 'A series of MgO supported bimetallic Fe–Mo catalysts with various Fe:Mo weight ratios (such as 50:0, 45:5, 40:10, 30:20, 20:30 and 10:40, respectively) have been prepared and evaluated for production of carbon nanomaterials (CNMs) via catalytic pyrolysis of low-density polyethylene (LDPE) plastic waste. Highly acidic HZSM-5 zeolite was used as a degradation catalyst during the pyrolysis process. To investigate the structure and physicochemical properties of the fresh catalysts, several characterization tools such as XRD, TPD, BET, TPR, and FTIR were employed. While to clarify the nature and morphology of as-produced CNMs, the spent catalysts were characterized by XRD, TEM, Raman spectroscopy and TPO. The XRD and TPR results confirmed that the non-interacted metal oxides species were dominant in the structure of the catalysts with higher Fe2O3 or MoO3 contents, whereas several mixed oxide species were extensively present in the catalysts with moderate Fe2O3 and MoO3 contents. The obtained results revealed that the Fe/Mo ratio was found to play a crucial role on the catalytic growth activity as well as the type and morphology of as-deposited CNMs. All results showed that the type and morphology structure of carbon deposited can be adjusted by changing the Fe/Mo ratio in the MgO support. The activities of catalysts were significantly improved with the successive addition of Mo contents up to 30\\u202fwt% due to the presence of a large number of diverse active sites as a result of interaction between all catalyst components. The catalysts with higher Fe or Mo contents promote the formation of both CNTs and CNFs, while the catalysts with intermediate loadings of Fe and Mo produce mainly CNTs, CNFs accompanied with GNSs as hybrid materials.',\n",
       "  'qas': [{'id': '150',\n",
       "    'is_impossible': False,\n",
       "    'question': 'What are the materials used as catalyst?',\n",
       "    'answers': [{'text': 'Fe', 'answer_start': 37},\n",
       "     {'text': 'Mo', 'answer_start': 40}]}]},\n",
       " {'context': 'The use of Ni-Fe catalysts for the catalytic pyrolysis of real-world waste plastics to produce hydrogen and high value carbon nanotubes (CNT), and the influence of catalyst composition and support materials has been investigated. Experiments were conducted in a two stage fixed bed reactor, where plastics were pyrolysed in the first stage followed by reaction of the evolved volatiles over the catalyst in the second stage. Different catalyst temperatures (700, 800, 900°C) and steam to plastic ratios (0, 0.3, 1, 2.6) were explored to optimize the product hydrogen and the yield of carbon nanotubes deposited on the catalyst. The results showed that the growth of carbon nanotubes and hydrogen were highly dependent on the catalyst type and the operational parameters. Fe/γ-Al2O3 produced the highest hydrogen yield (22.9mmol H2/gplastic) and carbon nanotubes yield (195mgg−1 plastic) among the monometallic catalysts, followed by Fe/α-Al2O3, Ni/γ-Al2O3 and Ni/α-Al2O3. The bimetallic Ni-Fe catalyst showed higher catalytic activity in relation to H2 yield than the monometallic Ni or Fe catalysts because of the optimum interaction between metal and support. Further investigation of the influence of steam input and catalyst temperature on product yields found that the optimum simultaneous production of CNTs (287mgg−1 plastic) and hydrogen production (31.8mmol H2/gplastic) were obtained at 800°C in the absence of steam and in the presence of the bimetallic Ni-Fe/γ-Al2O3 catalyst.',\n",
       "  'qas': [{'id': '151',\n",
       "    'is_impossible': False,\n",
       "    'question': 'What are the materials used as catalyst?',\n",
       "    'answers': [{'text': 'Ni-Fe/γ-Al2O3', 'answer_start': 1465}]}]}]"
      ]
     },
     "execution_count": 45,
     "metadata": {},
     "output_type": "execute_result"
    }
   ],
   "source": [
    "valid"
   ]
  },
  {
   "cell_type": "code",
   "execution_count": 46,
   "id": "7f9252c5",
   "metadata": {},
   "outputs": [
    {
     "data": {
      "text/plain": [
       "[{'text': 'palladium', 'answer_start': 245}]"
      ]
     },
     "execution_count": 46,
     "metadata": {},
     "output_type": "execute_result"
    }
   ],
   "source": [
    "valid[7]['qas'][0]['answers']"
   ]
  },
  {
   "cell_type": "code",
   "execution_count": 47,
   "id": "16cfcac4",
   "metadata": {},
   "outputs": [],
   "source": [
    "# Make predictions with the model\n",
    "to_predict = [\n",
    "    {\n",
    "        \"context\": valid[1]['context'],\n",
    "        \"qas\": [\n",
    "            {\n",
    "                \"question\":valid[1]['qas'][0]['question'],\n",
    "                \"id\": \"0\",\n",
    "            }\n",
    "        ],\n",
    "    }\n",
    "]"
   ]
  },
  {
   "cell_type": "code",
   "execution_count": 48,
   "id": "ed1c08a7",
   "metadata": {},
   "outputs": [
    {
     "name": "stderr",
     "output_type": "stream",
     "text": [
      "convert squad examples to features: 100%|█████████| 1/1 [00:00<00:00, 59.27it/s]\n",
      "add example index and unique id: 100%|██████████| 1/1 [00:00<00:00, 2727.12it/s]\n"
     ]
    },
    {
     "data": {
      "application/vnd.jupyter.widget-view+json": {
       "model_id": "44ff67f1ed1544b68701ef3aef9010d2",
       "version_major": 2,
       "version_minor": 0
      },
      "text/plain": [
       "Running Prediction:   0%|          | 0/1 [00:00<?, ?it/s]"
      ]
     },
     "metadata": {},
     "output_type": "display_data"
    },
    {
     "name": "stdout",
     "output_type": "stream",
     "text": [
      "Prediction>>>>>> [{'id': '0', 'answer': ['', 'Ni/SiO2 and Fe/SiO2', 'Ni/SiO2', '.', '. Catalyst development is one of the key factors for this process to improve hydrogen production and the quality of CNTs.', 'Ni', 'Ni/SiO', '. Catalyst development is one of the key factors for this process to improve hydrogen production and the quality of CNTs. In this work, Ni/SiO2 and Fe/SiO2', '. In this work, Ni/SiO2 and Fe/SiO2', 'Fe/SiO2', 'Ni/SiO2 and Fe/SiO', 'Ni/Si', 'Ni/SiO2 and Fe', '. Catalyst development is one of the key factors for this process to improve hydrogen production and the quality of CNTs. In this work, Ni/SiO2', '. In this work, Ni/SiO2', 'Ni/SiO2 and Fe/Si', '. Catalyst development is one of the key factors for this process to improve hydrogen production and the quality of CNTs. In this work, Ni', '. In this work, Ni', '. Catalyst development is one of the key factors for this process to improve hydrogen production and the quality of CNTs. In this work, Ni/SiO']}] [{'id': '0', 'probability': [0.9999760022341019, 2.3919936583907255e-06, 1.8774973344292885e-06, 1.733013082773047e-06, 1.733013082773047e-06, 1.3523105999277784e-06, 1.3417868353478133e-06, 1.3417868353478133e-06, 1.339168715524942e-06, 1.3005043944019389e-06, 1.2654255071523667e-06, 1.184122726123232e-06, 1.1703272785033803e-06, 1.0531805541795152e-06, 1.0511255683849606e-06, 8.429551164107696e-07, 7.585774961900008e-07, 7.57097345447991e-07, 7.526741992802605e-07]}]\n",
      "Actual answer:>>>>>>> [{'text': 'Ni/SiO2-S', 'answer_start': 1443}] \n",
      "\n"
     ]
    },
    {
     "name": "stderr",
     "output_type": "stream",
     "text": [
      "convert squad examples to features: 100%|████████| 1/1 [00:00<00:00, 381.09it/s]\n",
      "add example index and unique id: 100%|██████████| 1/1 [00:00<00:00, 3320.91it/s]\n"
     ]
    },
    {
     "data": {
      "application/vnd.jupyter.widget-view+json": {
       "model_id": "3df0442721f94dc3b01403637c636737",
       "version_major": 2,
       "version_minor": 0
      },
      "text/plain": [
       "Running Prediction:   0%|          | 0/1 [00:00<?, ?it/s]"
      ]
     },
     "metadata": {},
     "output_type": "display_data"
    },
    {
     "name": "stdout",
     "output_type": "stream",
     "text": [
      "Prediction>>>>>> [{'id': '0', 'answer': ['', 'UiO-68', 'UiO-68-I, was synthesized. UiO-68-I showed good catalytic activity for dibromination of alkenes and alkynes with a low catalyst loading of 1% and was able to be recycled and recovered efficiently. Mechanistic studies suggest that UiO-68-I may trigger the formation of molecular bromine through a radical intermediate and thus accelerate the reaction. The activity and stability of UiO-68', 'UiO-68-I, was synthesized. UiO-68', 'UiO-68-I, was synthesized. UiO-68-I showed good catalytic activity for dibromination of alkenes and alkynes with a low catalyst loading of 1% and was able to be recycled and recovered efficiently. Mechanistic studies suggest that UiO-68', 'UiO-68-I, was synthesized.', 'UiO-68-I, was synthesized. UiO-68-I showed good catalytic activity for dibromination of alkenes and alkynes with a low catalyst loading of 1% and was able to be recycled and recovered efficiently.', 'UiO-68-I, was synthesized. UiO-68-I showed good catalytic activity for dibromination of alkenes and alkynes with a low catalyst loading of 1% and was able to be recycled and recovered efficiently. Mechanistic studies suggest that UiO-68-I may trigger the formation of molecular bromine through a radical intermediate and thus accelerate the reaction.', 'UiO-68-I', 'UiO', 'UiO-68-I, was synthesized. UiO-68-I showed good catalytic activity for dibromination of alkenes and alkynes with a low catalyst loading of 1% and was able to be recycled and recovered efficiently. Mechanistic studies suggest that UiO-68-I', 'UiO-68-I, was synthesized. UiO-68-I showed good catalytic activity for dibromination of alkenes and alkynes with a low catalyst loading of 1% and was able to be recycled and recovered efficiently. Mechanistic studies suggest that UiO-68-I may trigger the formation of molecular bromine through a radical intermediate and thus accelerate the reaction. The activity and stability of UiO-68-I', 'UiO-', 'UiO-68-I, was synthesized. UiO', 'UiO-68-I, was synthesized. UiO-68-I', 'U', 'UiO-68-', 'UiO-68-I showed good catalytic activity for dibromination of alkenes and alkynes with a low catalyst loading of 1% and was able to be recycled and recovered efficiently. Mechanistic studies suggest that UiO-68-I may trigger the formation of molecular bromine through a radical intermediate and thus accelerate the reaction. The activity and stability of UiO-68', 'iO-68']}] [{'id': '0', 'probability': [0.9997826254844778, 4.619498695900455e-05, 1.9790757480803486e-05, 1.6829034854385323e-05, 1.272805719701129e-05, 1.2629006670076997e-05, 1.2629006670076997e-05, 1.2579770839110945e-05, 1.2384739569449263e-05, 8.730788267006203e-06, 8.217851373540267e-06, 7.933962017869705e-06, 6.826157404835339e-06, 6.668029638865379e-06, 6.288550882436548e-06, 6.264034145977561e-06, 6.059463621253085e-06, 5.033292838652047e-06, 4.821599212308726e-06]}]\n",
      "Actual answer:>>>>>>> [{'text': 'organoiodine', 'answer_start': 482}, {'text': 'iodine-functionalized', 'answer_start': 3}, {'text': 'iodine', 'answer_start': 3}] \n",
      "\n"
     ]
    },
    {
     "name": "stderr",
     "output_type": "stream",
     "text": [
      "convert squad examples to features: 100%|████████| 1/1 [00:00<00:00, 138.03it/s]\n",
      "add example index and unique id: 100%|██████████| 1/1 [00:00<00:00, 4140.48it/s]\n"
     ]
    },
    {
     "data": {
      "application/vnd.jupyter.widget-view+json": {
       "model_id": "0a7b7780e999460f9790716e3e8cd9e7",
       "version_major": 2,
       "version_minor": 0
      },
      "text/plain": [
       "Running Prediction:   0%|          | 0/1 [00:00<?, ?it/s]"
      ]
     },
     "metadata": {},
     "output_type": "display_data"
    },
    {
     "name": "stdout",
     "output_type": "stream",
     "text": [
      "Prediction>>>>>> [{'id': '0', 'answer': ['', '.', '. The rate of reaction and activity was found to be comparable to that of homogeneous catalyst 1.', '. The rate of reaction and activity was found to be comparable to that of homogeneous catalyst 1. In addition, the catalyst could be recycled and re-used up to three times by simple filtration.', '. In addition, the catalyst could be recycled and re-used up to three times by simple filtration.', '. The rate of reaction and activity was found to be comparable to that of homogeneous catalyst 1. In addition, the catalyst could be recycled and re-used up to three times by simple filtration. The residual ruthenium', '. In addition, the catalyst could be recycled and re-used up to three times by simple filtration. The residual ruthenium', '. The residual ruthenium', 'enium catalyst 8 was found to be an effective catalyst for ring closing metathesis.', 'enium catalyst 8 was found to be an effective catalyst for ring closing metathesis. The rate of reaction and activity was found to be comparable to that of homogeneous catalyst 1.', 'enium catalyst 8 was found to be an effective catalyst for ring closing metathesis. The rate of reaction and activity was found to be comparable to that of homogeneous catalyst 1. In addition, the catalyst could be recycled and re-used up to three times by simple filtration.', '. The rate of reaction and activity was found to be comparable to that of homogeneous catalyst 1. In addition, the catalyst could be recycled and re-used up to three times by simple filtration. The residual ruthenium/catalyst', '. In addition, the catalyst could be recycled and re-used up to three times by simple filtration. The residual ruthenium/catalyst', 'ruthenium catalyst 8 was found to be an effective catalyst for ring closing metathesis.', '. The residual ruthenium/catalyst', 'found to be comparable to that of homogeneous catalyst 1.', 'ruthenium catalyst 8 was found to be an effective catalyst for ring closing metathesis. The rate of reaction and activity was found to be comparable to that of homogeneous catalyst 1.', 'uthenium catalyst 8 was found to be an effective catalyst for ring closing metathesis.', 'found to be comparable to that of homogeneous catalyst 1. In addition, the catalyst could be recycled and re-used up to three times by simple filtration.']}] [{'id': '0', 'probability': [0.9999969824830373, 3.359669592037798e-07, 3.2690482367219573e-07, 3.18708994797541e-07, 3.0950726630972216e-07, 1.586995543539706e-07, 1.541175995483626e-07, 1.499605402404485e-07, 1.1909285041098366e-07, 1.1588052395535624e-07, 1.1297528403391728e-07, 1.0864726886912171e-07, 1.0551041774349912e-07, 1.0306627154896242e-07, 1.0266445423610047e-07, 1.0067874394004057e-07, 1.002862347152057e-07, 9.873144075780812e-08, 9.815462775423853e-08]}]\n",
      "Actual answer:>>>>>>> [{'text': 'ruthenium/catalyst', 'answer_start': 311}] \n",
      "\n"
     ]
    },
    {
     "name": "stderr",
     "output_type": "stream",
     "text": [
      "convert squad examples to features: 100%|█████████| 1/1 [00:00<00:00, 89.10it/s]\n",
      "add example index and unique id: 100%|██████████| 1/1 [00:00<00:00, 7244.05it/s]\n"
     ]
    },
    {
     "data": {
      "application/vnd.jupyter.widget-view+json": {
       "model_id": "2909c37edf3f43408c1c3de9eae37ed5",
       "version_major": 2,
       "version_minor": 0
      },
      "text/plain": [
       "Running Prediction:   0%|          | 0/1 [00:00<?, ?it/s]"
      ]
     },
     "metadata": {},
     "output_type": "display_data"
    },
    {
     "name": "stdout",
     "output_type": "stream",
     "text": [
      "Prediction>>>>>> [{'id': '0', 'answer': ['', 'bis-phenol-A', '.', '. A complete conversion of waste PC was achieved using a microwave power of 3kW in a very short time (10min).', 'bis-phenol-A) and bis-phenol-A (BPA) itself were efficiently obtained from waste polycarbonate (PC) via a fast catalytic hydrolysis/glycolysis process using microwave heating.', 'bis-phenol-A) and bis-phenol-A (BPA) itself were efficiently obtained from waste polycarbonate (PC) via a fast catalytic hydrolysis/glycolysis process using microwave heating. A complete conversion of waste PC was achieved using a microwave power of 3kW in a very short time (10min).', 'bis-phenol-A (BPA) itself were efficiently obtained from waste polycarbonate (PC) via a fast catalytic hydrolysis/glycolysis process using microwave heating.', 'bis-phenol-A (BPA) itself were efficiently obtained from waste polycarbonate (PC) via a fast catalytic hydrolysis/glycolysis process using microwave heating. A complete conversion of waste PC was achieved using a microwave power of 3kW in a very short time (10min).', 'bis-phenol-A) and bis-phenol-A', 'BPA) itself were efficiently obtained from waste polycarbonate (PC) via a fast catalytic hydrolysis/glycolysis process using microwave heating.', 'BPA) itself were efficiently obtained from waste polycarbonate (PC) via a fast catalytic hydrolysis/glycolysis process using microwave heating. A complete conversion of waste PC was achieved using a microwave power of 3kW in a very short time (10min).', 'bis-phenol-A)', 's-phenol-A', 'bis-phenol-A) and bis-phenol-A (BPA', 'bis-phenol', 's-phenol-A (BPA) itself were efficiently obtained from waste polycarbonate (PC) via a fast catalytic hydrolysis/glycolysis process using microwave heating.', 's-phenol-A (BPA) itself were efficiently obtained from waste polycarbonate (PC) via a fast catalytic hydrolysis/glycolysis process using microwave heating. A complete conversion of waste PC was achieved using a microwave power of 3kW in a very short time (10min).', 'kW in a very short time (10min).', 's-phenol-A) and bis-phenol-A (BPA) itself were efficiently obtained from waste polycarbonate (PC) via a fast catalytic hydrolysis/glycolysis process using microwave heating.']}] [{'id': '0', 'probability': [0.9999710229751178, 3.193714647138684e-06, 2.332012387689902e-06, 2.32292073299919e-06, 2.282444928578709e-06, 2.273546519097377e-06, 1.5383585256444686e-06, 1.5323610341304859e-06, 1.3952305989508316e-06, 1.3735995534680158e-06, 1.3682443963130324e-06, 1.3313383380830666e-06, 1.3004979186983466e-06, 1.1343144453306676e-06, 9.403797043517731e-07, 9.367135113267054e-07, 9.330616114336937e-07, 9.330616114336937e-07, 9.294239489490969e-07]}]\n",
      "Actual answer:>>>>>>> [{'text': 'KOH', 'answer_start': 874}] \n",
      "\n"
     ]
    },
    {
     "name": "stderr",
     "output_type": "stream",
     "text": [
      "convert squad examples to features: 100%|█████████| 1/1 [00:00<00:00, 47.17it/s]\n",
      "add example index and unique id: 100%|██████████| 1/1 [00:00<00:00, 7269.16it/s]\n"
     ]
    },
    {
     "data": {
      "application/vnd.jupyter.widget-view+json": {
       "model_id": "8253331287b844c09c3e2c2b3ab205a1",
       "version_major": 2,
       "version_minor": 0
      },
      "text/plain": [
       "Running Prediction:   0%|          | 0/1 [00:00<?, ?it/s]"
      ]
     },
     "metadata": {},
     "output_type": "display_data"
    },
    {
     "name": "stdout",
     "output_type": "stream",
     "text": [
      "Prediction>>>>>> [{'id': '0', 'answer': ['', 'RuO2', 'titanium metal that was coated with IrO2/RuO2', 'IrO2/RuO2', '. Developing effective and safe disposal methods as alternatives to the present cementation method remains challenging. This investigation demonstrates the treatment of a mixed resin (sulfonated and quaternary ammonium polystyrene beads with a weight ratio of 40%:60%) by the electro-Fenton process. Mesh-type titanium metal that was coated with IrO2/RuO2', '. This investigation demonstrates the treatment of a mixed resin (sulfonated and quaternary ammonium polystyrene beads with a weight ratio of 40%:60%) by the electro-Fenton process. Mesh-type titanium metal that was coated with IrO2/RuO2', '. Mesh-type titanium metal that was coated with IrO2/RuO2', 'nuclear industry. Developing effective and safe disposal methods as alternatives to the present cementation method remains challenging. This investigation demonstrates the treatment of a mixed resin (sulfonated and quaternary ammonium polystyrene beads with a weight ratio of 40%:60%) by the electro-Fenton process. Mesh-type titanium metal that was coated with IrO2/RuO2', 'itanium metal that was coated with IrO2/RuO2', 'remains challenging. This investigation demonstrates the treatment of a mixed resin (sulfonated and quaternary ammonium polystyrene beads with a weight ratio of 40%:60%) by the electro-Fenton process. Mesh-type titanium metal that was coated with IrO2/RuO2', 'rO2/RuO2', 'nium metal that was coated with IrO2/RuO2', 'uO2', 'titanium metal that was coated with IrO2', 'challenging. This investigation demonstrates the treatment of a mixed resin (sulfonated and quaternary ammonium polystyrene beads with a weight ratio of 40%:60%) by the electro-Fenton process. Mesh-type titanium metal that was coated with IrO2/RuO2', 'IrO2', 'titanium', '. Developing effective and safe disposal methods as alternatives to the present cementation method remains challenging. This investigation demonstrates the treatment of a mixed resin (sulfonated and quaternary ammonium polystyrene beads with a weight ratio of 40%:60%) by the electro-Fenton process. Mesh-type titanium metal that was coated with IrO2', '. This investigation demonstrates the treatment of a mixed resin (sulfonated and quaternary ammonium polystyrene beads with a weight ratio of 40%:60%) by the electro-Fenton process. Mesh-type titanium metal that was coated with IrO2']}] [{'id': '0', 'probability': [0.9997993821348828, 4.326994821604872e-05, 2.4177612639939975e-05, 2.05593892102435e-05, 1.4437111913531633e-05, 1.4437111913531633e-05, 1.0059062630752887e-05, 8.790823184910953e-06, 8.404661416539747e-06, 7.345007696439222e-06, 7.174860776409605e-06, 5.948168502533998e-06, 5.9018794880088035e-06, 5.896118747140869e-06, 5.249240279537504e-06, 5.013753920105131e-06, 3.6042250956658283e-06, 3.5207333112503692e-06, 3.5207333112503692e-06]}]\n",
      "Actual answer:>>>>>>> [{'text': 'iron', 'answer_start': 1074}] \n",
      "\n"
     ]
    },
    {
     "name": "stderr",
     "output_type": "stream",
     "text": [
      "convert squad examples to features: 100%|█████████| 1/1 [00:00<00:00, 38.03it/s]\n",
      "add example index and unique id: 100%|██████████| 1/1 [00:00<00:00, 3218.96it/s]\n"
     ]
    },
    {
     "data": {
      "application/vnd.jupyter.widget-view+json": {
       "model_id": "0f162a5a43bc4785af98f37bdfaf3a42",
       "version_major": 2,
       "version_minor": 0
      },
      "text/plain": [
       "Running Prediction:   0%|          | 0/1 [00:00<?, ?it/s]"
      ]
     },
     "metadata": {},
     "output_type": "display_data"
    },
    {
     "name": "stdout",
     "output_type": "stream",
     "text": [
      "Prediction>>>>>> [{'id': '0', 'answer': ['Fe', 'Fe–Mo', '', 'Fe–Mo catalysts with various Fe', 'Fe–', 'Fe–Mo catalysts with various Fe:Mo weight ratios (such as 50:0, 45:5, 40:10, 30:20, 20:30 and 10:40, respectively) have been prepared and evaluated for production of carbon nanomaterials (CNMs) via catalytic pyrolysis of low-density polyethylene (LDPE) plastic waste. Highly acidic HZSM-5 zeolite', 'Mo', 'Fe–Mo catalysts with various Fe:Mo weight ratios (such as 50:0, 45:5, 40:10, 30:20, 20:30 and 10:40, respectively) have been prepared and evaluated for production of carbon nanomaterials (CNMs) via catalytic pyrolysis of low-density polyethylene (LDPE) plastic waste.', 'Fe–Mo catalysts with various Fe:Mo weight ratios (such as 50:0, 45:5, 40:10, 30:20, 20:30', 'Fe–Mo catalysts with various Fe:Mo weight ratios (such as 50:0', 'Fe–Mo catalysts with various Fe:Mo weight ratios (such as 50:0, 45:5, 40:10, 30:20', 'Fe–Mo catalysts with various Fe:Mo weight ratios (such as 50:0, 45:5', 'Fe–Mo catalysts with various Fe:Mo weight ratios (such as 50', 'Fe–Mo catalysts with various Fe:Mo weight ratios (such as 50:0, 45:5, 40:10', 'Fe–Mo catalysts with various Fe:Mo weight ratios (such as 50:0, 45:5, 40:10, 30', 'Fe–Mo catalysts with various Fe:Mo weight ratios (such as 50:0, 45:5, 40:10, 30:20, 20:30 and 10:40', 'Fe–Mo catalysts with various Fe:Mo weight ratios (such as 50:0, 45:5, 40', 'MgO supported bimetallic Fe', 'Mo catalysts with various Fe']}] [{'id': '0', 'probability': [0.9425109090038021, 0.049756506739940594, 0.005285428760230111, 0.0007599524745035873, 0.0002806651011693257, 0.00021815569885216127, 0.00019795526167495916, 0.0001362519707661091, 0.00012749786862309675, 0.00012454438367752243, 9.775600681567158e-05, 9.493360692280819e-05, 8.328915909423836e-05, 8.120101708586356e-05, 7.687957778505013e-05, 7.524548469512398e-05, 6.201625466977638e-05, 2.5852221174539715e-05, 3.0234556404284656e-06]}]\n",
      "Actual answer:>>>>>>> [{'text': 'Fe', 'answer_start': 37}, {'text': 'Mo', 'answer_start': 40}] \n",
      "\n"
     ]
    },
    {
     "name": "stderr",
     "output_type": "stream",
     "text": [
      "convert squad examples to features: 100%|█████████| 1/1 [00:00<00:00, 59.46it/s]\n",
      "add example index and unique id: 100%|██████████| 1/1 [00:00<00:00, 5890.88it/s]\n"
     ]
    },
    {
     "data": {
      "application/vnd.jupyter.widget-view+json": {
       "model_id": "7291cf59bec848309b33b4e09a4532b2",
       "version_major": 2,
       "version_minor": 0
      },
      "text/plain": [
       "Running Prediction:   0%|          | 0/1 [00:00<?, ?it/s]"
      ]
     },
     "metadata": {},
     "output_type": "display_data"
    },
    {
     "name": "stdout",
     "output_type": "stream",
     "text": [
      "Prediction>>>>>> [{'id': '0', 'answer': ['', 'Ni-Fe', 'Ni', 'Fe', 'Ni-Fe catalysts for the catalytic pyrolysis of real-world waste plastics to produce hydrogen and high value carbon nanotubes (CNT), and the influence of catalyst composition and support materials has been investigated.', 'Ni-Fe catalysts for the catalytic pyrolysis of real-world waste plastics to produce hydrogen and high value carbon nanotubes (CNT), and the influence of catalyst composition and support materials has been investigated. Experiments were conducted in a two stage fixed bed reactor, where plastics were pyrolysed in the first stage followed by reaction of the evolved volatiles over the catalyst in the second stage.', 'Ni-', 'Ni-Fe catalyst', 'Ni-Fe catalysts for the catalytic pyrolysis of real-world waste plastics to produce hydrogen and high value carbon nanotubes (CNT), and the influence of catalyst composition and support materials has been investigated. Experiments were conducted in a two stage fixed bed reactor, where plastics were pyrolysed in the first stage followed by reaction of the evolved volatiles over the catalyst in the second stage. Different catalyst temperatures (700', 'Ni-Fe catalysts for the catalytic pyrolysis of real-world waste plastics to produce hydrogen and high value carbon nanotubes (CNT), and the influence of catalyst composition and support materials has been investigated. Experiments were conducted in a two stage fixed bed reactor, where plastics were pyrolysed in the first stage followed by reaction of the evolved volatiles over the catalyst in the second stage. Different catalyst temperatures (700, 800', 'Ni-Fe catalysts for the catalytic pyrolysis of real-world waste plastics to produce hydrogen and high value carbon nanotubes (CNT', 'Ni-Fe catalysts for the catalytic pyrolysis of real-world waste plastics to produce hydrogen and high value carbon nanotubes (CNT), and the influence of catalyst composition and support materials has', 'Ni-Fe catalysts for the catalytic pyrolysis of real-world waste plastics to produce hydrogen and high value carbon nanotubes (CNT), and the influence of catalyst composition and support materials has been investigated. Experiments were conducted in a two stage fixed bed reactor, where plastics were pyrolysed in the first stage followed by reaction of the evolved volatiles over the catalyst in the second stage. Different catalyst temperatures (700, 800, 900', '-Fe', 'Fe catalysts for the catalytic pyrolysis of real-world waste plastics to produce hydrogen and high value carbon nanotubes (CNT), and the influence of catalyst composition and support materials has been investigated.', 'Fe catalysts for the catalytic pyrolysis of real-world waste plastics to produce hydrogen and high value carbon nanotubes (CNT), and the influence of catalyst composition and support materials has been investigated. Experiments were conducted in a two stage fixed bed reactor, where plastics were pyrolysed in the first stage followed by reaction of the evolved volatiles over the catalyst in the second stage.', 'Fe catalyst', 'Fe catalysts for the catalytic pyrolysis of real-world waste plastics to produce hydrogen and high value carbon nanotubes (CNT), and the influence of catalyst composition and support materials has been investigated. Experiments were conducted in a two stage fixed bed reactor, where plastics were pyrolysed in the first stage followed by reaction of the evolved volatiles over the catalyst in the second stage. Different catalyst temperatures (700', 'Fe catalysts for the catalytic pyrolysis of real-world waste plastics to produce hydrogen and high value carbon nanotubes (CNT), and the influence of catalyst composition and support materials has been investigated. Experiments were conducted in a two stage fixed bed reactor, where plastics were pyrolysed in the first stage followed by reaction of the evolved volatiles over the catalyst in the second stage. Different catalyst temperatures (700, 800']}] [{'id': '0', 'probability': [0.7520744224620766, 0.20084285474528982, 0.03358880097071965, 0.010137025988186794, 0.0006858031025979961, 0.0006764906924146381, 0.0005935131165100322, 0.00022005374546288866, 0.0002124518902853302, 0.0002051126445990076, 0.00020036121530444482, 0.00019419674877313821, 0.00018458140101139652, 7.327814741043423e-05, 3.4614145883514725e-05, 3.414412595593964e-05, 1.110664623535709e-05, 1.0722962167576481e-05, 1.0352532637731908e-05]}]\n",
      "Actual answer:>>>>>>> [{'text': 'Ni-Fe/γ-Al2O3', 'answer_start': 1465}] \n",
      "\n"
     ]
    },
    {
     "ename": "IndexError",
     "evalue": "list index out of range",
     "output_type": "error",
     "traceback": [
      "\u001b[0;31m---------------------------------------------------------------------------\u001b[0m",
      "\u001b[0;31mIndexError\u001b[0m                                Traceback (most recent call last)",
      "\u001b[0;32m/tmp/ipykernel_13540/2064052111.py\u001b[0m in \u001b[0;36m<module>\u001b[0;34m\u001b[0m\n\u001b[1;32m      5\u001b[0m     to_predict = [\n\u001b[1;32m      6\u001b[0m         {\n\u001b[0;32m----> 7\u001b[0;31m             \u001b[0;34m\"context\"\u001b[0m\u001b[0;34m:\u001b[0m \u001b[0mvalid\u001b[0m\u001b[0;34m[\u001b[0m\u001b[0mi\u001b[0m\u001b[0;34m]\u001b[0m\u001b[0;34m[\u001b[0m\u001b[0;34m'context'\u001b[0m\u001b[0;34m]\u001b[0m\u001b[0;34m,\u001b[0m\u001b[0;34m\u001b[0m\u001b[0;34m\u001b[0m\u001b[0m\n\u001b[0m\u001b[1;32m      8\u001b[0m             \"qas\": [\n\u001b[1;32m      9\u001b[0m                 {\n",
      "\u001b[0;31mIndexError\u001b[0m: list index out of range"
     ]
    }
   ],
   "source": [
    "import numpy as np\n",
    "for i in np.arange(10,20,1):\n",
    "\n",
    "    # Make predictions with the model\n",
    "    to_predict = [\n",
    "        {\n",
    "            \"context\": valid[i]['context'],\n",
    "            \"qas\": [\n",
    "                {\n",
    "                    \"question\":valid[i]['qas'][0]['question'],\n",
    "                    \"id\": \"0\",\n",
    "                }\n",
    "            ],\n",
    "        }\n",
    "    ]\n",
    "\n",
    "\n",
    "\n",
    "    answers, probabilities = model.predict(to_predict)\n",
    "\n",
    "    print(\"Prediction>>>>>>\",answers, probabilities)\n",
    "    print(\"Actual answer:>>>>>>>\",valid[i]['qas'][0]['answers'],\"\\n\")"
   ]
  },
  {
   "cell_type": "code",
   "execution_count": 48,
   "id": "2dbda905",
   "metadata": {},
   "outputs": [
    {
     "data": {
      "text/plain": [
       "[{'id': '0', 'probability': [0.9130477957311179, 0.06105103198976647]}]"
      ]
     },
     "execution_count": 48,
     "metadata": {},
     "output_type": "execute_result"
    }
   ],
   "source": [
    "probabilities"
   ]
  },
  {
   "cell_type": "code",
   "execution_count": null,
   "id": "f07bb4a4",
   "metadata": {},
   "outputs": [],
   "source": []
  }
 ],
 "metadata": {
  "kernelspec": {
   "display_name": "bart1",
   "language": "python",
   "name": "bart1"
  },
  "language_info": {
   "codemirror_mode": {
    "name": "ipython",
    "version": 3
   },
   "file_extension": ".py",
   "mimetype": "text/x-python",
   "name": "python",
   "nbconvert_exporter": "python",
   "pygments_lexer": "ipython3",
   "version": "3.7.13"
  }
 },
 "nbformat": 4,
 "nbformat_minor": 5
}

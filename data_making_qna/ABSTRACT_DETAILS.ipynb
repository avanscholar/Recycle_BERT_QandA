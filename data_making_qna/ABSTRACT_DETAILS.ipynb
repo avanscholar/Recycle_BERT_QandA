{
 "cells": [
  {
   "cell_type": "code",
   "execution_count": 15,
   "id": "7a13cd43",
   "metadata": {},
   "outputs": [],
   "source": [
    "import pandas as pd\n",
    "import numpy as np"
   ]
  },
  {
   "cell_type": "code",
   "execution_count": 16,
   "id": "478dd38c",
   "metadata": {},
   "outputs": [],
   "source": [
    "import pandas as pd\n",
    "import glob\n",
    "\n",
    "path = r'/home/user3/Documents/avan_phd/Objective_3/Objective_3_QnA/data/abstract_cross_ref/pe/' # use your path\n",
    "all_files = glob.glob(path + \"/*.csv\")\n",
    "\n",
    "li = []\n",
    "\n",
    "for filename in all_files:\n",
    "    df = pd.read_csv(filename, index_col=None, header=0)\n",
    "    li.append(df)\n",
    "\n",
    "frame = pd.concat(li, axis=0, ignore_index=True)\n",
    "\n",
    "#df = pd.read_csv(\"/home/user3/Documents/avan_phd/Objective_3/Objective_3_QnA/data/abstract_cross_ref/ps/2022.csv\")"
   ]
  },
  {
   "cell_type": "code",
   "execution_count": 17,
   "id": "fb14a69c",
   "metadata": {},
   "outputs": [
    {
     "data": {
      "text/plain": [
       "623157"
      ]
     },
     "execution_count": 17,
     "metadata": {},
     "output_type": "execute_result"
    }
   ],
   "source": [
    "len(frame)"
   ]
  },
  {
   "cell_type": "code",
   "execution_count": 18,
   "id": "c000035a",
   "metadata": {},
   "outputs": [],
   "source": [
    "import pandas as pd\n",
    "import glob\n",
    "\n",
    "path = r'/home/user3/Documents/avan_phd/Objective_3/Objective_3_QnA/data/abstract_cross_ref/pp/' # use your path\n",
    "all_files = glob.glob(path + \"/*.csv\")\n",
    "\n",
    "li = []\n",
    "\n",
    "for filename in all_files:\n",
    "    df = pd.read_csv(filename, index_col=None, header=0)\n",
    "    li.append(df)\n",
    "\n",
    "frame1 = pd.concat(li, axis=0, ignore_index=True)\n"
   ]
  },
  {
   "cell_type": "code",
   "execution_count": 19,
   "id": "9bdd912f",
   "metadata": {},
   "outputs": [
    {
     "data": {
      "text/plain": [
       "2151146"
      ]
     },
     "execution_count": 19,
     "metadata": {},
     "output_type": "execute_result"
    }
   ],
   "source": [
    "len(frame1)"
   ]
  },
  {
   "cell_type": "code",
   "execution_count": 20,
   "id": "dd9afff5",
   "metadata": {},
   "outputs": [],
   "source": [
    "import pandas as pd\n",
    "import glob\n",
    "\n",
    "path = r'/home/user3/Documents/avan_phd/Objective_3/Objective_3_QnA/data/abstract_cross_ref/ps/' # use your path\n",
    "all_files = glob.glob(path + \"/*.csv\")\n",
    "\n",
    "li = []\n",
    "\n",
    "for filename in all_files:\n",
    "    df = pd.read_csv(filename, index_col=None, header=0)\n",
    "    li.append(df)\n",
    "\n",
    "frame2 = pd.concat(li, axis=0, ignore_index=True)\n"
   ]
  },
  {
   "cell_type": "code",
   "execution_count": 21,
   "id": "3e40dbfc",
   "metadata": {},
   "outputs": [
    {
     "data": {
      "text/plain": [
       "622104"
      ]
     },
     "execution_count": 21,
     "metadata": {},
     "output_type": "execute_result"
    }
   ],
   "source": [
    "len(frame2)"
   ]
  },
  {
   "cell_type": "code",
   "execution_count": 22,
   "id": "09fa46aa",
   "metadata": {},
   "outputs": [],
   "source": [
    "import pandas as pd\n",
    "import glob\n",
    "\n",
    "path = r'/home/user3/Documents/avan_phd/Objective_3/Objective_3_QnA/data/abstract_cross_ref/pet/' # use your path\n",
    "all_files = glob.glob(path + \"/*.csv\")\n",
    "\n",
    "li = []\n",
    "\n",
    "for filename in all_files:\n",
    "    df = pd.read_csv(filename, index_col=None, header=0)\n",
    "    li.append(df)\n",
    "\n",
    "frame3 = pd.concat(li, axis=0, ignore_index=True)\n"
   ]
  },
  {
   "cell_type": "code",
   "execution_count": 23,
   "id": "57e4b1da",
   "metadata": {},
   "outputs": [
    {
     "data": {
      "text/plain": [
       "407942"
      ]
     },
     "execution_count": 23,
     "metadata": {},
     "output_type": "execute_result"
    }
   ],
   "source": [
    "len(frame3)"
   ]
  },
  {
   "cell_type": "code",
   "execution_count": null,
   "id": "6bbd366d",
   "metadata": {},
   "outputs": [],
   "source": []
  },
  {
   "cell_type": "code",
   "execution_count": 24,
   "id": "13c12f45",
   "metadata": {},
   "outputs": [],
   "source": [
    "import pandas as pd\n",
    "import glob\n",
    "\n",
    "path = r'/home/user3/Documents/avan_phd/Objective_3/Objective_3_QnA/data/abstract_cross_ref/meth/' # use your path\n",
    "all_files = glob.glob(path + \"/*.csv\")\n",
    "\n",
    "li = []\n",
    "\n",
    "for filename in all_files:\n",
    "    df = pd.read_csv(filename, index_col=None, header=0)\n",
    "    li.append(df)\n",
    "\n",
    "frame4 = pd.concat(li, axis=0, ignore_index=True)\n"
   ]
  },
  {
   "cell_type": "code",
   "execution_count": 25,
   "id": "a18ea7e9",
   "metadata": {},
   "outputs": [
    {
     "data": {
      "text/plain": [
       "2291832"
      ]
     },
     "execution_count": 25,
     "metadata": {},
     "output_type": "execute_result"
    }
   ],
   "source": [
    "len(frame4)"
   ]
  },
  {
   "cell_type": "code",
   "execution_count": 26,
   "id": "9d3c80e5",
   "metadata": {},
   "outputs": [
    {
     "data": {
      "text/html": [
       "<div>\n",
       "<style scoped>\n",
       "    .dataframe tbody tr th:only-of-type {\n",
       "        vertical-align: middle;\n",
       "    }\n",
       "\n",
       "    .dataframe tbody tr th {\n",
       "        vertical-align: top;\n",
       "    }\n",
       "\n",
       "    .dataframe thead th {\n",
       "        text-align: right;\n",
       "    }\n",
       "</style>\n",
       "<table border=\"1\" class=\"dataframe\">\n",
       "  <thead>\n",
       "    <tr style=\"text-align: right;\">\n",
       "      <th></th>\n",
       "      <th>Unnamed: 0</th>\n",
       "      <th>DOI</th>\n",
       "      <th>URL</th>\n",
       "      <th>Title</th>\n",
       "      <th>Abstract</th>\n",
       "      <th>Type</th>\n",
       "      <th>Publisher</th>\n",
       "    </tr>\n",
       "  </thead>\n",
       "  <tbody>\n",
       "    <tr>\n",
       "      <th>0</th>\n",
       "      <td>0</td>\n",
       "      <td>10.1039/d2py01123a</td>\n",
       "      <td>http://dx.doi.org/10.1039/d2py01123a</td>\n",
       "      <td>['Towards degradable polyethylene: end-functio...</td>\n",
       "      <td>&lt;jats:p&gt;The use of iron-catalysed chain growth...</td>\n",
       "      <td>journal-article</td>\n",
       "      <td>Royal Society of Chemistry (RSC)</td>\n",
       "    </tr>\n",
       "    <tr>\n",
       "      <th>1</th>\n",
       "      <td>1</td>\n",
       "      <td>10.1039/d2ay90073d</td>\n",
       "      <td>http://dx.doi.org/10.1039/d2ay90073d</td>\n",
       "      <td>['Outstanding Reviewers for &lt;i&gt;Analytical Meth...</td>\n",
       "      <td>&lt;jats:p&gt;We would like to take this opportunity...</td>\n",
       "      <td>journal-article</td>\n",
       "      <td>Royal Society of Chemistry (RSC)</td>\n",
       "    </tr>\n",
       "    <tr>\n",
       "      <th>2</th>\n",
       "      <td>2</td>\n",
       "      <td>10.1039/d2ay90114e</td>\n",
       "      <td>http://dx.doi.org/10.1039/d2ay90114e</td>\n",
       "      <td>['Comparing measurement uncertainty values']</td>\n",
       "      <td>&lt;jats:p&gt;Quoted values of measurement uncertain...</td>\n",
       "      <td>journal-article</td>\n",
       "      <td>Royal Society of Chemistry (RSC)</td>\n",
       "    </tr>\n",
       "    <tr>\n",
       "      <th>3</th>\n",
       "      <td>3</td>\n",
       "      <td>10.1039/d1sm01329g</td>\n",
       "      <td>http://dx.doi.org/10.1039/d1sm01329g</td>\n",
       "      <td>['Measurements of interactions between fluores...</td>\n",
       "      <td>&lt;jats:p&gt;We study the interactions between fluo...</td>\n",
       "      <td>journal-article</td>\n",
       "      <td>Royal Society of Chemistry (RSC)</td>\n",
       "    </tr>\n",
       "    <tr>\n",
       "      <th>4</th>\n",
       "      <td>4</td>\n",
       "      <td>10.1039/d2ra01482c</td>\n",
       "      <td>http://dx.doi.org/10.1039/d2ra01482c</td>\n",
       "      <td>['Grafting of thermotropic fluorinated mesogen...</td>\n",
       "      <td>&lt;jats:p&gt;A series of polysiloxane grafted with ...</td>\n",
       "      <td>journal-article</td>\n",
       "      <td>Royal Society of Chemistry (RSC)</td>\n",
       "    </tr>\n",
       "    <tr>\n",
       "      <th>...</th>\n",
       "      <td>...</td>\n",
       "      <td>...</td>\n",
       "      <td>...</td>\n",
       "      <td>...</td>\n",
       "      <td>...</td>\n",
       "      <td>...</td>\n",
       "      <td>...</td>\n",
       "    </tr>\n",
       "    <tr>\n",
       "      <th>623152</th>\n",
       "      <td>20621</td>\n",
       "      <td>10.1158/1055-9965.epi-19-0681</td>\n",
       "      <td>http://dx.doi.org/10.1158/1055-9965.epi-19-0681</td>\n",
       "      <td>['Harnessing Population Pedigree Data and Mach...</td>\n",
       "      <td>&lt;jats:title&gt;Abstract&lt;/jats:title&gt;\\n           ...</td>\n",
       "      <td>journal-article</td>\n",
       "      <td>American Association for Cancer Research (AACR)</td>\n",
       "    </tr>\n",
       "    <tr>\n",
       "      <th>623153</th>\n",
       "      <td>20622</td>\n",
       "      <td>10.1158/1078-0432.ccr-21-1799</td>\n",
       "      <td>http://dx.doi.org/10.1158/1078-0432.ccr-21-1799</td>\n",
       "      <td>['A Grant-Based Experiment to Train Clinical I...</td>\n",
       "      <td>&lt;jats:title&gt;Abstract&lt;/jats:title&gt;\\n           ...</td>\n",
       "      <td>journal-article</td>\n",
       "      <td>American Association for Cancer Research (AACR)</td>\n",
       "    </tr>\n",
       "    <tr>\n",
       "      <th>623154</th>\n",
       "      <td>20623</td>\n",
       "      <td>10.1158/1078-0432.ccr-20-0418</td>\n",
       "      <td>http://dx.doi.org/10.1158/1078-0432.ccr-20-0418</td>\n",
       "      <td>['Genomic Methods Identify Homologous Recombin...</td>\n",
       "      <td>&lt;jats:title&gt;Abstract&lt;/jats:title&gt;\\n           ...</td>\n",
       "      <td>journal-article</td>\n",
       "      <td>American Association for Cancer Research (AACR)</td>\n",
       "    </tr>\n",
       "    <tr>\n",
       "      <th>623155</th>\n",
       "      <td>20624</td>\n",
       "      <td>10.1158/1055-9965.epi-18-0825</td>\n",
       "      <td>http://dx.doi.org/10.1158/1055-9965.epi-18-0825</td>\n",
       "      <td>['The Role of Access to a Regular Primary Care...</td>\n",
       "      <td>&lt;jats:title&gt;Abstract&lt;/jats:title&gt;\\n           ...</td>\n",
       "      <td>journal-article</td>\n",
       "      <td>American Association for Cancer Research (AACR)</td>\n",
       "    </tr>\n",
       "    <tr>\n",
       "      <th>623156</th>\n",
       "      <td>20625</td>\n",
       "      <td>10.1001/jamanetworkopen.2022.31798</td>\n",
       "      <td>http://dx.doi.org/10.1001/jamanetworkopen.2022...</td>\n",
       "      <td>['Acceptance of Different Self-sampling Method...</td>\n",
       "      <td>&lt;jats:sec&gt;&lt;jats:title&gt;Importance&lt;/jats:title&gt;&lt;...</td>\n",
       "      <td>journal-article</td>\n",
       "      <td>American Medical Association (AMA)</td>\n",
       "    </tr>\n",
       "  </tbody>\n",
       "</table>\n",
       "<p>623157 rows × 7 columns</p>\n",
       "</div>"
      ],
      "text/plain": [
       "        Unnamed: 0                                 DOI  \\\n",
       "0                0                  10.1039/d2py01123a   \n",
       "1                1                  10.1039/d2ay90073d   \n",
       "2                2                  10.1039/d2ay90114e   \n",
       "3                3                  10.1039/d1sm01329g   \n",
       "4                4                  10.1039/d2ra01482c   \n",
       "...            ...                                 ...   \n",
       "623152       20621       10.1158/1055-9965.epi-19-0681   \n",
       "623153       20622       10.1158/1078-0432.ccr-21-1799   \n",
       "623154       20623       10.1158/1078-0432.ccr-20-0418   \n",
       "623155       20624       10.1158/1055-9965.epi-18-0825   \n",
       "623156       20625  10.1001/jamanetworkopen.2022.31798   \n",
       "\n",
       "                                                      URL  \\\n",
       "0                    http://dx.doi.org/10.1039/d2py01123a   \n",
       "1                    http://dx.doi.org/10.1039/d2ay90073d   \n",
       "2                    http://dx.doi.org/10.1039/d2ay90114e   \n",
       "3                    http://dx.doi.org/10.1039/d1sm01329g   \n",
       "4                    http://dx.doi.org/10.1039/d2ra01482c   \n",
       "...                                                   ...   \n",
       "623152    http://dx.doi.org/10.1158/1055-9965.epi-19-0681   \n",
       "623153    http://dx.doi.org/10.1158/1078-0432.ccr-21-1799   \n",
       "623154    http://dx.doi.org/10.1158/1078-0432.ccr-20-0418   \n",
       "623155    http://dx.doi.org/10.1158/1055-9965.epi-18-0825   \n",
       "623156  http://dx.doi.org/10.1001/jamanetworkopen.2022...   \n",
       "\n",
       "                                                    Title  \\\n",
       "0       ['Towards degradable polyethylene: end-functio...   \n",
       "1       ['Outstanding Reviewers for <i>Analytical Meth...   \n",
       "2            ['Comparing measurement uncertainty values']   \n",
       "3       ['Measurements of interactions between fluores...   \n",
       "4       ['Grafting of thermotropic fluorinated mesogen...   \n",
       "...                                                   ...   \n",
       "623152  ['Harnessing Population Pedigree Data and Mach...   \n",
       "623153  ['A Grant-Based Experiment to Train Clinical I...   \n",
       "623154  ['Genomic Methods Identify Homologous Recombin...   \n",
       "623155  ['The Role of Access to a Regular Primary Care...   \n",
       "623156  ['Acceptance of Different Self-sampling Method...   \n",
       "\n",
       "                                                 Abstract             Type  \\\n",
       "0       <jats:p>The use of iron-catalysed chain growth...  journal-article   \n",
       "1       <jats:p>We would like to take this opportunity...  journal-article   \n",
       "2       <jats:p>Quoted values of measurement uncertain...  journal-article   \n",
       "3       <jats:p>We study the interactions between fluo...  journal-article   \n",
       "4       <jats:p>A series of polysiloxane grafted with ...  journal-article   \n",
       "...                                                   ...              ...   \n",
       "623152  <jats:title>Abstract</jats:title>\\n           ...  journal-article   \n",
       "623153  <jats:title>Abstract</jats:title>\\n           ...  journal-article   \n",
       "623154  <jats:title>Abstract</jats:title>\\n           ...  journal-article   \n",
       "623155  <jats:title>Abstract</jats:title>\\n           ...  journal-article   \n",
       "623156  <jats:sec><jats:title>Importance</jats:title><...  journal-article   \n",
       "\n",
       "                                              Publisher  \n",
       "0                      Royal Society of Chemistry (RSC)  \n",
       "1                      Royal Society of Chemistry (RSC)  \n",
       "2                      Royal Society of Chemistry (RSC)  \n",
       "3                      Royal Society of Chemistry (RSC)  \n",
       "4                      Royal Society of Chemistry (RSC)  \n",
       "...                                                 ...  \n",
       "623152  American Association for Cancer Research (AACR)  \n",
       "623153  American Association for Cancer Research (AACR)  \n",
       "623154  American Association for Cancer Research (AACR)  \n",
       "623155  American Association for Cancer Research (AACR)  \n",
       "623156               American Medical Association (AMA)  \n",
       "\n",
       "[623157 rows x 7 columns]"
      ]
     },
     "execution_count": 26,
     "metadata": {},
     "output_type": "execute_result"
    }
   ],
   "source": [
    "frame"
   ]
  },
  {
   "cell_type": "code",
   "execution_count": 27,
   "id": "6c8629c7",
   "metadata": {},
   "outputs": [
    {
     "data": {
      "text/plain": [
       "(6096181, 7)"
      ]
     },
     "execution_count": 27,
     "metadata": {},
     "output_type": "execute_result"
    }
   ],
   "source": [
    "df_net = pd.concat([frame,frame1,frame2, frame3,frame4], axis = 0).reset_index(drop = True)\n",
    "df_net.shape"
   ]
  },
  {
   "cell_type": "code",
   "execution_count": 28,
   "id": "25b6faa3",
   "metadata": {},
   "outputs": [
    {
     "data": {
      "text/plain": [
       "(1009997, 7)"
      ]
     },
     "execution_count": 28,
     "metadata": {},
     "output_type": "execute_result"
    }
   ],
   "source": [
    "df_ =  df_net.drop_duplicates().reset_index(drop = True)\n",
    "df_.shape"
   ]
  },
  {
   "cell_type": "code",
   "execution_count": 32,
   "id": "dbeed31b",
   "metadata": {},
   "outputs": [
    {
     "data": {
      "text/plain": [
       "'<jats:title>Abstract</jats:title>\\n               <jats:p>Reducing the fuel consumption of airplanes is one of the main research topics of the aero industry. Due to this, the bypass ratio in modern aero engines is increasing and the radial offset between the low pressure compressor (LPC) and the high pressure compressor (HPC) is getting larger. Motivated by shortening the length of the duct between the LPC and HPC, called the intermediate compressor duct (ICD), a workgroup from DLR Institute of Propulsion Technology, MTU Aero Engines AG and GKN Aerospace set up a measurement series in the new DLR ring cascade wind tunnel, that simulates a shorter and therefore aero-dynamically more aggressive s-shaped ICD. The setup consists of a full annulus channel. It provides 60 swirler blades which simulate the last rotor of the LPC, 120 LPC outlet guide vanes (OGV), 10 struts and 30 HPC inlet guide vanes (IGV). The airfoil counts are generic counts proposed for validation. Behind the OGV, there is a bleed air outlet which can be varied between 3% and 35% of the mass flow. This paper describes the highly instrumented test rig and its measurement techniques. We are able to analyze the specific flow behavior as well as determine the main ICD-performance parameter. Seven different measurement planes are located between the mentioned blade rows. The total state and the velocity (absolute value and directions) are among others measured in the plane. For each task and measurement location the best suited measurement method is selected. These are mainly multi hole probes in the main measurements planes, L2F in narrow places. The tests are conducted at eight different operating points, varying in Mach number, Reynolds number, bleed rate, stagger angle of swirler and HPC IGV. The high number of measurements leads to a profound understanding of the behavior of the ICD. The resulting conclusion is that in spite of the reduced axial length the flow through the aggressive s-shape of the ICD no separation occurs and therefore the desired performance is achieved.</jats:p>'"
      ]
     },
     "execution_count": 32,
     "metadata": {},
     "output_type": "execute_result"
    }
   ],
   "source": [
    "df_.Abstract[1000]"
   ]
  },
  {
   "cell_type": "code",
   "execution_count": 33,
   "id": "ef7b1a32",
   "metadata": {},
   "outputs": [],
   "source": [
    "#Abstract cleaning\n",
    "def deletespace(text):\n",
    "    text0 = text.replace(\"<jats:p>\",\"\" )\n",
    "    text1 =  text0.replace(\"</jats:p>\", '')\n",
    "    text2 = text1.replace('<jats:title>Abstract</jats:title>\\n', '')\n",
    "    text3 = text2.replace('<p>', \"\")\n",
    "    text4 = text3.replace('</p>', \"\")\n",
    "    text5 = text4.replace('\\n', \"\")\n",
    "    text6 = text5.replace(\"<jats:sec><jats:title>\", '')\n",
    "    text7 = text6.replace(\"</jats:title>\",'')\n",
    "    \n",
    "    return text5"
   ]
  },
  {
   "cell_type": "code",
   "execution_count": 34,
   "id": "17aaca08",
   "metadata": {},
   "outputs": [],
   "source": [
    "import time"
   ]
  },
  {
   "cell_type": "code",
   "execution_count": 35,
   "id": "2decf60d",
   "metadata": {},
   "outputs": [
    {
     "name": "stdout",
     "output_type": "stream",
     "text": [
      "CPU times: user 2.46 s, sys: 28 ms, total: 2.49 s\n",
      "Wall time: 2.49 s\n"
     ]
    }
   ],
   "source": [
    "%%time\n",
    "df_['Abstract'] =  df_['Abstract'].apply(deletespace)"
   ]
  },
  {
   "cell_type": "code",
   "execution_count": 39,
   "id": "548e1973",
   "metadata": {},
   "outputs": [
    {
     "data": {
      "text/plain": [
       "'<jats:sec><jats:title>Background and objectives</jats:title>Identifying novel biomarkers is critical to advancing diagnosis and treatment of CKD, but relies heavily on the statistical methods used. Inappropriate methods can lead to both false positive and false negative associations between biomarkers and outcomes. This study assessed accuracy of methods using computer simulations and compared biomarker association estimates in the NEPhrotic syndrome sTUdy NEtwork (NEPTUNE), a prospective cohort study of patients with glomerular disease.</jats:sec><jats:sec><jats:title>Design, setting, participants, &amp; measurements</jats:title>We compared three methods for analyzing repeatedly measured biomarkers in proportional hazards models: (<jats:italic>1</jats:italic>) time-invariant average, that averages values over all follow-up and uses the average as a baseline covariate, (<jats:italic>2</jats:italic>) time-varying last observation carried forward (LOCF), that assumes the covariate is unchanged until the next observed value, and (<jats:italic>3</jats:italic>) time-varying cumulative average, that updates the average using values at or before each measurement.</jats:sec><jats:sec><jats:title>Results</jats:title>Under both true mechanisms of LOCF and cumulative average, simulation results showed the time-invariant average method often gave extremely inaccurate results. When LOCF was the true association mechanism, the cumulative average method often gave overestimated association estimates that were further away from the null. When cumulative average was the true mechanism, LOCF always underestimated the associations, <jats:italic>i.e.</jats:italic>, closer to the null. In NEPTUNE, compared with the LOCF or cumulative average methods, hazard ratios estimated from the time-invariant average method were always higher.</jats:sec><jats:sec><jats:title>Conclusions</jats:title>Different analytic methods resulted in markedly different results. Using the time-invariant average produces inaccurate association estimates, whereas other methods can estimate additive (cumulative average) or instantaneous (LOCF) associations depending on the hypothesized underlying association mechanism and research question.</jats:sec>'"
      ]
     },
     "execution_count": 39,
     "metadata": {},
     "output_type": "execute_result"
    }
   ],
   "source": [
    "df_.Abstract[103344]"
   ]
  },
  {
   "cell_type": "code",
   "execution_count": 30,
   "id": "0153d639",
   "metadata": {},
   "outputs": [
    {
     "data": {
      "text/plain": [
       "(Index(['Unnamed: 0', 'DOI', 'URL', 'Title', 'Abstract', 'Type', 'Publisher'], dtype='object'),\n",
       " 20626)"
      ]
     },
     "execution_count": 30,
     "metadata": {},
     "output_type": "execute_result"
    }
   ],
   "source": [
    "df.columns, len(df)"
   ]
  },
  {
   "cell_type": "code",
   "execution_count": 31,
   "id": "33e2ecb0",
   "metadata": {},
   "outputs": [
    {
     "data": {
      "text/plain": [
       "Royal Society of Chemistry (RSC)                   367921\n",
       "American Society of Mechanical Engineers           150727\n",
       "The Royal Society                                    7351\n",
       "Royal College of Psychiatrists                       5742\n",
       "International Glaciological Society                  3753\n",
       "                                                    ...  \n",
       "Institute of Organic Chemistry & Biochemistry          13\n",
       "Society of Ethnobiology                                 7\n",
       "Information Society Research                            3\n",
       "Croatian Communications and Information Society         3\n",
       "American Animal Hospital Association                    3\n",
       "Name: Publisher, Length: 261, dtype: int64"
      ]
     },
     "execution_count": 31,
     "metadata": {},
     "output_type": "execute_result"
    }
   ],
   "source": [
    "frame.Publisher.value_counts()"
   ]
  },
  {
   "cell_type": "code",
   "execution_count": null,
   "id": "5145715f",
   "metadata": {},
   "outputs": [],
   "source": []
  }
 ],
 "metadata": {
  "kernelspec": {
   "display_name": "bart1",
   "language": "python",
   "name": "bart1"
  },
  "language_info": {
   "codemirror_mode": {
    "name": "ipython",
    "version": 3
   },
   "file_extension": ".py",
   "mimetype": "text/x-python",
   "name": "python",
   "nbconvert_exporter": "python",
   "pygments_lexer": "ipython3",
   "version": "3.7.13"
  }
 },
 "nbformat": 4,
 "nbformat_minor": 5
}

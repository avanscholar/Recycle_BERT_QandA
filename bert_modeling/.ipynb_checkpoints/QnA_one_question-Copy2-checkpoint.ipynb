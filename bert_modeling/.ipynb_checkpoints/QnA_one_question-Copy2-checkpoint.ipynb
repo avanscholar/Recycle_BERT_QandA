{
 "cells": [
  {
   "cell_type": "code",
   "execution_count": 4,
   "id": "de471466",
   "metadata": {},
   "outputs": [],
   "source": [
    "import json\n",
    "with open(r'/home/user3/Documents/avan_phd/Objective_3/Objective_3_QnA/data/data qna/data_individual/with_dupli/cat_train_full_1.json', \"r\") as read_file:\n",
    "    full = json.load(read_file)"
   ]
  },
  {
   "cell_type": "code",
   "execution_count": 5,
   "id": "f4c8a842",
   "metadata": {},
   "outputs": [
    {
     "data": {
      "text/plain": [
       "264"
      ]
     },
     "execution_count": 5,
     "metadata": {},
     "output_type": "execute_result"
    }
   ],
   "source": [
    "len(full)"
   ]
  },
  {
   "cell_type": "code",
   "execution_count": 6,
   "id": "efaa6c39",
   "metadata": {},
   "outputs": [],
   "source": [
    "# with open(r'/home/user3/Documents/avan_phd/objective_escape/data/data_qna/cat_test.json', \"r\") as read_file:\n",
    "#     test = json.load(read_file)\n",
    "\n",
    "from sklearn.model_selection import train_test_split\n",
    "\n",
    "train, _ = train_test_split(full, test_size=0.30, random_state=2)\n",
    "valid, test = train_test_split(_, test_size=0.50, random_state=2)"
   ]
  },
  {
   "cell_type": "code",
   "execution_count": 7,
   "id": "3000de06",
   "metadata": {},
   "outputs": [],
   "source": [
    "import logging\n",
    "\n",
    "from simpletransformers.question_answering import QuestionAnsweringModel, QuestionAnsweringArgs\n",
    "\n",
    "\n",
    "# from transformers import AutoTokenizer, AutoModelForQuestionAnswering\n",
    "\n",
    "# tokenizer = AutoTokenizer.from_pretrained(\"ixa-ehu/SciBERT-SQuAD-QuAC\")\n",
    "\n",
    "# model = AutoModelForQuestionAnswering.from_pretrained(\"ixa-ehu/SciBERT-SQuAD-QuAC\")"
   ]
  },
  {
   "cell_type": "code",
   "execution_count": 8,
   "id": "beaee80d",
   "metadata": {},
   "outputs": [],
   "source": [
    "model_type=\"bert\"\n",
    "model_name= \"bert-base-cased\"\n",
    "if model_type == \"bert\":\n",
    "    model_name = \"bert-base-cased\"\n",
    "\n",
    "elif model_type == \"roberta\":\n",
    "    model_name = \"roberta-base\"\n",
    "\n",
    "elif model_type == \"distilbert\":\n",
    "    model_name = \"distilbert-base-cased\"\n",
    "\n",
    "elif model_type == \"distilroberta\":\n",
    "    model_type = \"roberta\"\n",
    "    model_name = \"distilroberta-base\"\n",
    "\n",
    "elif model_type == \"electra-base\":\n",
    "    model_type = \"electra\"\n",
    "    model_name = \"google/electra-base-discriminator\"\n",
    "\n",
    "elif model_type == \"electra-small\":\n",
    "    model_type = \"electra\"\n",
    "    model_name = \"google/electra-small-discriminator\"\n",
    "\n",
    "elif model_type == \"xlnet\":\n",
    "    model_name = \"xlnet-base-cased\""
   ]
  },
  {
   "cell_type": "code",
   "execution_count": 9,
   "id": "5a3c517e",
   "metadata": {},
   "outputs": [],
   "source": [
    "# Configure the model \n",
    "model_args = QuestionAnsweringArgs()\n",
    "model_args.train_batch_size = 16\n",
    "model_args.evaluate_during_training = True\n",
    "model_args.n_best_size=3\n",
    "model_args.num_train_epochs=5\n"
   ]
  },
  {
   "cell_type": "code",
   "execution_count": 10,
   "id": "cbdd54c5",
   "metadata": {},
   "outputs": [],
   "source": [
    "# !pip install wandb\n",
    "model_args.loss_type"
   ]
  },
  {
   "cell_type": "code",
   "execution_count": 11,
   "id": "b43906e7",
   "metadata": {},
   "outputs": [
    {
     "data": {
      "text/plain": [
       "['__annotations__',\n",
       " '__class__',\n",
       " '__dataclass_fields__',\n",
       " '__dataclass_params__',\n",
       " '__delattr__',\n",
       " '__dict__',\n",
       " '__dir__',\n",
       " '__doc__',\n",
       " '__eq__',\n",
       " '__format__',\n",
       " '__ge__',\n",
       " '__getattribute__',\n",
       " '__gt__',\n",
       " '__hash__',\n",
       " '__init__',\n",
       " '__init_subclass__',\n",
       " '__le__',\n",
       " '__lt__',\n",
       " '__module__',\n",
       " '__ne__',\n",
       " '__new__',\n",
       " '__reduce__',\n",
       " '__reduce_ex__',\n",
       " '__repr__',\n",
       " '__setattr__',\n",
       " '__sizeof__',\n",
       " '__str__',\n",
       " '__subclasshook__',\n",
       " '__weakref__',\n",
       " 'adafactor_beta1',\n",
       " 'adafactor_clip_threshold',\n",
       " 'adafactor_decay_rate',\n",
       " 'adafactor_eps',\n",
       " 'adafactor_relative_step',\n",
       " 'adafactor_scale_parameter',\n",
       " 'adafactor_warmup_init',\n",
       " 'adam_betas',\n",
       " 'adam_epsilon',\n",
       " 'best_model_dir',\n",
       " 'cache_dir',\n",
       " 'config',\n",
       " 'cosine_schedule_num_cycles',\n",
       " 'custom_layer_parameters',\n",
       " 'custom_parameter_groups',\n",
       " 'dataloader_num_workers',\n",
       " 'do_lower_case',\n",
       " 'doc_stride',\n",
       " 'dynamic_quantize',\n",
       " 'early_stopping_consider_epochs',\n",
       " 'early_stopping_delta',\n",
       " 'early_stopping_metric',\n",
       " 'early_stopping_metric_minimize',\n",
       " 'early_stopping_patience',\n",
       " 'encoding',\n",
       " 'eval_batch_size',\n",
       " 'evaluate_during_training',\n",
       " 'evaluate_during_training_silent',\n",
       " 'evaluate_during_training_steps',\n",
       " 'evaluate_during_training_verbose',\n",
       " 'evaluate_each_epoch',\n",
       " 'fp16',\n",
       " 'get_args_for_saving',\n",
       " 'gradient_accumulation_steps',\n",
       " 'lazy_loading',\n",
       " 'learning_rate',\n",
       " 'load',\n",
       " 'local_rank',\n",
       " 'logging_steps',\n",
       " 'loss_args',\n",
       " 'loss_type',\n",
       " 'manual_seed',\n",
       " 'max_answer_length',\n",
       " 'max_grad_norm',\n",
       " 'max_query_length',\n",
       " 'max_seq_length',\n",
       " 'model_class',\n",
       " 'model_name',\n",
       " 'model_type',\n",
       " 'multiprocessing_chunksize',\n",
       " 'n_best_size',\n",
       " 'n_gpu',\n",
       " 'no_cache',\n",
       " 'no_save',\n",
       " 'not_saved_args',\n",
       " 'null_score_diff_threshold',\n",
       " 'num_train_epochs',\n",
       " 'optimizer',\n",
       " 'output_dir',\n",
       " 'overwrite_output_dir',\n",
       " 'polynomial_decay_schedule_lr_end',\n",
       " 'polynomial_decay_schedule_power',\n",
       " 'process_count',\n",
       " 'quantized_model',\n",
       " 'reprocess_input_data',\n",
       " 'save',\n",
       " 'save_best_model',\n",
       " 'save_eval_checkpoints',\n",
       " 'save_model_every_epoch',\n",
       " 'save_optimizer_and_scheduler',\n",
       " 'save_steps',\n",
       " 'scheduler',\n",
       " 'silent',\n",
       " 'skip_special_tokens',\n",
       " 'special_tokens_list',\n",
       " 'tensorboard_dir',\n",
       " 'thread_count',\n",
       " 'tokenizer_name',\n",
       " 'tokenizer_type',\n",
       " 'train_batch_size',\n",
       " 'train_custom_parameters_only',\n",
       " 'update_from_dict',\n",
       " 'use_cached_eval_features',\n",
       " 'use_early_stopping',\n",
       " 'use_hf_datasets',\n",
       " 'use_multiprocessing',\n",
       " 'use_multiprocessing_for_evaluation',\n",
       " 'wandb_kwargs',\n",
       " 'wandb_project',\n",
       " 'warmup_ratio',\n",
       " 'warmup_steps',\n",
       " 'weight_decay']"
      ]
     },
     "execution_count": 11,
     "metadata": {},
     "output_type": "execute_result"
    }
   ],
   "source": [
    "dir(model_args)"
   ]
  },
  {
   "cell_type": "code",
   "execution_count": 35,
   "id": "5b87f3bd",
   "metadata": {},
   "outputs": [],
   "source": [
    "### Advanced Methodology\n",
    "train_args = {\n",
    "    \"reprocess_input_data\": True,\n",
    "    \"overwrite_output_dir\": True,\n",
    "    \"use_cached_eval_features\": True,\n",
    "    \"output_dir\": f\"outputs/{model_type}\",\n",
    "    \"best_model_dir\": f\"outputs/{model_type}/best_model\",\n",
    "    \"evaluate_during_training\": True,\n",
    "    \"max_seq_length\": 128,\n",
    "    \"num_train_epochs\": 25,\n",
    "    \"evaluate_during_training_steps\": 1000,\n",
    "    \"wandb_project\": \"Question Answer Application\",\n",
    "    \"wandb_kwargs\": {\"name\": model_name},\n",
    "    \"save_model_every_epoch\": False,\n",
    "    \"save_eval_checkpoints\": False,\n",
    "    \"n_best_size\":5,\n",
    "    \"use_early_stopping\": True,\n",
    "    # \"early_stopping_metric\": \"mcc\",\n",
    "    # \"n_gpu\": 2,\n",
    "    # \"manual_seed\": 4,\n",
    "    # \"use_multiprocessing\": False,\n",
    "    \"train_batch_size\": 128,\n",
    "    \"eval_batch_size\": 64,\n",
    "    # \"config\": {\n",
    "    #     \"output_hidden_states\": True\n",
    "    # }\n",
    "}"
   ]
  },
  {
   "cell_type": "code",
   "execution_count": 36,
   "id": "76b2870e",
   "metadata": {},
   "outputs": [
    {
     "name": "stdout",
     "output_type": "stream",
     "text": [
      "Working on cuda:0\n"
     ]
    }
   ],
   "source": [
    "# train\n",
    "\n",
    "\n",
    "import torch\n",
    "# Check on the available device - use GPU\n",
    "device = torch.device('cuda:0') if torch.cuda.is_available() else torch.device('cpu')\n",
    "print(f'Working on {device}')"
   ]
  },
  {
   "cell_type": "code",
   "execution_count": 37,
   "id": "2185bbed",
   "metadata": {},
   "outputs": [
    {
     "name": "stderr",
     "output_type": "stream",
     "text": [
      "Some weights of the model checkpoint at bert-base-cased were not used when initializing BertForQuestionAnswering: ['cls.predictions.transform.dense.bias', 'cls.seq_relationship.weight', 'cls.predictions.bias', 'cls.predictions.decoder.weight', 'cls.predictions.transform.dense.weight', 'cls.predictions.transform.LayerNorm.weight', 'cls.predictions.transform.LayerNorm.bias', 'cls.seq_relationship.bias']\n",
      "- This IS expected if you are initializing BertForQuestionAnswering from the checkpoint of a model trained on another task or with another architecture (e.g. initializing a BertForSequenceClassification model from a BertForPreTraining model).\n",
      "- This IS NOT expected if you are initializing BertForQuestionAnswering from the checkpoint of a model that you expect to be exactly identical (initializing a BertForSequenceClassification model from a BertForSequenceClassification model).\n",
      "Some weights of BertForQuestionAnswering were not initialized from the model checkpoint at bert-base-cased and are newly initialized: ['qa_outputs.weight', 'qa_outputs.bias']\n",
      "You should probably TRAIN this model on a down-stream task to be able to use it for predictions and inference.\n"
     ]
    }
   ],
   "source": [
    "model = QuestionAnsweringModel(\n",
    "    model_type,  model_name, args=train_args,use_cuda=True, cuda_device=0\n",
    ")"
   ]
  },
  {
   "cell_type": "code",
   "execution_count": 38,
   "id": "6a51d9a4",
   "metadata": {},
   "outputs": [],
   "source": [
    "### Remove output folder\n",
    "!rm -rf outputs"
   ]
  },
  {
   "cell_type": "code",
   "execution_count": 39,
   "id": "896d3640",
   "metadata": {},
   "outputs": [],
   "source": [
    "#!wandb login --relogin\n",
    "#!pip install wandb --upgrade"
   ]
  },
  {
   "cell_type": "code",
   "execution_count": 40,
   "id": "8a89fba1",
   "metadata": {},
   "outputs": [
    {
     "name": "stderr",
     "output_type": "stream",
     "text": [
      "convert squad examples to features: 100%|███████████████████████████| 184/184 [00:01<00:00, 149.81it/s]\n",
      "add example index and unique id: 100%|███████████████████████████| 184/184 [00:00<00:00, 324265.52it/s]\n"
     ]
    },
    {
     "data": {
      "application/vnd.jupyter.widget-view+json": {
       "model_id": "983e0f4e0c424619b2b4fc0b1df3d39f",
       "version_major": 2,
       "version_minor": 0
      },
      "text/plain": [
       "Epoch:   0%|          | 0/25 [00:00<?, ?it/s]"
      ]
     },
     "metadata": {},
     "output_type": "display_data"
    },
    {
     "data": {
      "text/html": [
       "Finishing last run (ID:36md7asy) before initializing another..."
      ],
      "text/plain": [
       "<IPython.core.display.HTML object>"
      ]
     },
     "metadata": {},
     "output_type": "display_data"
    },
    {
     "data": {
      "text/html": [
       "Waiting for W&B process to finish... <strong style=\"color:green\">(success).</strong>"
      ],
      "text/plain": [
       "<IPython.core.display.HTML object>"
      ]
     },
     "metadata": {},
     "output_type": "display_data"
    },
    {
     "data": {
      "text/html": [
       "<style>\n",
       "    table.wandb td:nth-child(1) { padding: 0 10px; text-align: left ; width: auto;} td:nth-child(2) {text-align: left ; width: 100%}\n",
       "    .wandb-row { display: flex; flex-direction: row; flex-wrap: wrap; justify-content: flex-start; width: 100% }\n",
       "    .wandb-col { display: flex; flex-direction: column; flex-basis: 100%; flex: 1; padding: 10px; }\n",
       "    </style>\n",
       "<div class=\"wandb-row\"><div class=\"wandb-col\"><h3>Run history:</h3><br/><table class=\"wandb\"><tr><td>Training loss</td><td>▁</td></tr><tr><td>correct</td><td>▁▅▅▅▅▅▅▅▆▇▇▇▇▇▇▇▇▇███████</td></tr><tr><td>eval_loss</td><td>██▇▇▇▆▆▆▅▄▃▃▃▂▂▂▂▂▁▁▁▁▁▁▁</td></tr><tr><td>global_step</td><td>▁▁▂▂▂▂▃▃▃▄▄▄▅▅▅▅▆▆▆▇▇▇▇███</td></tr><tr><td>incorrect</td><td>█▁▁▁▁▁▁▁▁▂▂▂▂▂▁▁▁▁▁▁▂▂▂▂▂</td></tr><tr><td>lr</td><td>▁</td></tr><tr><td>similar</td><td>█▇▇▇▇▇▇▇▆▃▁▂▁▁▃▃▃▃▁▁▁▁▁▁▁</td></tr><tr><td>train_loss</td><td>██▆▅▄▃▃▂▂▂▂▂▁▁▁▁▁▁▁▁▁▁▁▁▁</td></tr></table><br/></div><div class=\"wandb-col\"><h3>Run summary:</h3><br/><table class=\"wandb\"><tr><td>Training loss</td><td>0.0686</td></tr><tr><td>correct</td><td>27</td></tr><tr><td>eval_loss</td><td>-5.15234</td></tr><tr><td>global_step</td><td>50</td></tr><tr><td>incorrect</td><td>2</td></tr><tr><td>lr</td><td>0.0</td></tr><tr><td>similar</td><td>11</td></tr><tr><td>train_loss</td><td>0.0686</td></tr></table><br/></div></div>"
      ],
      "text/plain": [
       "<IPython.core.display.HTML object>"
      ]
     },
     "metadata": {},
     "output_type": "display_data"
    },
    {
     "data": {
      "text/html": [
       "Synced <strong style=\"color:#cdcd00\">bert-base-cased</strong>: <a href=\"https://wandb.ai/kumaravon30/Question%20Answer%20Application/runs/36md7asy\" target=\"_blank\">https://wandb.ai/kumaravon30/Question%20Answer%20Application/runs/36md7asy</a><br/>Synced 6 W&B file(s), 0 media file(s), 0 artifact file(s) and 0 other file(s)"
      ],
      "text/plain": [
       "<IPython.core.display.HTML object>"
      ]
     },
     "metadata": {},
     "output_type": "display_data"
    },
    {
     "data": {
      "text/html": [
       "Find logs at: <code>./wandb/run-20221208_135844-36md7asy/logs</code>"
      ],
      "text/plain": [
       "<IPython.core.display.HTML object>"
      ]
     },
     "metadata": {},
     "output_type": "display_data"
    },
    {
     "data": {
      "text/html": [
       "Successfully finished last run (ID:36md7asy). Initializing new run:<br/>"
      ],
      "text/plain": [
       "<IPython.core.display.HTML object>"
      ]
     },
     "metadata": {},
     "output_type": "display_data"
    },
    {
     "data": {
      "application/vnd.jupyter.widget-view+json": {
       "model_id": "4a7d036103b1452191cb1c8f154ad513",
       "version_major": 2,
       "version_minor": 0
      },
      "text/plain": [
       "VBox(children=(Label(value='Waiting for wandb.init()...\\r'), FloatProgress(value=0.016670056632331884, max=1.0…"
      ]
     },
     "metadata": {},
     "output_type": "display_data"
    },
    {
     "data": {
      "text/html": [
       "wandb version 0.13.6 is available!  To upgrade, please run:\n",
       " $ pip install wandb --upgrade"
      ],
      "text/plain": [
       "<IPython.core.display.HTML object>"
      ]
     },
     "metadata": {},
     "output_type": "display_data"
    },
    {
     "data": {
      "text/html": [
       "Tracking run with wandb version 0.13.5"
      ],
      "text/plain": [
       "<IPython.core.display.HTML object>"
      ]
     },
     "metadata": {},
     "output_type": "display_data"
    },
    {
     "data": {
      "text/html": [
       "Run data is saved locally in <code>/home/user3/Documents/avan_phd/Objective_3/Objective_3_QnA/bert_modeling/wandb/run-20221208_141404-3uhecq22</code>"
      ],
      "text/plain": [
       "<IPython.core.display.HTML object>"
      ]
     },
     "metadata": {},
     "output_type": "display_data"
    },
    {
     "data": {
      "text/html": [
       "Syncing run <strong><a href=\"https://wandb.ai/kumaravon30/Question%20Answer%20Application/runs/3uhecq22\" target=\"_blank\">bert-base-cased</a></strong> to <a href=\"https://wandb.ai/kumaravon30/Question%20Answer%20Application\" target=\"_blank\">Weights & Biases</a> (<a href=\"https://wandb.me/run\" target=\"_blank\">docs</a>)<br/>"
      ],
      "text/plain": [
       "<IPython.core.display.HTML object>"
      ]
     },
     "metadata": {},
     "output_type": "display_data"
    },
    {
     "data": {
      "application/vnd.jupyter.widget-view+json": {
       "model_id": "9b70b31a3b724621bde1f4cafc48cc74",
       "version_major": 2,
       "version_minor": 0
      },
      "text/plain": [
       "Running Epoch 0 of 25:   0%|          | 0/2 [00:00<?, ?it/s]"
      ]
     },
     "metadata": {},
     "output_type": "display_data"
    },
    {
     "data": {
      "application/vnd.jupyter.widget-view+json": {
       "model_id": "783c16603283436aa7af06e724d2b2b9",
       "version_major": 2,
       "version_minor": 0
      },
      "text/plain": [
       "Running Evaluation:   0%|          | 0/1 [00:00<?, ?it/s]"
      ]
     },
     "metadata": {},
     "output_type": "display_data"
    },
    {
     "data": {
      "application/vnd.jupyter.widget-view+json": {
       "model_id": "52120e6d8fd84d07ae396751ec83ecb7",
       "version_major": 2,
       "version_minor": 0
      },
      "text/plain": [
       "Running Epoch 1 of 25:   0%|          | 0/2 [00:00<?, ?it/s]"
      ]
     },
     "metadata": {},
     "output_type": "display_data"
    },
    {
     "data": {
      "application/vnd.jupyter.widget-view+json": {
       "model_id": "4167427c3dfb45b39f85281c9ad791d4",
       "version_major": 2,
       "version_minor": 0
      },
      "text/plain": [
       "Running Evaluation:   0%|          | 0/1 [00:00<?, ?it/s]"
      ]
     },
     "metadata": {},
     "output_type": "display_data"
    },
    {
     "data": {
      "application/vnd.jupyter.widget-view+json": {
       "model_id": "d6eb2d32e4da44dbac5318c61759c7e3",
       "version_major": 2,
       "version_minor": 0
      },
      "text/plain": [
       "Running Epoch 2 of 25:   0%|          | 0/2 [00:00<?, ?it/s]"
      ]
     },
     "metadata": {},
     "output_type": "display_data"
    },
    {
     "data": {
      "application/vnd.jupyter.widget-view+json": {
       "model_id": "8437a9f564d342a99f8006dcb30a4504",
       "version_major": 2,
       "version_minor": 0
      },
      "text/plain": [
       "Running Evaluation:   0%|          | 0/1 [00:00<?, ?it/s]"
      ]
     },
     "metadata": {},
     "output_type": "display_data"
    },
    {
     "data": {
      "application/vnd.jupyter.widget-view+json": {
       "model_id": "a9164110736e4ea393fc8763af2acbc1",
       "version_major": 2,
       "version_minor": 0
      },
      "text/plain": [
       "Running Epoch 3 of 25:   0%|          | 0/2 [00:00<?, ?it/s]"
      ]
     },
     "metadata": {},
     "output_type": "display_data"
    },
    {
     "data": {
      "application/vnd.jupyter.widget-view+json": {
       "model_id": "e4598e1760934c69989084662833d83c",
       "version_major": 2,
       "version_minor": 0
      },
      "text/plain": [
       "Running Evaluation:   0%|          | 0/1 [00:00<?, ?it/s]"
      ]
     },
     "metadata": {},
     "output_type": "display_data"
    },
    {
     "data": {
      "application/vnd.jupyter.widget-view+json": {
       "model_id": "cd68e97bfe3d496087f5676d04d09d55",
       "version_major": 2,
       "version_minor": 0
      },
      "text/plain": [
       "Running Epoch 4 of 25:   0%|          | 0/2 [00:00<?, ?it/s]"
      ]
     },
     "metadata": {},
     "output_type": "display_data"
    },
    {
     "data": {
      "application/vnd.jupyter.widget-view+json": {
       "model_id": "78aeb0239d84442aa1fc0e9e1a956021",
       "version_major": 2,
       "version_minor": 0
      },
      "text/plain": [
       "Running Evaluation:   0%|          | 0/1 [00:00<?, ?it/s]"
      ]
     },
     "metadata": {},
     "output_type": "display_data"
    },
    {
     "data": {
      "application/vnd.jupyter.widget-view+json": {
       "model_id": "c73ed5613fe84598bd4e5084cfc48c9f",
       "version_major": 2,
       "version_minor": 0
      },
      "text/plain": [
       "Running Epoch 5 of 25:   0%|          | 0/2 [00:00<?, ?it/s]"
      ]
     },
     "metadata": {},
     "output_type": "display_data"
    },
    {
     "data": {
      "application/vnd.jupyter.widget-view+json": {
       "model_id": "8f528d17ca8a419d8b50d0591017e6da",
       "version_major": 2,
       "version_minor": 0
      },
      "text/plain": [
       "Running Evaluation:   0%|          | 0/1 [00:00<?, ?it/s]"
      ]
     },
     "metadata": {},
     "output_type": "display_data"
    },
    {
     "data": {
      "application/vnd.jupyter.widget-view+json": {
       "model_id": "cea8dd47e0d541ce8d1bc887732b0335",
       "version_major": 2,
       "version_minor": 0
      },
      "text/plain": [
       "Running Epoch 6 of 25:   0%|          | 0/2 [00:00<?, ?it/s]"
      ]
     },
     "metadata": {},
     "output_type": "display_data"
    },
    {
     "data": {
      "application/vnd.jupyter.widget-view+json": {
       "model_id": "09f6229056ac4a07beb73702cb858bea",
       "version_major": 2,
       "version_minor": 0
      },
      "text/plain": [
       "Running Evaluation:   0%|          | 0/1 [00:00<?, ?it/s]"
      ]
     },
     "metadata": {},
     "output_type": "display_data"
    },
    {
     "data": {
      "application/vnd.jupyter.widget-view+json": {
       "model_id": "b255e84a90a5413884fe94ed55c3105f",
       "version_major": 2,
       "version_minor": 0
      },
      "text/plain": [
       "Running Epoch 7 of 25:   0%|          | 0/2 [00:00<?, ?it/s]"
      ]
     },
     "metadata": {},
     "output_type": "display_data"
    },
    {
     "data": {
      "application/vnd.jupyter.widget-view+json": {
       "model_id": "db06f215815e4f4ea89e8c30ec72c011",
       "version_major": 2,
       "version_minor": 0
      },
      "text/plain": [
       "Running Evaluation:   0%|          | 0/1 [00:00<?, ?it/s]"
      ]
     },
     "metadata": {},
     "output_type": "display_data"
    },
    {
     "data": {
      "application/vnd.jupyter.widget-view+json": {
       "model_id": "2078dc00fb8541f0be34071b9a2193ac",
       "version_major": 2,
       "version_minor": 0
      },
      "text/plain": [
       "Running Epoch 8 of 25:   0%|          | 0/2 [00:00<?, ?it/s]"
      ]
     },
     "metadata": {},
     "output_type": "display_data"
    },
    {
     "data": {
      "application/vnd.jupyter.widget-view+json": {
       "model_id": "657402720c41443c966f2dc0a08613ac",
       "version_major": 2,
       "version_minor": 0
      },
      "text/plain": [
       "Running Evaluation:   0%|          | 0/1 [00:00<?, ?it/s]"
      ]
     },
     "metadata": {},
     "output_type": "display_data"
    },
    {
     "data": {
      "application/vnd.jupyter.widget-view+json": {
       "model_id": "8892d61072784c8793e7f176b8f20dca",
       "version_major": 2,
       "version_minor": 0
      },
      "text/plain": [
       "Running Epoch 9 of 25:   0%|          | 0/2 [00:00<?, ?it/s]"
      ]
     },
     "metadata": {},
     "output_type": "display_data"
    },
    {
     "data": {
      "application/vnd.jupyter.widget-view+json": {
       "model_id": "4f611778eec44b9cb5e949b9f9c7530c",
       "version_major": 2,
       "version_minor": 0
      },
      "text/plain": [
       "Running Evaluation:   0%|          | 0/1 [00:00<?, ?it/s]"
      ]
     },
     "metadata": {},
     "output_type": "display_data"
    },
    {
     "data": {
      "application/vnd.jupyter.widget-view+json": {
       "model_id": "22b5e624c2a14701b50fe8e767f2c633",
       "version_major": 2,
       "version_minor": 0
      },
      "text/plain": [
       "Running Epoch 10 of 25:   0%|          | 0/2 [00:00<?, ?it/s]"
      ]
     },
     "metadata": {},
     "output_type": "display_data"
    },
    {
     "data": {
      "application/vnd.jupyter.widget-view+json": {
       "model_id": "ef6e99d795d6418589032d4ea2309656",
       "version_major": 2,
       "version_minor": 0
      },
      "text/plain": [
       "Running Evaluation:   0%|          | 0/1 [00:00<?, ?it/s]"
      ]
     },
     "metadata": {},
     "output_type": "display_data"
    },
    {
     "data": {
      "application/vnd.jupyter.widget-view+json": {
       "model_id": "86e774c80274420aa724b115f8bd8b55",
       "version_major": 2,
       "version_minor": 0
      },
      "text/plain": [
       "Running Epoch 11 of 25:   0%|          | 0/2 [00:00<?, ?it/s]"
      ]
     },
     "metadata": {},
     "output_type": "display_data"
    },
    {
     "data": {
      "application/vnd.jupyter.widget-view+json": {
       "model_id": "34122753d75d4376bde34ee2518f3d62",
       "version_major": 2,
       "version_minor": 0
      },
      "text/plain": [
       "Running Evaluation:   0%|          | 0/1 [00:00<?, ?it/s]"
      ]
     },
     "metadata": {},
     "output_type": "display_data"
    },
    {
     "data": {
      "application/vnd.jupyter.widget-view+json": {
       "model_id": "e2935f6fa1dc4c1ba6f23f039b5457fb",
       "version_major": 2,
       "version_minor": 0
      },
      "text/plain": [
       "Running Epoch 12 of 25:   0%|          | 0/2 [00:00<?, ?it/s]"
      ]
     },
     "metadata": {},
     "output_type": "display_data"
    },
    {
     "data": {
      "application/vnd.jupyter.widget-view+json": {
       "model_id": "4b717aba371048399d8627314b6b38dd",
       "version_major": 2,
       "version_minor": 0
      },
      "text/plain": [
       "Running Evaluation:   0%|          | 0/1 [00:00<?, ?it/s]"
      ]
     },
     "metadata": {},
     "output_type": "display_data"
    },
    {
     "data": {
      "application/vnd.jupyter.widget-view+json": {
       "model_id": "aed0b429e2884e2eb2a6edbd0479aee7",
       "version_major": 2,
       "version_minor": 0
      },
      "text/plain": [
       "Running Epoch 13 of 25:   0%|          | 0/2 [00:00<?, ?it/s]"
      ]
     },
     "metadata": {},
     "output_type": "display_data"
    },
    {
     "data": {
      "application/vnd.jupyter.widget-view+json": {
       "model_id": "85c3b40bac644ea1ab164686403635fb",
       "version_major": 2,
       "version_minor": 0
      },
      "text/plain": [
       "Running Evaluation:   0%|          | 0/1 [00:00<?, ?it/s]"
      ]
     },
     "metadata": {},
     "output_type": "display_data"
    },
    {
     "data": {
      "application/vnd.jupyter.widget-view+json": {
       "model_id": "59437ef0284549aeb59575a27920049a",
       "version_major": 2,
       "version_minor": 0
      },
      "text/plain": [
       "Running Epoch 14 of 25:   0%|          | 0/2 [00:00<?, ?it/s]"
      ]
     },
     "metadata": {},
     "output_type": "display_data"
    },
    {
     "data": {
      "application/vnd.jupyter.widget-view+json": {
       "model_id": "0708f5f5eee84b4a8e8a77d8a95a18c5",
       "version_major": 2,
       "version_minor": 0
      },
      "text/plain": [
       "Running Evaluation:   0%|          | 0/1 [00:00<?, ?it/s]"
      ]
     },
     "metadata": {},
     "output_type": "display_data"
    },
    {
     "data": {
      "application/vnd.jupyter.widget-view+json": {
       "model_id": "d7ca7f4475ed430caff5e4c987f3da2f",
       "version_major": 2,
       "version_minor": 0
      },
      "text/plain": [
       "Running Epoch 15 of 25:   0%|          | 0/2 [00:00<?, ?it/s]"
      ]
     },
     "metadata": {},
     "output_type": "display_data"
    },
    {
     "data": {
      "application/vnd.jupyter.widget-view+json": {
       "model_id": "0b7aee8479e9499ea9be03779d102289",
       "version_major": 2,
       "version_minor": 0
      },
      "text/plain": [
       "Running Evaluation:   0%|          | 0/1 [00:00<?, ?it/s]"
      ]
     },
     "metadata": {},
     "output_type": "display_data"
    },
    {
     "data": {
      "application/vnd.jupyter.widget-view+json": {
       "model_id": "d8fea2583ce84ac98f3c68c9dacf6dcd",
       "version_major": 2,
       "version_minor": 0
      },
      "text/plain": [
       "Running Epoch 16 of 25:   0%|          | 0/2 [00:00<?, ?it/s]"
      ]
     },
     "metadata": {},
     "output_type": "display_data"
    },
    {
     "data": {
      "application/vnd.jupyter.widget-view+json": {
       "model_id": "000b46e62e704681bbc4aa018fb75b38",
       "version_major": 2,
       "version_minor": 0
      },
      "text/plain": [
       "Running Evaluation:   0%|          | 0/1 [00:00<?, ?it/s]"
      ]
     },
     "metadata": {},
     "output_type": "display_data"
    },
    {
     "data": {
      "application/vnd.jupyter.widget-view+json": {
       "model_id": "b960a730cdf54ca88a0598e3d58c41e1",
       "version_major": 2,
       "version_minor": 0
      },
      "text/plain": [
       "Running Epoch 17 of 25:   0%|          | 0/2 [00:00<?, ?it/s]"
      ]
     },
     "metadata": {},
     "output_type": "display_data"
    },
    {
     "data": {
      "application/vnd.jupyter.widget-view+json": {
       "model_id": "992cc2abebab465f800d54f437b6af08",
       "version_major": 2,
       "version_minor": 0
      },
      "text/plain": [
       "Running Evaluation:   0%|          | 0/1 [00:00<?, ?it/s]"
      ]
     },
     "metadata": {},
     "output_type": "display_data"
    },
    {
     "data": {
      "application/vnd.jupyter.widget-view+json": {
       "model_id": "b6cbd8a1367348d2b510d6399273e34a",
       "version_major": 2,
       "version_minor": 0
      },
      "text/plain": [
       "Running Epoch 18 of 25:   0%|          | 0/2 [00:00<?, ?it/s]"
      ]
     },
     "metadata": {},
     "output_type": "display_data"
    },
    {
     "data": {
      "application/vnd.jupyter.widget-view+json": {
       "model_id": "50a0f21158244c43a99c4d204f03ff97",
       "version_major": 2,
       "version_minor": 0
      },
      "text/plain": [
       "Running Evaluation:   0%|          | 0/1 [00:00<?, ?it/s]"
      ]
     },
     "metadata": {},
     "output_type": "display_data"
    },
    {
     "data": {
      "application/vnd.jupyter.widget-view+json": {
       "model_id": "de8403e37eab484997deca0f27c2eef3",
       "version_major": 2,
       "version_minor": 0
      },
      "text/plain": [
       "Running Epoch 19 of 25:   0%|          | 0/2 [00:00<?, ?it/s]"
      ]
     },
     "metadata": {},
     "output_type": "display_data"
    },
    {
     "data": {
      "application/vnd.jupyter.widget-view+json": {
       "model_id": "4fe5a3d239d646a9936a2ff1d4409ee7",
       "version_major": 2,
       "version_minor": 0
      },
      "text/plain": [
       "Running Evaluation:   0%|          | 0/1 [00:00<?, ?it/s]"
      ]
     },
     "metadata": {},
     "output_type": "display_data"
    },
    {
     "data": {
      "application/vnd.jupyter.widget-view+json": {
       "model_id": "f34e8e5f91b14d1dac1bd8dc7a155fe9",
       "version_major": 2,
       "version_minor": 0
      },
      "text/plain": [
       "Running Epoch 20 of 25:   0%|          | 0/2 [00:00<?, ?it/s]"
      ]
     },
     "metadata": {},
     "output_type": "display_data"
    },
    {
     "data": {
      "application/vnd.jupyter.widget-view+json": {
       "model_id": "7243e5a4340f4ec8a68f2d41f3ba27aa",
       "version_major": 2,
       "version_minor": 0
      },
      "text/plain": [
       "Running Evaluation:   0%|          | 0/1 [00:00<?, ?it/s]"
      ]
     },
     "metadata": {},
     "output_type": "display_data"
    },
    {
     "data": {
      "application/vnd.jupyter.widget-view+json": {
       "model_id": "80e081ffa65c49728cd0b46ca0470823",
       "version_major": 2,
       "version_minor": 0
      },
      "text/plain": [
       "Running Epoch 21 of 25:   0%|          | 0/2 [00:00<?, ?it/s]"
      ]
     },
     "metadata": {},
     "output_type": "display_data"
    },
    {
     "data": {
      "application/vnd.jupyter.widget-view+json": {
       "model_id": "3d60cf709e624efa8656b86497276213",
       "version_major": 2,
       "version_minor": 0
      },
      "text/plain": [
       "Running Evaluation:   0%|          | 0/1 [00:00<?, ?it/s]"
      ]
     },
     "metadata": {},
     "output_type": "display_data"
    },
    {
     "data": {
      "application/vnd.jupyter.widget-view+json": {
       "model_id": "2d5cd37315214751b9dcb7c700fe7927",
       "version_major": 2,
       "version_minor": 0
      },
      "text/plain": [
       "Running Epoch 22 of 25:   0%|          | 0/2 [00:00<?, ?it/s]"
      ]
     },
     "metadata": {},
     "output_type": "display_data"
    },
    {
     "data": {
      "application/vnd.jupyter.widget-view+json": {
       "model_id": "c42bd693a08c4f0aab286f853bd24ca4",
       "version_major": 2,
       "version_minor": 0
      },
      "text/plain": [
       "Running Evaluation:   0%|          | 0/1 [00:00<?, ?it/s]"
      ]
     },
     "metadata": {},
     "output_type": "display_data"
    },
    {
     "data": {
      "application/vnd.jupyter.widget-view+json": {
       "model_id": "3986f642916c4607b275ff6410701f04",
       "version_major": 2,
       "version_minor": 0
      },
      "text/plain": [
       "Running Epoch 23 of 25:   0%|          | 0/2 [00:00<?, ?it/s]"
      ]
     },
     "metadata": {},
     "output_type": "display_data"
    },
    {
     "data": {
      "application/vnd.jupyter.widget-view+json": {
       "model_id": "e868113c18eb42b5b089cdf7ed7e36c2",
       "version_major": 2,
       "version_minor": 0
      },
      "text/plain": [
       "Running Evaluation:   0%|          | 0/1 [00:00<?, ?it/s]"
      ]
     },
     "metadata": {},
     "output_type": "display_data"
    },
    {
     "data": {
      "application/vnd.jupyter.widget-view+json": {
       "model_id": "68e926ce6fd8432792661b3cfabc2c7b",
       "version_major": 2,
       "version_minor": 0
      },
      "text/plain": [
       "Running Epoch 24 of 25:   0%|          | 0/2 [00:00<?, ?it/s]"
      ]
     },
     "metadata": {},
     "output_type": "display_data"
    },
    {
     "data": {
      "application/vnd.jupyter.widget-view+json": {
       "model_id": "ce0846d1e97e440e85803f84db1d0ce3",
       "version_major": 2,
       "version_minor": 0
      },
      "text/plain": [
       "Running Evaluation:   0%|          | 0/1 [00:00<?, ?it/s]"
      ]
     },
     "metadata": {},
     "output_type": "display_data"
    },
    {
     "data": {
      "text/plain": [
       "(50,\n",
       " {'global_step': [2,\n",
       "   4,\n",
       "   6,\n",
       "   8,\n",
       "   10,\n",
       "   12,\n",
       "   14,\n",
       "   16,\n",
       "   18,\n",
       "   20,\n",
       "   22,\n",
       "   24,\n",
       "   26,\n",
       "   28,\n",
       "   30,\n",
       "   32,\n",
       "   34,\n",
       "   36,\n",
       "   38,\n",
       "   40,\n",
       "   42,\n",
       "   44,\n",
       "   46,\n",
       "   48,\n",
       "   50],\n",
       "  'correct': [0,\n",
       "   16,\n",
       "   17,\n",
       "   17,\n",
       "   17,\n",
       "   17,\n",
       "   17,\n",
       "   17,\n",
       "   17,\n",
       "   21,\n",
       "   23,\n",
       "   24,\n",
       "   24,\n",
       "   25,\n",
       "   25,\n",
       "   25,\n",
       "   25,\n",
       "   25,\n",
       "   26,\n",
       "   27,\n",
       "   27,\n",
       "   27,\n",
       "   27,\n",
       "   27,\n",
       "   27],\n",
       "  'similar': [28,\n",
       "   24,\n",
       "   23,\n",
       "   23,\n",
       "   23,\n",
       "   23,\n",
       "   23,\n",
       "   23,\n",
       "   23,\n",
       "   19,\n",
       "   16,\n",
       "   15,\n",
       "   15,\n",
       "   14,\n",
       "   14,\n",
       "   14,\n",
       "   14,\n",
       "   13,\n",
       "   12,\n",
       "   11,\n",
       "   11,\n",
       "   11,\n",
       "   11,\n",
       "   11,\n",
       "   11],\n",
       "  'incorrect': [12,\n",
       "   0,\n",
       "   0,\n",
       "   0,\n",
       "   0,\n",
       "   0,\n",
       "   0,\n",
       "   0,\n",
       "   0,\n",
       "   0,\n",
       "   1,\n",
       "   1,\n",
       "   1,\n",
       "   1,\n",
       "   1,\n",
       "   1,\n",
       "   1,\n",
       "   2,\n",
       "   2,\n",
       "   2,\n",
       "   2,\n",
       "   2,\n",
       "   2,\n",
       "   2,\n",
       "   2],\n",
       "  'train_loss': [4.880706310272217,\n",
       "   4.576861381530762,\n",
       "   3.6814491748809814,\n",
       "   2.442157745361328,\n",
       "   1.4973719120025635,\n",
       "   1.6973397731781006,\n",
       "   1.1316940784454346,\n",
       "   1.0636471509933472,\n",
       "   0.8829507231712341,\n",
       "   0.6503198146820068,\n",
       "   0.5334904789924622,\n",
       "   0.5344098806381226,\n",
       "   0.3617768883705139,\n",
       "   0.3979272246360779,\n",
       "   0.23392969369888306,\n",
       "   0.2055680751800537,\n",
       "   0.22314795851707458,\n",
       "   0.11962591111660004,\n",
       "   0.10541794449090958,\n",
       "   0.08331196010112762,\n",
       "   0.08958971500396729,\n",
       "   0.08094193041324615,\n",
       "   0.070412278175354,\n",
       "   0.05381278693675995,\n",
       "   0.055230382829904556],\n",
       "  'eval_loss': [0.0758056640625,\n",
       "   -0.197021484375,\n",
       "   -0.46826171875,\n",
       "   -0.74658203125,\n",
       "   -1.046875,\n",
       "   -1.296875,\n",
       "   -1.384765625,\n",
       "   -1.7265625,\n",
       "   -2.423828125,\n",
       "   -3.130859375,\n",
       "   -3.578125,\n",
       "   -3.896484375,\n",
       "   -4.16015625,\n",
       "   -4.375,\n",
       "   -4.453125,\n",
       "   -4.5546875,\n",
       "   -4.671875,\n",
       "   -4.765625,\n",
       "   -4.86328125,\n",
       "   -4.96484375,\n",
       "   -5.01953125,\n",
       "   -5.078125,\n",
       "   -5.1328125,\n",
       "   -5.16796875,\n",
       "   -5.18359375]})"
      ]
     },
     "execution_count": 40,
     "metadata": {},
     "output_type": "execute_result"
    }
   ],
   "source": [
    "# Train the model\n",
    "model.train_model(train, eval_data=test)"
   ]
  },
  {
   "cell_type": "code",
   "execution_count": 41,
   "id": "8b8bb5ad",
   "metadata": {},
   "outputs": [
    {
     "data": {
      "text/plain": [
       "['__class__',\n",
       " '__delattr__',\n",
       " '__dict__',\n",
       " '__dir__',\n",
       " '__doc__',\n",
       " '__eq__',\n",
       " '__format__',\n",
       " '__ge__',\n",
       " '__getattribute__',\n",
       " '__gt__',\n",
       " '__hash__',\n",
       " '__init__',\n",
       " '__init_subclass__',\n",
       " '__le__',\n",
       " '__lt__',\n",
       " '__module__',\n",
       " '__ne__',\n",
       " '__new__',\n",
       " '__reduce__',\n",
       " '__reduce_ex__',\n",
       " '__repr__',\n",
       " '__setattr__',\n",
       " '__sizeof__',\n",
       " '__str__',\n",
       " '__subclasshook__',\n",
       " '__weakref__',\n",
       " '_create_training_progress_scores',\n",
       " '_get_inputs_dict',\n",
       " '_get_last_metrics',\n",
       " '_load_model_args',\n",
       " '_move_model_to_device',\n",
       " 'args',\n",
       " 'calculate_results',\n",
       " 'config',\n",
       " 'device',\n",
       " 'eval_model',\n",
       " 'evaluate',\n",
       " 'get_named_parameters',\n",
       " 'is_sweeping',\n",
       " 'load_and_cache_examples',\n",
       " 'model',\n",
       " 'predict',\n",
       " 'results',\n",
       " 'save_model',\n",
       " 'save_model_args',\n",
       " 'tokenizer',\n",
       " 'train',\n",
       " 'train_model',\n",
       " 'wandb_run_id']"
      ]
     },
     "execution_count": 41,
     "metadata": {},
     "output_type": "execute_result"
    }
   ],
   "source": [
    "dir(model)"
   ]
  },
  {
   "cell_type": "code",
   "execution_count": 42,
   "id": "ceeb97d1",
   "metadata": {},
   "outputs": [
    {
     "data": {
      "application/vnd.jupyter.widget-view+json": {
       "model_id": "5d9a615fe0844ef2956e53f62c349ff9",
       "version_major": 2,
       "version_minor": 0
      },
      "text/plain": [
       "Running Evaluation:   0%|          | 0/4 [00:00<?, ?it/s]"
      ]
     },
     "metadata": {},
     "output_type": "display_data"
    }
   ],
   "source": [
    "# Evaluate the model with train\n",
    "result, texts = model.eval_model(train)"
   ]
  },
  {
   "cell_type": "code",
   "execution_count": 43,
   "id": "749841fd",
   "metadata": {},
   "outputs": [
    {
     "data": {
      "text/plain": [
       "184"
      ]
     },
     "execution_count": 43,
     "metadata": {},
     "output_type": "execute_result"
    }
   ],
   "source": [
    "len(train)"
   ]
  },
  {
   "cell_type": "code",
   "execution_count": 44,
   "id": "3f3be9d6",
   "metadata": {},
   "outputs": [
    {
     "data": {
      "text/plain": [
       "{'correct': 127, 'similar': 57, 'incorrect': 0, 'eval_loss': -5.18359375}"
      ]
     },
     "execution_count": 44,
     "metadata": {},
     "output_type": "execute_result"
    }
   ],
   "source": [
    "result"
   ]
  },
  {
   "cell_type": "code",
   "execution_count": 45,
   "id": "700a386b",
   "metadata": {},
   "outputs": [
    {
     "data": {
      "text/plain": [
       "{'correct_text': {'234': 'zeolite',\n",
       "  '164': 'Mn',\n",
       "  '128': 'Li/NaY',\n",
       "  '221': 'zeolite',\n",
       "  '94': '',\n",
       "  '91': '',\n",
       "  '201': 'Ni/CeO2/Al2O3',\n",
       "  '240': 'nickel',\n",
       "  '10': '',\n",
       "  '190': 'zeolite',\n",
       "  '262': 'Ru',\n",
       "  '46': '',\n",
       "  '243': 'ruthenium/catalyst',\n",
       "  '246': 'Fe',\n",
       "  '261': 'Al–Mg',\n",
       "  '152': 'zeolite',\n",
       "  '49': '',\n",
       "  '43': '',\n",
       "  '116': 'zeolite',\n",
       "  '192': 'Zn/C',\n",
       "  '58': '',\n",
       "  '80': '',\n",
       "  '204': 'TiO2',\n",
       "  '8': '',\n",
       "  '2': '',\n",
       "  '12': '',\n",
       "  '232': 'Ni-based',\n",
       "  '188': 'zeolite',\n",
       "  '9': '',\n",
       "  '153': 'Ni-based',\n",
       "  '22': '',\n",
       "  '236': 'Co/Mo',\n",
       "  '173': 'zeolite',\n",
       "  '120': 'TiO2',\n",
       "  '198': 'Pt',\n",
       "  '259': 'oxalate',\n",
       "  '79': '',\n",
       "  '230': 'Cl',\n",
       "  '216': 'Mgx-Aly-O',\n",
       "  '185': 'Co/Mo',\n",
       "  '83': '',\n",
       "  '220': 'Co3O4',\n",
       "  '160': 'ZnO-based',\n",
       "  '37': '',\n",
       "  '93': '',\n",
       "  '63': '',\n",
       "  '1': '',\n",
       "  '28': '',\n",
       "  '176': 'Fe-SBA-15',\n",
       "  '231': 'Co',\n",
       "  '159': 'Ni/Al2O3',\n",
       "  '18': '',\n",
       "  '60': '',\n",
       "  '166': 'NiFe2O4',\n",
       "  '189': 'Cl',\n",
       "  '256': 'TiO2',\n",
       "  '150': 'zeolite',\n",
       "  '56': '',\n",
       "  '17': '',\n",
       "  '222': 'Cu-Al2O3',\n",
       "  '229': 'zeolite',\n",
       "  '88': '',\n",
       "  '147': 'CoFe2O4',\n",
       "  '98': 'zeolite',\n",
       "  '126': 'Y-Zeolite/ZnO',\n",
       "  '62': '',\n",
       "  '82': '',\n",
       "  '69': '',\n",
       "  '57': '',\n",
       "  '20': '',\n",
       "  '87': '',\n",
       "  '71': '',\n",
       "  '138': 'Co/Mo',\n",
       "  '61': '',\n",
       "  '35': '',\n",
       "  '41': '',\n",
       "  '77': '',\n",
       "  '27': '',\n",
       "  '33': '',\n",
       "  '44': '',\n",
       "  '84': '',\n",
       "  '191': 'chlorine',\n",
       "  '111': 'Zn/C',\n",
       "  '74': '',\n",
       "  '118': 'Ni-based',\n",
       "  '151': 'TiO2',\n",
       "  '263': 'ZnO',\n",
       "  '175': 'Ni–Mg–Al–CaO',\n",
       "  '40': '',\n",
       "  '50': '',\n",
       "  '208': 'Titanium',\n",
       "  '254': 'Fe',\n",
       "  '133': 'cobalt',\n",
       "  '51': '',\n",
       "  '205': 'Ni/Al2O3',\n",
       "  '53': '',\n",
       "  '81': '',\n",
       "  '195': 'Ni-based',\n",
       "  '122': 'CuNiIn',\n",
       "  '212': 'NiFe2O4',\n",
       "  '199': 'nickel',\n",
       "  '47': '',\n",
       "  '89': '',\n",
       "  '70': '',\n",
       "  '68': '',\n",
       "  '250': 'Ni/Al2O3',\n",
       "  '59': '',\n",
       "  '34': '',\n",
       "  '39': '',\n",
       "  '52': '',\n",
       "  '108': 'cobalt',\n",
       "  '171': 'Fe/SiO2',\n",
       "  '5': '',\n",
       "  '103': 'aluminum',\n",
       "  '196': 'Ni/ZSM5-30',\n",
       "  '38': '',\n",
       "  '117': 'Cl',\n",
       "  '125': 'Si/Al',\n",
       "  '32': '',\n",
       "  '64': '',\n",
       "  '48': '',\n",
       "  '96': '',\n",
       "  '163': 'glucose',\n",
       "  '76': '',\n",
       "  '23': '',\n",
       "  '73': '',\n",
       "  '16': ''},\n",
       " 'similar_text': {'156': {'truth': 'zeolite',\n",
       "   'predicted': '',\n",
       "   'question': 'What are the materials used as catalyst?'},\n",
       "  '145': {'truth': 'nickel',\n",
       "   'predicted': '',\n",
       "   'question': 'What are the materials used as catalyst?'},\n",
       "  '194': {'truth': 'Cl',\n",
       "   'predicted': '',\n",
       "   'question': 'What are the materials used as catalyst?'},\n",
       "  '102': {'truth': 'Fe2O3',\n",
       "   'predicted': '',\n",
       "   'question': 'What are the materials used as catalyst?'},\n",
       "  '143': {'truth': 'Ru/Al2O3',\n",
       "   'predicted': '',\n",
       "   'question': 'What are the materials used as catalyst?'},\n",
       "  '161': {'truth': 'cobalt',\n",
       "   'predicted': '',\n",
       "   'question': 'What are the materials used as catalyst?'},\n",
       "  '132': {'truth': 'Ni–Pd/Al2O3',\n",
       "   'predicted': '',\n",
       "   'question': 'What are the materials used as catalyst?'},\n",
       "  '187': {'truth': 'Ni',\n",
       "   'predicted': 'Ni–Fe',\n",
       "   'question': 'What are the materials used as catalyst?'},\n",
       "  '225': {'truth': 'CaO',\n",
       "   'predicted': '',\n",
       "   'question': 'What are the materials used as catalyst?'},\n",
       "  '248': {'truth': 'AgNPs',\n",
       "   'predicted': '',\n",
       "   'question': 'What are the materials used as catalyst?'},\n",
       "  '165': {'truth': 'Si/Al',\n",
       "   'predicted': '',\n",
       "   'question': 'What are the materials used as catalyst?'},\n",
       "  '131': {'truth': 'CNF-PEI',\n",
       "   'predicted': '',\n",
       "   'question': 'What are the materials used as catalyst?'},\n",
       "  '223': {'truth': 'chlorine',\n",
       "   'predicted': '',\n",
       "   'question': 'What are the materials used as catalyst?'},\n",
       "  '158': {'truth': 'sulfonic',\n",
       "   'predicted': '',\n",
       "   'question': 'What are the materials used as catalyst?'},\n",
       "  '167': {'truth': 'zeolites',\n",
       "   'predicted': 'zeolite',\n",
       "   'question': 'What are the materials used as catalyst?'},\n",
       "  '233': {'truth': 'copper',\n",
       "   'predicted': '',\n",
       "   'question': 'What are the materials used as catalyst?'},\n",
       "  '183': {'truth': 'CaO',\n",
       "   'predicted': '',\n",
       "   'question': 'What are the materials used as catalyst?'},\n",
       "  '112': {'truth': 'chlorine',\n",
       "   'predicted': '',\n",
       "   'question': 'What are the materials used as catalyst?'},\n",
       "  '242': {'truth': 'organoiodine',\n",
       "   'predicted': '',\n",
       "   'question': 'What are the materials used as catalyst?'},\n",
       "  '227': {'truth': 'Ni',\n",
       "   'predicted': '',\n",
       "   'question': 'What are the materials used as catalyst?'},\n",
       "  '241': {'truth': 'Ni/SiO2-S',\n",
       "   'predicted': '',\n",
       "   'question': 'What are the materials used as catalyst?'},\n",
       "  '228': {'truth': 'Fe3O4',\n",
       "   'predicted': '',\n",
       "   'question': 'What are the materials used as catalyst?'},\n",
       "  '206': {'truth': 'Ag',\n",
       "   'predicted': '',\n",
       "   'question': 'What are the materials used as catalyst?'},\n",
       "  '109': {'truth': 'Ni',\n",
       "   'predicted': '',\n",
       "   'question': 'What are the materials used as catalyst?'},\n",
       "  '193': {'truth': 'copper',\n",
       "   'predicted': '',\n",
       "   'question': 'What are the materials used as catalyst?'},\n",
       "  '136': {'truth': 'FeCl3',\n",
       "   'predicted': '',\n",
       "   'question': 'What are the materials used as catalyst?'},\n",
       "  '203': {'truth': 'Al2O3',\n",
       "   'predicted': '',\n",
       "   'question': 'What are the materials used as catalyst?'},\n",
       "  '257': {'truth': 'TiO2-based',\n",
       "   'predicted': '',\n",
       "   'question': 'What are the materials used as catalyst?'},\n",
       "  '101': {'truth': 'Ru/Al2O3',\n",
       "   'predicted': '',\n",
       "   'question': 'What are the materials used as catalyst?'},\n",
       "  '251': {'truth': 'Nickel',\n",
       "   'predicted': '',\n",
       "   'question': 'What are the materials used as catalyst?'},\n",
       "  '218': {'truth': 'Ni-REY',\n",
       "   'predicted': '',\n",
       "   'question': 'What are the materials used as catalyst?'},\n",
       "  '215': {'truth': 'Al2O3',\n",
       "   'predicted': '',\n",
       "   'question': 'What are the materials used as catalyst?'},\n",
       "  '144': {'truth': 'chlorine',\n",
       "   'predicted': '',\n",
       "   'question': 'What are the materials used as catalyst?'},\n",
       "  '124': {'truth': 'copper',\n",
       "   'predicted': '',\n",
       "   'question': 'What are the materials used as catalyst?'},\n",
       "  '217': {'truth': 'Ni-REY',\n",
       "   'predicted': '',\n",
       "   'question': 'What are the materials used as catalyst?'},\n",
       "  '264': {'truth': 'sulfonic',\n",
       "   'predicted': '',\n",
       "   'question': 'What are the materials used as catalyst?'},\n",
       "  '130': {'truth': 'nickel',\n",
       "   'predicted': '',\n",
       "   'question': 'What are the materials used as catalyst?'},\n",
       "  '139': {'truth': 'Ni',\n",
       "   'predicted': '',\n",
       "   'question': 'What are the materials used as catalyst?'},\n",
       "  '210': {'truth': 'Si/Al',\n",
       "   'predicted': '',\n",
       "   'question': 'What are the materials used as catalyst?'},\n",
       "  '97': {'truth': 'Ni-REY',\n",
       "   'predicted': '',\n",
       "   'question': 'What are the materials used as catalyst?'},\n",
       "  '106': {'truth': 'Ni',\n",
       "   'predicted': '',\n",
       "   'question': 'What are the materials used as catalyst?'},\n",
       "  '186': {'truth': 'Ni',\n",
       "   'predicted': '',\n",
       "   'question': 'What are the materials used as catalyst?'},\n",
       "  '146': {'truth': 'CaO',\n",
       "   'predicted': '',\n",
       "   'question': 'What are the materials used as catalyst?'},\n",
       "  '213': {'truth': 'chlorine-containing',\n",
       "   'predicted': '',\n",
       "   'question': 'What are the materials used as catalyst?'},\n",
       "  '179': {'truth': 'Ni/sphere',\n",
       "   'predicted': '',\n",
       "   'question': 'What are the materials used as catalyst?'},\n",
       "  '137': {'truth': 'Ni-REY',\n",
       "   'predicted': '',\n",
       "   'question': 'What are the materials used as catalyst?'},\n",
       "  '253': {'truth': 'TiO2-based',\n",
       "   'predicted': '',\n",
       "   'question': 'What are the materials used as catalyst?'},\n",
       "  '258': {'truth': 'FeCl3',\n",
       "   'predicted': '',\n",
       "   'question': 'What are the materials used as catalyst?'},\n",
       "  '197': {'truth': 'nickel',\n",
       "   'predicted': '',\n",
       "   'question': 'What are the materials used as catalyst?'},\n",
       "  '235': {'truth': 'copper-',\n",
       "   'predicted': 'copper',\n",
       "   'question': 'What are the materials used as catalyst?'},\n",
       "  '104': {'truth': 'CaO',\n",
       "   'predicted': '',\n",
       "   'question': 'What are the materials used as catalyst?'},\n",
       "  '168': {'truth': 'chlorine-containing',\n",
       "   'predicted': '',\n",
       "   'question': 'What are the materials used as catalyst?'},\n",
       "  '149': {'truth': 'zeolite',\n",
       "   'predicted': '',\n",
       "   'question': 'What are the materials used as catalyst?'},\n",
       "  '219': {'truth': 'platinum',\n",
       "   'predicted': '',\n",
       "   'question': 'What are the materials used as catalyst?'},\n",
       "  '214': {'truth': 'Zn',\n",
       "   'predicted': '',\n",
       "   'question': 'What are the materials used as catalyst?'},\n",
       "  '260': {'truth': '/Pd',\n",
       "   'predicted': '',\n",
       "   'question': 'What are the materials used as catalyst?'},\n",
       "  '169': {'truth': 'Ru-based',\n",
       "   'predicted': '',\n",
       "   'question': 'What are the materials used as catalyst?'}},\n",
       " 'incorrect_text': {}}"
      ]
     },
     "execution_count": 45,
     "metadata": {},
     "output_type": "execute_result"
    }
   ],
   "source": [
    "texts"
   ]
  },
  {
   "cell_type": "code",
   "execution_count": 46,
   "id": "3fa4645f",
   "metadata": {},
   "outputs": [
    {
     "data": {
      "application/vnd.jupyter.widget-view+json": {
       "model_id": "317095be30f241b58b24718ed21675d9",
       "version_major": 2,
       "version_minor": 0
      },
      "text/plain": [
       "Running Evaluation:   0%|          | 0/1 [00:00<?, ?it/s]"
      ]
     },
     "metadata": {},
     "output_type": "display_data"
    }
   ],
   "source": [
    "# Evaluate the model with test\n",
    "result, texts = model.eval_model(test)"
   ]
  },
  {
   "cell_type": "code",
   "execution_count": 47,
   "id": "0b6a7816",
   "metadata": {},
   "outputs": [
    {
     "data": {
      "text/plain": [
       "40"
      ]
     },
     "execution_count": 47,
     "metadata": {},
     "output_type": "execute_result"
    }
   ],
   "source": [
    "len(test)"
   ]
  },
  {
   "cell_type": "code",
   "execution_count": 48,
   "id": "3156ff52",
   "metadata": {},
   "outputs": [
    {
     "data": {
      "text/plain": [
       "{'correct': 27, 'similar': 11, 'incorrect': 2, 'eval_loss': -5.18359375}"
      ]
     },
     "execution_count": 48,
     "metadata": {},
     "output_type": "execute_result"
    }
   ],
   "source": [
    "result"
   ]
  },
  {
   "cell_type": "code",
   "execution_count": 49,
   "id": "310eb0bf",
   "metadata": {},
   "outputs": [
    {
     "data": {
      "text/plain": [
       "{'correct_text': {'14': '',\n",
       "  '129': 'Fe2O3',\n",
       "  '13': '',\n",
       "  '155': 'Fe',\n",
       "  '140': 'Co3O4',\n",
       "  '100': 'Fe/SiO2',\n",
       "  '200': 'Fe',\n",
       "  '15': '',\n",
       "  '66': '',\n",
       "  '154': 'Cl',\n",
       "  '24': '',\n",
       "  '21': '',\n",
       "  '86': '',\n",
       "  '65': '',\n",
       "  '174': 'Co3O4',\n",
       "  '72': '',\n",
       "  '119': 'zeolite',\n",
       "  '226': 'Zn/C',\n",
       "  '29': '',\n",
       "  '78': '',\n",
       "  '11': '',\n",
       "  '7': '',\n",
       "  '142': 'zeolite',\n",
       "  '85': '',\n",
       "  '202': 'Fe2O3',\n",
       "  '6': '',\n",
       "  '30': ''},\n",
       " 'similar_text': {'184': {'truth': 'Ni/SiO2-S',\n",
       "   'predicted': '',\n",
       "   'question': 'What are the materials used as catalyst?'},\n",
       "  '245': {'truth': 'iron',\n",
       "   'predicted': '',\n",
       "   'question': 'What are the materials used as catalyst?'},\n",
       "  '170': {'truth': 'Ni-REY',\n",
       "   'predicted': '',\n",
       "   'question': 'What are the materials used as catalyst?'},\n",
       "  '127': {'truth': 'Ni/SiO2-S',\n",
       "   'predicted': '',\n",
       "   'question': 'What are the materials used as catalyst?'},\n",
       "  '249': {'truth': 'Mg',\n",
       "   'predicted': '',\n",
       "   'question': 'What are the materials used as catalyst?'},\n",
       "  '157': {'truth': 'KOH',\n",
       "   'predicted': '',\n",
       "   'question': 'What are the materials used as catalyst?'},\n",
       "  '255': {'truth': 'cobalt',\n",
       "   'predicted': '',\n",
       "   'question': 'What are the materials used as catalyst?'},\n",
       "  '92': {'truth': '',\n",
       "   'predicted': 'Z',\n",
       "   'question': 'What are the materials used as catalyst?'},\n",
       "  '134': {'truth': 'MnO2/HGO',\n",
       "   'predicted': 'MnO2',\n",
       "   'question': 'What are the materials used as catalyst?'},\n",
       "  '238': {'truth': 'palladium',\n",
       "   'predicted': '',\n",
       "   'question': 'What are the materials used as catalyst?'},\n",
       "  '113': {'truth': 'zeolite',\n",
       "   'predicted': '',\n",
       "   'question': 'What are the materials used as catalyst?'}},\n",
       " 'incorrect_text': {'252': {'truth': 'H2SO4',\n",
       "   'predicted': 'glucose',\n",
       "   'question': 'What are the materials used as catalyst?'},\n",
       "  '177': {'truth': 'zeolite',\n",
       "   'predicted': 'Ni/Al2O3',\n",
       "   'question': 'What are the materials used as catalyst?'}}}"
      ]
     },
     "execution_count": 49,
     "metadata": {},
     "output_type": "execute_result"
    }
   ],
   "source": [
    "texts"
   ]
  },
  {
   "cell_type": "code",
   "execution_count": 50,
   "id": "a86317f4",
   "metadata": {},
   "outputs": [
    {
     "data": {
      "application/vnd.jupyter.widget-view+json": {
       "model_id": "fb86829ca1bc46a8972ca697ed05e5dc",
       "version_major": 2,
       "version_minor": 0
      },
      "text/plain": [
       "Running Evaluation:   0%|          | 0/1 [00:00<?, ?it/s]"
      ]
     },
     "metadata": {},
     "output_type": "display_data"
    }
   ],
   "source": [
    "# Evaluate the model with test\n",
    "result, texts = model.eval_model(valid)"
   ]
  },
  {
   "cell_type": "code",
   "execution_count": 51,
   "id": "3eaad10e",
   "metadata": {},
   "outputs": [
    {
     "data": {
      "text/plain": [
       "40"
      ]
     },
     "execution_count": 51,
     "metadata": {},
     "output_type": "execute_result"
    }
   ],
   "source": [
    "len(valid)"
   ]
  },
  {
   "cell_type": "code",
   "execution_count": 52,
   "id": "cb2ea334",
   "metadata": {},
   "outputs": [
    {
     "data": {
      "text/plain": [
       "{'correct': 10, 'similar': 20, 'incorrect': 10, 'eval_loss': -5.18359375}"
      ]
     },
     "execution_count": 52,
     "metadata": {},
     "output_type": "execute_result"
    }
   ],
   "source": [
    "result"
   ]
  },
  {
   "cell_type": "code",
   "execution_count": 53,
   "id": "2cfbad06",
   "metadata": {},
   "outputs": [
    {
     "data": {
      "text/plain": [
       "{'correct_text': {'3': '',\n",
       "  '36': '',\n",
       "  '31': '',\n",
       "  '55': '',\n",
       "  '75': '',\n",
       "  '42': '',\n",
       "  '4': '',\n",
       "  '25': '',\n",
       "  '45': '',\n",
       "  '54': ''},\n",
       " 'similar_text': {'110': {'truth': 'hydrodesulfurizated',\n",
       "   'predicted': '',\n",
       "   'question': 'What are the materials used as catalyst?'},\n",
       "  '19': {'truth': '',\n",
       "   'predicted': 'In',\n",
       "   'question': 'What are the materials used as catalyst?'},\n",
       "  '237': {'truth': 'Cl',\n",
       "   'predicted': '',\n",
       "   'question': 'What are the materials used as catalyst?'},\n",
       "  '123': {'truth': 'Y-zeolite',\n",
       "   'predicted': '',\n",
       "   'question': 'What are the materials used as catalyst?'},\n",
       "  '95': {'truth': '',\n",
       "   'predicted': 'to',\n",
       "   'question': 'What are the materials used as catalyst?'},\n",
       "  '180': {'truth': 'cobalt',\n",
       "   'predicted': '',\n",
       "   'question': 'What are the materials used as catalyst?'},\n",
       "  '99': {'truth': 'Co3O4',\n",
       "   'predicted': '',\n",
       "   'question': 'What are the materials used as catalyst?'},\n",
       "  '26': {'truth': '',\n",
       "   'predicted': 'growing',\n",
       "   'question': 'What are the materials used as catalyst?'},\n",
       "  '172': {'truth': 'Fe/SiO2',\n",
       "   'predicted': '',\n",
       "   'question': 'What are the materials used as catalyst?'},\n",
       "  '114': {'truth': 'Ni',\n",
       "   'predicted': '',\n",
       "   'question': 'What are the materials used as catalyst?'},\n",
       "  '90': {'truth': '',\n",
       "   'predicted': 'an',\n",
       "   'question': 'What are the materials used as catalyst?'},\n",
       "  '162': {'truth': 'Ru',\n",
       "   'predicted': '',\n",
       "   'question': 'What are the materials used as catalyst?'},\n",
       "  '107': {'truth': 'montmorillonite',\n",
       "   'predicted': '',\n",
       "   'question': 'What are the materials used as catalyst?'},\n",
       "  '148': {'truth': 'Ni',\n",
       "   'predicted': '',\n",
       "   'question': 'What are the materials used as catalyst?'},\n",
       "  '209': {'truth': 'TiO2',\n",
       "   'predicted': '',\n",
       "   'question': 'What are the materials used as catalyst?'},\n",
       "  '207': {'truth': 'Ni-Fe/γ-Al2O3',\n",
       "   'predicted': '',\n",
       "   'question': 'What are the materials used as catalyst?'},\n",
       "  '181': {'truth': 'aluminum',\n",
       "   'predicted': '',\n",
       "   'question': 'What are the materials used as catalyst?'},\n",
       "  '67': {'truth': '',\n",
       "   'predicted': 'Alginate',\n",
       "   'question': 'What are the materials used as catalyst?'},\n",
       "  '141': {'truth': 'Fe',\n",
       "   'predicted': '',\n",
       "   'question': 'What are the materials used as catalyst?'},\n",
       "  '115': {'truth': 'nickel',\n",
       "   'predicted': '',\n",
       "   'question': 'What are the materials used as catalyst?'}},\n",
       " 'incorrect_text': {'182': {'truth': 'chlorine',\n",
       "   'predicted': 'of',\n",
       "   'question': 'What are the materials used as catalyst?'},\n",
       "  '239': {'truth': 'nickel',\n",
       "   'predicted': 'ABS',\n",
       "   'question': 'What are the materials used as catalyst?'},\n",
       "  '121': {'truth': 'chlorine',\n",
       "   'predicted': 'HY',\n",
       "   'question': 'What are the materials used as catalyst?'},\n",
       "  '135': {'truth': 'titania',\n",
       "   'predicted': 'the',\n",
       "   'question': 'What are the materials used as catalyst?'},\n",
       "  '178': {'truth': 'aluminum',\n",
       "   'predicted': 'simultaneously',\n",
       "   'question': 'What are the materials used as catalyst?'},\n",
       "  '224': {'truth': 'Fe',\n",
       "   'predicted': 'using',\n",
       "   'question': 'What are the materials used as catalyst?'},\n",
       "  '247': {'truth': 'Ni-Fe/γ-Al2O3',\n",
       "   'predicted': 'to',\n",
       "   'question': 'What are the materials used as catalyst?'},\n",
       "  '211': {'truth': 'KOH',\n",
       "   'predicted': 'Pyrolysis',\n",
       "   'question': 'What are the materials used as catalyst?'},\n",
       "  '244': {'truth': 'KOH',\n",
       "   'predicted': 'waste',\n",
       "   'question': 'What are the materials used as catalyst?'},\n",
       "  '105': {'truth': 'NiAl',\n",
       "   'predicted': 'as',\n",
       "   'question': 'What are the materials used as catalyst?'}}}"
      ]
     },
     "execution_count": 53,
     "metadata": {},
     "output_type": "execute_result"
    }
   ],
   "source": [
    "texts"
   ]
  },
  {
   "cell_type": "code",
   "execution_count": 54,
   "id": "da13ea55",
   "metadata": {},
   "outputs": [],
   "source": [
    "with open(r\"/home/user3/Documents/avan_phd/Objective_3/Objective_3_QnA/data/data qna/data_individual/with_dupli/bert/cat_valid.json\", \"r\") as read_file:\n",
    "    valid = json.load(read_file)"
   ]
  },
  {
   "cell_type": "code",
   "execution_count": 55,
   "id": "e49cc91c",
   "metadata": {},
   "outputs": [],
   "source": [
    "##data list\n",
    "context = []\n",
    "answerss = []\n",
    "question =[]\n",
    "\n",
    "#loop data points\n",
    "def extractquestions(test):\n",
    "    for trai in test:\n",
    "        context.append(trai['context'])\n",
    "        question.append(trai['qas'][0]['question'])\n",
    "\n",
    "    for sample in test:\n",
    "        gold_answers = []\n",
    "        for ans in sample['qas'][0]['answers']:\n",
    "            gold_answers.append(ans['text'])\n",
    "        answerss.append(gold_answers)\n",
    "        \n",
    "    return context, answerss, question\n"
   ]
  },
  {
   "cell_type": "code",
   "execution_count": 56,
   "id": "46a5fca4",
   "metadata": {},
   "outputs": [],
   "source": [
    "context, answerss, question = extractquestions(train)"
   ]
  },
  {
   "cell_type": "code",
   "execution_count": 57,
   "id": "43dc13d6",
   "metadata": {},
   "outputs": [
    {
     "name": "stderr",
     "output_type": "stream",
     "text": [
      "convert squad examples to features: 100%|████████████████████████████████| 1/1 [00:00<00:00, 57.09it/s]\n",
      "add example index and unique id: 100%|█████████████████████████████████| 1/1 [00:00<00:00, 6105.25it/s]\n"
     ]
    },
    {
     "data": {
      "application/vnd.jupyter.widget-view+json": {
       "model_id": "57eddc738b6d41d78d75a1e15ab1c239",
       "version_major": 2,
       "version_minor": 0
      },
      "text/plain": [
       "Running Prediction:   0%|          | 0/1 [00:00<?, ?it/s]"
      ]
     },
     "metadata": {},
     "output_type": "display_data"
    },
    {
     "name": "stdout",
     "output_type": "stream",
     "text": [
      "Prediction>>>>>> ['zeolite', 'z', 'ZSM-5 zeolite', 'lite', '5 zeolite']\n",
      "Actual answer:>>>>>>> ['zeolite'] 1 \n",
      "\n"
     ]
    },
    {
     "name": "stderr",
     "output_type": "stream",
     "text": [
      "convert squad examples to features: 100%|████████████████████████████████| 1/1 [00:00<00:00, 44.33it/s]\n",
      "add example index and unique id: 100%|█████████████████████████████████| 1/1 [00:00<00:00, 3199.32it/s]\n"
     ]
    },
    {
     "data": {
      "application/vnd.jupyter.widget-view+json": {
       "model_id": "9cb1a5b8ec7d46d7a63c79ace462c469",
       "version_major": 2,
       "version_minor": 0
      },
      "text/plain": [
       "Running Prediction:   0%|          | 0/1 [00:00<?, ?it/s]"
      ]
     },
     "metadata": {},
     "output_type": "display_data"
    },
    {
     "name": "stdout",
     "output_type": "stream",
     "text": [
      "Prediction>>>>>> ['']\n",
      "Actual answer:>>>>>>> ['zeolite'] 1 \n",
      "\n"
     ]
    },
    {
     "name": "stderr",
     "output_type": "stream",
     "text": [
      "convert squad examples to features: 100%|████████████████████████████████| 1/1 [00:00<00:00, 80.62it/s]\n",
      "add example index and unique id: 100%|█████████████████████████████████| 1/1 [00:00<00:00, 2183.40it/s]\n"
     ]
    },
    {
     "data": {
      "application/vnd.jupyter.widget-view+json": {
       "model_id": "6492f79a08764a38b2e04c2f3aefd866",
       "version_major": 2,
       "version_minor": 0
      },
      "text/plain": [
       "Running Prediction:   0%|          | 0/1 [00:00<?, ?it/s]"
      ]
     },
     "metadata": {},
     "output_type": "display_data"
    },
    {
     "name": "stdout",
     "output_type": "stream",
     "text": [
      "Prediction>>>>>> ['empty']\n",
      "Actual answer:>>>>>>> ['nickel'] 1 \n",
      "\n"
     ]
    },
    {
     "name": "stderr",
     "output_type": "stream",
     "text": [
      "convert squad examples to features: 100%|████████████████████████████████| 1/1 [00:00<00:00, 71.15it/s]\n",
      "add example index and unique id: 100%|█████████████████████████████████| 1/1 [00:00<00:00, 2562.19it/s]\n"
     ]
    },
    {
     "data": {
      "application/vnd.jupyter.widget-view+json": {
       "model_id": "6b6ce669eb8748f5b5a71b7f0e6e226c",
       "version_major": 2,
       "version_minor": 0
      },
      "text/plain": [
       "Running Prediction:   0%|          | 0/1 [00:00<?, ?it/s]"
      ]
     },
     "metadata": {},
     "output_type": "display_data"
    },
    {
     "name": "stdout",
     "output_type": "stream",
     "text": [
      "Prediction>>>>>> ['Mn', 'M', 'n', 'Mn (0 wt.%, 1 wt.%, 5 wt.%, and 10 wt.%) to Fe-based catalyst to improve the production of CNTs has been investigated. Results show that the increase of Mn', 'Mn (0 wt.%, 1 wt.%, 5 wt.%, and 10 wt.%) to Fe']\n",
      "Actual answer:>>>>>>> ['Mn', 'Fe-based'] 2 \n",
      "\n"
     ]
    },
    {
     "name": "stderr",
     "output_type": "stream",
     "text": [
      "convert squad examples to features: 100%|████████████████████████████████| 1/1 [00:00<00:00, 83.39it/s]\n",
      "add example index and unique id: 100%|█████████████████████████████████| 1/1 [00:00<00:00, 2414.68it/s]\n"
     ]
    },
    {
     "data": {
      "application/vnd.jupyter.widget-view+json": {
       "model_id": "80412739de384bbdb2e0cb853e4992a2",
       "version_major": 2,
       "version_minor": 0
      },
      "text/plain": [
       "Running Prediction:   0%|          | 0/1 [00:00<?, ?it/s]"
      ]
     },
     "metadata": {},
     "output_type": "display_data"
    },
    {
     "name": "stdout",
     "output_type": "stream",
     "text": [
      "Prediction>>>>>> ['empty']\n",
      "Actual answer:>>>>>>> ['Cl', 'Cl-containing'] 2 \n",
      "\n"
     ]
    },
    {
     "name": "stderr",
     "output_type": "stream",
     "text": [
      "convert squad examples to features: 100%|████████████████████████████████| 1/1 [00:00<00:00, 52.25it/s]\n",
      "add example index and unique id: 100%|█████████████████████████████████| 1/1 [00:00<00:00, 3132.42it/s]\n"
     ]
    },
    {
     "data": {
      "application/vnd.jupyter.widget-view+json": {
       "model_id": "e25cb19d877247ef904af8e812ca5105",
       "version_major": 2,
       "version_minor": 0
      },
      "text/plain": [
       "Running Prediction:   0%|          | 0/1 [00:00<?, ?it/s]"
      ]
     },
     "metadata": {},
     "output_type": "display_data"
    },
    {
     "name": "stdout",
     "output_type": "stream",
     "text": [
      "Prediction>>>>>> ['Li/NaY', 'Li/Na', 'NaY', 'Li', 'Y']\n",
      "Actual answer:>>>>>>> ['Li/NaY', 'zeolite'] 2 \n",
      "\n"
     ]
    },
    {
     "name": "stderr",
     "output_type": "stream",
     "text": [
      "convert squad examples to features: 100%|████████████████████████████████| 1/1 [00:00<00:00, 36.49it/s]\n",
      "add example index and unique id: 100%|█████████████████████████████████| 1/1 [00:00<00:00, 6034.97it/s]\n"
     ]
    },
    {
     "data": {
      "application/vnd.jupyter.widget-view+json": {
       "model_id": "25198e60423f47dfbb025f0c776488e2",
       "version_major": 2,
       "version_minor": 0
      },
      "text/plain": [
       "Running Prediction:   0%|          | 0/1 [00:00<?, ?it/s]"
      ]
     },
     "metadata": {},
     "output_type": "display_data"
    },
    {
     "name": "stdout",
     "output_type": "stream",
     "text": [
      "Prediction>>>>>> ['zeolite', 'z', 'zeolite Y', 'lite']\n",
      "Actual answer:>>>>>>> ['zeolite'] 1 \n",
      "\n"
     ]
    },
    {
     "name": "stderr",
     "output_type": "stream",
     "text": [
      "convert squad examples to features: 100%|████████████████████████████████| 1/1 [00:00<00:00, 84.18it/s]\n",
      "add example index and unique id: 100%|█████████████████████████████████| 1/1 [00:00<00:00, 2955.82it/s]\n"
     ]
    },
    {
     "data": {
      "application/vnd.jupyter.widget-view+json": {
       "model_id": "a0b7eb47c12447adab7448f9951e45ee",
       "version_major": 2,
       "version_minor": 0
      },
      "text/plain": [
       "Running Prediction:   0%|          | 0/1 [00:00<?, ?it/s]"
      ]
     },
     "metadata": {},
     "output_type": "display_data"
    },
    {
     "name": "stdout",
     "output_type": "stream",
     "text": [
      "Prediction>>>>>> ['empty']\n",
      "Actual answer:>>>>>>> ['Fe2O3'] 1 \n",
      "\n"
     ]
    },
    {
     "name": "stderr",
     "output_type": "stream",
     "text": [
      "convert squad examples to features: 100%|████████████████████████████████| 1/1 [00:00<00:00, 67.75it/s]\n",
      "add example index and unique id: 100%|█████████████████████████████████| 1/1 [00:00<00:00, 8035.07it/s]\n"
     ]
    },
    {
     "data": {
      "application/vnd.jupyter.widget-view+json": {
       "model_id": "924df04ed8a443f0b4c2e51108581d33",
       "version_major": 2,
       "version_minor": 0
      },
      "text/plain": [
       "Running Prediction:   0%|          | 0/1 [00:00<?, ?it/s]"
      ]
     },
     "metadata": {},
     "output_type": "display_data"
    },
    {
     "name": "stdout",
     "output_type": "stream",
     "text": [
      "Prediction>>>>>> ['empty']\n",
      "Actual answer:>>>>>>> ['Ru/Al2O3'] 1 \n",
      "\n"
     ]
    },
    {
     "name": "stderr",
     "output_type": "stream",
     "text": [
      "convert squad examples to features: 100%|████████████████████████████████| 1/1 [00:00<00:00, 39.31it/s]\n",
      "add example index and unique id: 100%|█████████████████████████████████| 1/1 [00:00<00:00, 7206.71it/s]\n"
     ]
    },
    {
     "data": {
      "application/vnd.jupyter.widget-view+json": {
       "model_id": "970613a15c8542778bbfd8e1e412dfbd",
       "version_major": 2,
       "version_minor": 0
      },
      "text/plain": [
       "Running Prediction:   0%|          | 0/1 [00:00<?, ?it/s]"
      ]
     },
     "metadata": {},
     "output_type": "display_data"
    },
    {
     "name": "stdout",
     "output_type": "stream",
     "text": [
      "Prediction>>>>>> ['empty']\n",
      "Actual answer:>>>>>>> [] 0 \n",
      "\n"
     ]
    },
    {
     "name": "stderr",
     "output_type": "stream",
     "text": [
      "convert squad examples to features: 100%|████████████████████████████████| 1/1 [00:00<00:00, 57.94it/s]\n",
      "add example index and unique id: 100%|█████████████████████████████████| 1/1 [00:00<00:00, 2582.70it/s]\n"
     ]
    },
    {
     "data": {
      "application/vnd.jupyter.widget-view+json": {
       "model_id": "a84d2136a2e8424da1c6372c129bfba0",
       "version_major": 2,
       "version_minor": 0
      },
      "text/plain": [
       "Running Prediction:   0%|          | 0/1 [00:00<?, ?it/s]"
      ]
     },
     "metadata": {},
     "output_type": "display_data"
    },
    {
     "name": "stdout",
     "output_type": "stream",
     "text": [
      "Prediction>>>>>> ['', '.']\n",
      "Actual answer:>>>>>>> [] 0 \n",
      "\n"
     ]
    },
    {
     "name": "stderr",
     "output_type": "stream",
     "text": [
      "convert squad examples to features: 100%|███████████████████████████████| 1/1 [00:00<00:00, 115.45it/s]\n",
      "add example index and unique id: 100%|█████████████████████████████████| 1/1 [00:00<00:00, 5356.71it/s]\n"
     ]
    },
    {
     "data": {
      "application/vnd.jupyter.widget-view+json": {
       "model_id": "384feac6113542a4a42632de1e552d2e",
       "version_major": 2,
       "version_minor": 0
      },
      "text/plain": [
       "Running Prediction:   0%|          | 0/1 [00:00<?, ?it/s]"
      ]
     },
     "metadata": {},
     "output_type": "display_data"
    },
    {
     "name": "stdout",
     "output_type": "stream",
     "text": [
      "Prediction>>>>>> ['Ni/CeO2/Al2O3', 'Ni/CeO2', 'Ni', '3', 'CeO2/Al2O3']\n",
      "Actual answer:>>>>>>> ['Ni/CeO2/Al2O3'] 1 \n",
      "\n"
     ]
    },
    {
     "name": "stderr",
     "output_type": "stream",
     "text": [
      "convert squad examples to features: 100%|████████████████████████████████| 1/1 [00:00<00:00, 46.46it/s]\n",
      "add example index and unique id: 100%|█████████████████████████████████| 1/1 [00:00<00:00, 3927.25it/s]\n"
     ]
    },
    {
     "data": {
      "application/vnd.jupyter.widget-view+json": {
       "model_id": "f82a34530aa4490fbd6504f60a739a58",
       "version_major": 2,
       "version_minor": 0
      },
      "text/plain": [
       "Running Prediction:   0%|          | 0/1 [00:00<?, ?it/s]"
      ]
     },
     "metadata": {},
     "output_type": "display_data"
    },
    {
     "name": "stdout",
     "output_type": "stream",
     "text": [
      "Prediction>>>>>> ['empty']\n",
      "Actual answer:>>>>>>> ['cobalt'] 1 \n",
      "\n"
     ]
    },
    {
     "name": "stderr",
     "output_type": "stream",
     "text": [
      "convert squad examples to features: 100%|███████████████████████████████| 1/1 [00:00<00:00, 100.17it/s]\n",
      "add example index and unique id: 100%|█████████████████████████████████| 1/1 [00:00<00:00, 2449.94it/s]\n"
     ]
    },
    {
     "data": {
      "application/vnd.jupyter.widget-view+json": {
       "model_id": "246aad8df0364b938f883d81c293bdc5",
       "version_major": 2,
       "version_minor": 0
      },
      "text/plain": [
       "Running Prediction:   0%|          | 0/1 [00:00<?, ?it/s]"
      ]
     },
     "metadata": {},
     "output_type": "display_data"
    },
    {
     "name": "stdout",
     "output_type": "stream",
     "text": [
      "Prediction>>>>>> ['nickel', 'nickel metal', '', 'nickel metal powder in the low temperature range (823K). The experimental results imply that unsupported nickel metal powder or small nickel']\n",
      "Actual answer:>>>>>>> ['nickel'] 1 \n",
      "\n"
     ]
    },
    {
     "name": "stderr",
     "output_type": "stream",
     "text": [
      "convert squad examples to features: 100%|████████████████████████████████| 1/1 [00:00<00:00, 60.38it/s]\n",
      "add example index and unique id: 100%|█████████████████████████████████| 1/1 [00:00<00:00, 7281.78it/s]\n"
     ]
    },
    {
     "data": {
      "application/vnd.jupyter.widget-view+json": {
       "model_id": "21e0e77647ed4a038c11d61a1e111c7e",
       "version_major": 2,
       "version_minor": 0
      },
      "text/plain": [
       "Running Prediction:   0%|          | 0/1 [00:00<?, ?it/s]"
      ]
     },
     "metadata": {},
     "output_type": "display_data"
    },
    {
     "name": "stdout",
     "output_type": "stream",
     "text": [
      "Prediction>>>>>> ['', '.', 'Al2O3', 'Ni/Pd-co-promoted Al2O3']\n",
      "Actual answer:>>>>>>> ['Ni–Pd/Al2O3', 'Al2O3'] 2 \n",
      "\n"
     ]
    },
    {
     "name": "stderr",
     "output_type": "stream",
     "text": [
      "convert squad examples to features: 100%|████████████████████████████████| 1/1 [00:00<00:00, 98.02it/s]\n",
      "add example index and unique id: 100%|█████████████████████████████████| 1/1 [00:00<00:00, 2270.87it/s]\n"
     ]
    },
    {
     "data": {
      "application/vnd.jupyter.widget-view+json": {
       "model_id": "f2a23b32e9c24aeeaba7f49f5f467784",
       "version_major": 2,
       "version_minor": 0
      },
      "text/plain": [
       "Running Prediction:   0%|          | 0/1 [00:00<?, ?it/s]"
      ]
     },
     "metadata": {},
     "output_type": "display_data"
    },
    {
     "name": "stdout",
     "output_type": "stream",
     "text": [
      "Prediction>>>>>> ['', 'llium simplicissimum', 'llium']\n",
      "Actual answer:>>>>>>> [] 0 \n",
      "\n"
     ]
    },
    {
     "name": "stderr",
     "output_type": "stream",
     "text": [
      "convert squad examples to features: 100%|████████████████████████████████| 1/1 [00:00<00:00, 60.93it/s]\n",
      "add example index and unique id: 100%|█████████████████████████████████| 1/1 [00:00<00:00, 7854.50it/s]\n"
     ]
    },
    {
     "data": {
      "application/vnd.jupyter.widget-view+json": {
       "model_id": "56fe69a5bc4d45b795b5c4992b545723",
       "version_major": 2,
       "version_minor": 0
      },
      "text/plain": [
       "Running Prediction:   0%|          | 0/1 [00:00<?, ?it/s]"
      ]
     },
     "metadata": {},
     "output_type": "display_data"
    },
    {
     "name": "stdout",
     "output_type": "stream",
     "text": [
      "Prediction>>>>>> ['zeolite', 'zeolite and Red Mud', 'z', 'lite', 'lite and Red Mud']\n",
      "Actual answer:>>>>>>> ['zeolite'] 1 \n",
      "\n"
     ]
    },
    {
     "ename": "IndexError",
     "evalue": "list index out of range",
     "output_type": "error",
     "traceback": [
      "\u001b[0;31m---------------------------------------------------------------------------\u001b[0m",
      "\u001b[0;31mIndexError\u001b[0m                                Traceback (most recent call last)",
      "\u001b[0;32m/tmp/ipykernel_32571/1428159118.py\u001b[0m in \u001b[0;36m<module>\u001b[0;34m\u001b[0m\n\u001b[1;32m      9\u001b[0m             \"qas\": [\n\u001b[1;32m     10\u001b[0m                 {\n\u001b[0;32m---> 11\u001b[0;31m                     \u001b[0;34m\"question\"\u001b[0m\u001b[0;34m:\u001b[0m\u001b[0mvalid\u001b[0m\u001b[0;34m[\u001b[0m\u001b[0mi\u001b[0m\u001b[0;34m]\u001b[0m\u001b[0;34m[\u001b[0m\u001b[0;34m'qas'\u001b[0m\u001b[0;34m]\u001b[0m\u001b[0;34m[\u001b[0m\u001b[0;36m0\u001b[0m\u001b[0;34m]\u001b[0m\u001b[0;34m[\u001b[0m\u001b[0;34m'question'\u001b[0m\u001b[0;34m]\u001b[0m\u001b[0;34m,\u001b[0m\u001b[0;34m\u001b[0m\u001b[0;34m\u001b[0m\u001b[0m\n\u001b[0m\u001b[1;32m     12\u001b[0m                     \u001b[0;34m\"id\"\u001b[0m\u001b[0;34m:\u001b[0m \u001b[0;34m\"0\"\u001b[0m\u001b[0;34m,\u001b[0m\u001b[0;34m\u001b[0m\u001b[0;34m\u001b[0m\u001b[0m\n\u001b[1;32m     13\u001b[0m                 }\n",
      "\u001b[0;31mIndexError\u001b[0m: list index out of range"
     ]
    }
   ],
   "source": [
    "import numpy as np\n",
    "F1 = []\n",
    "for i in range(len(train)):\n",
    "\n",
    "    # Make predictions with the model\n",
    "    to_predict = [\n",
    "        {\n",
    "            \"context\": context[i],\n",
    "            \"qas\": [\n",
    "                {\n",
    "                    \"question\":valid[i]['qas'][0]['question'],\n",
    "                    \"id\": \"0\",\n",
    "                }\n",
    "            ],\n",
    "        }\n",
    "    ]\n",
    "\n",
    "\n",
    "\n",
    "    answers, probabilities = model.predict(to_predict)\n",
    "    \n",
    "    \n",
    "    \n",
    "\n",
    "    print(\"Prediction>>>>>>\",answers[0][\"answer\"])\n",
    "    print(\"Actual answer:>>>>>>>\",answerss[i],len(answerss[i]),\"\\n\")\n",
    "    "
   ]
  },
  {
   "cell_type": "code",
   "execution_count": null,
   "id": "3345bb57",
   "metadata": {},
   "outputs": [],
   "source": []
  },
  {
   "cell_type": "code",
   "execution_count": null,
   "id": "040818cc",
   "metadata": {},
   "outputs": [],
   "source": []
  },
  {
   "cell_type": "code",
   "execution_count": 46,
   "id": "7f9252c5",
   "metadata": {},
   "outputs": [
    {
     "data": {
      "text/plain": [
       "[{'text': 'palladium', 'answer_start': 245}]"
      ]
     },
     "execution_count": 46,
     "metadata": {},
     "output_type": "execute_result"
    }
   ],
   "source": [
    "valid[7]['qas'][0]['answers']"
   ]
  },
  {
   "cell_type": "code",
   "execution_count": 47,
   "id": "16cfcac4",
   "metadata": {},
   "outputs": [],
   "source": [
    "# Make predictions with the model\n",
    "to_predict = [\n",
    "    {\n",
    "        \"context\": valid[1]['context'],\n",
    "        \"qas\": [\n",
    "            {\n",
    "                \"question\":valid[1]['qas'][0]['question'],\n",
    "                \"id\": \"0\",\n",
    "            }\n",
    "        ],\n",
    "    }\n",
    "]"
   ]
  },
  {
   "cell_type": "code",
   "execution_count": 48,
   "id": "ed1c08a7",
   "metadata": {},
   "outputs": [
    {
     "name": "stderr",
     "output_type": "stream",
     "text": [
      "convert squad examples to features: 100%|█████████| 1/1 [00:00<00:00, 59.27it/s]\n",
      "add example index and unique id: 100%|██████████| 1/1 [00:00<00:00, 2727.12it/s]\n"
     ]
    },
    {
     "data": {
      "application/vnd.jupyter.widget-view+json": {
       "model_id": "44ff67f1ed1544b68701ef3aef9010d2",
       "version_major": 2,
       "version_minor": 0
      },
      "text/plain": [
       "Running Prediction:   0%|          | 0/1 [00:00<?, ?it/s]"
      ]
     },
     "metadata": {},
     "output_type": "display_data"
    },
    {
     "name": "stdout",
     "output_type": "stream",
     "text": [
      "Prediction>>>>>> [{'id': '0', 'answer': ['', 'Ni/SiO2 and Fe/SiO2', 'Ni/SiO2', '.', '. Catalyst development is one of the key factors for this process to improve hydrogen production and the quality of CNTs.', 'Ni', 'Ni/SiO', '. Catalyst development is one of the key factors for this process to improve hydrogen production and the quality of CNTs. In this work, Ni/SiO2 and Fe/SiO2', '. In this work, Ni/SiO2 and Fe/SiO2', 'Fe/SiO2', 'Ni/SiO2 and Fe/SiO', 'Ni/Si', 'Ni/SiO2 and Fe', '. Catalyst development is one of the key factors for this process to improve hydrogen production and the quality of CNTs. In this work, Ni/SiO2', '. In this work, Ni/SiO2', 'Ni/SiO2 and Fe/Si', '. Catalyst development is one of the key factors for this process to improve hydrogen production and the quality of CNTs. In this work, Ni', '. In this work, Ni', '. Catalyst development is one of the key factors for this process to improve hydrogen production and the quality of CNTs. In this work, Ni/SiO']}] [{'id': '0', 'probability': [0.9999760022341019, 2.3919936583907255e-06, 1.8774973344292885e-06, 1.733013082773047e-06, 1.733013082773047e-06, 1.3523105999277784e-06, 1.3417868353478133e-06, 1.3417868353478133e-06, 1.339168715524942e-06, 1.3005043944019389e-06, 1.2654255071523667e-06, 1.184122726123232e-06, 1.1703272785033803e-06, 1.0531805541795152e-06, 1.0511255683849606e-06, 8.429551164107696e-07, 7.585774961900008e-07, 7.57097345447991e-07, 7.526741992802605e-07]}]\n",
      "Actual answer:>>>>>>> [{'text': 'Ni/SiO2-S', 'answer_start': 1443}] \n",
      "\n"
     ]
    },
    {
     "name": "stderr",
     "output_type": "stream",
     "text": [
      "convert squad examples to features: 100%|████████| 1/1 [00:00<00:00, 381.09it/s]\n",
      "add example index and unique id: 100%|██████████| 1/1 [00:00<00:00, 3320.91it/s]\n"
     ]
    },
    {
     "data": {
      "application/vnd.jupyter.widget-view+json": {
       "model_id": "3df0442721f94dc3b01403637c636737",
       "version_major": 2,
       "version_minor": 0
      },
      "text/plain": [
       "Running Prediction:   0%|          | 0/1 [00:00<?, ?it/s]"
      ]
     },
     "metadata": {},
     "output_type": "display_data"
    },
    {
     "name": "stdout",
     "output_type": "stream",
     "text": [
      "Prediction>>>>>> [{'id': '0', 'answer': ['', 'UiO-68', 'UiO-68-I, was synthesized. UiO-68-I showed good catalytic activity for dibromination of alkenes and alkynes with a low catalyst loading of 1% and was able to be recycled and recovered efficiently. Mechanistic studies suggest that UiO-68-I may trigger the formation of molecular bromine through a radical intermediate and thus accelerate the reaction. The activity and stability of UiO-68', 'UiO-68-I, was synthesized. UiO-68', 'UiO-68-I, was synthesized. UiO-68-I showed good catalytic activity for dibromination of alkenes and alkynes with a low catalyst loading of 1% and was able to be recycled and recovered efficiently. Mechanistic studies suggest that UiO-68', 'UiO-68-I, was synthesized.', 'UiO-68-I, was synthesized. UiO-68-I showed good catalytic activity for dibromination of alkenes and alkynes with a low catalyst loading of 1% and was able to be recycled and recovered efficiently.', 'UiO-68-I, was synthesized. UiO-68-I showed good catalytic activity for dibromination of alkenes and alkynes with a low catalyst loading of 1% and was able to be recycled and recovered efficiently. Mechanistic studies suggest that UiO-68-I may trigger the formation of molecular bromine through a radical intermediate and thus accelerate the reaction.', 'UiO-68-I', 'UiO', 'UiO-68-I, was synthesized. UiO-68-I showed good catalytic activity for dibromination of alkenes and alkynes with a low catalyst loading of 1% and was able to be recycled and recovered efficiently. Mechanistic studies suggest that UiO-68-I', 'UiO-68-I, was synthesized. UiO-68-I showed good catalytic activity for dibromination of alkenes and alkynes with a low catalyst loading of 1% and was able to be recycled and recovered efficiently. Mechanistic studies suggest that UiO-68-I may trigger the formation of molecular bromine through a radical intermediate and thus accelerate the reaction. The activity and stability of UiO-68-I', 'UiO-', 'UiO-68-I, was synthesized. UiO', 'UiO-68-I, was synthesized. UiO-68-I', 'U', 'UiO-68-', 'UiO-68-I showed good catalytic activity for dibromination of alkenes and alkynes with a low catalyst loading of 1% and was able to be recycled and recovered efficiently. Mechanistic studies suggest that UiO-68-I may trigger the formation of molecular bromine through a radical intermediate and thus accelerate the reaction. The activity and stability of UiO-68', 'iO-68']}] [{'id': '0', 'probability': [0.9997826254844778, 4.619498695900455e-05, 1.9790757480803486e-05, 1.6829034854385323e-05, 1.272805719701129e-05, 1.2629006670076997e-05, 1.2629006670076997e-05, 1.2579770839110945e-05, 1.2384739569449263e-05, 8.730788267006203e-06, 8.217851373540267e-06, 7.933962017869705e-06, 6.826157404835339e-06, 6.668029638865379e-06, 6.288550882436548e-06, 6.264034145977561e-06, 6.059463621253085e-06, 5.033292838652047e-06, 4.821599212308726e-06]}]\n",
      "Actual answer:>>>>>>> [{'text': 'organoiodine', 'answer_start': 482}, {'text': 'iodine-functionalized', 'answer_start': 3}, {'text': 'iodine', 'answer_start': 3}] \n",
      "\n"
     ]
    },
    {
     "name": "stderr",
     "output_type": "stream",
     "text": [
      "convert squad examples to features: 100%|████████| 1/1 [00:00<00:00, 138.03it/s]\n",
      "add example index and unique id: 100%|██████████| 1/1 [00:00<00:00, 4140.48it/s]\n"
     ]
    },
    {
     "data": {
      "application/vnd.jupyter.widget-view+json": {
       "model_id": "0a7b7780e999460f9790716e3e8cd9e7",
       "version_major": 2,
       "version_minor": 0
      },
      "text/plain": [
       "Running Prediction:   0%|          | 0/1 [00:00<?, ?it/s]"
      ]
     },
     "metadata": {},
     "output_type": "display_data"
    },
    {
     "name": "stdout",
     "output_type": "stream",
     "text": [
      "Prediction>>>>>> [{'id': '0', 'answer': ['', '.', '. The rate of reaction and activity was found to be comparable to that of homogeneous catalyst 1.', '. The rate of reaction and activity was found to be comparable to that of homogeneous catalyst 1. In addition, the catalyst could be recycled and re-used up to three times by simple filtration.', '. In addition, the catalyst could be recycled and re-used up to three times by simple filtration.', '. The rate of reaction and activity was found to be comparable to that of homogeneous catalyst 1. In addition, the catalyst could be recycled and re-used up to three times by simple filtration. The residual ruthenium', '. In addition, the catalyst could be recycled and re-used up to three times by simple filtration. The residual ruthenium', '. The residual ruthenium', 'enium catalyst 8 was found to be an effective catalyst for ring closing metathesis.', 'enium catalyst 8 was found to be an effective catalyst for ring closing metathesis. The rate of reaction and activity was found to be comparable to that of homogeneous catalyst 1.', 'enium catalyst 8 was found to be an effective catalyst for ring closing metathesis. The rate of reaction and activity was found to be comparable to that of homogeneous catalyst 1. In addition, the catalyst could be recycled and re-used up to three times by simple filtration.', '. The rate of reaction and activity was found to be comparable to that of homogeneous catalyst 1. In addition, the catalyst could be recycled and re-used up to three times by simple filtration. The residual ruthenium/catalyst', '. In addition, the catalyst could be recycled and re-used up to three times by simple filtration. The residual ruthenium/catalyst', 'ruthenium catalyst 8 was found to be an effective catalyst for ring closing metathesis.', '. The residual ruthenium/catalyst', 'found to be comparable to that of homogeneous catalyst 1.', 'ruthenium catalyst 8 was found to be an effective catalyst for ring closing metathesis. The rate of reaction and activity was found to be comparable to that of homogeneous catalyst 1.', 'uthenium catalyst 8 was found to be an effective catalyst for ring closing metathesis.', 'found to be comparable to that of homogeneous catalyst 1. In addition, the catalyst could be recycled and re-used up to three times by simple filtration.']}] [{'id': '0', 'probability': [0.9999969824830373, 3.359669592037798e-07, 3.2690482367219573e-07, 3.18708994797541e-07, 3.0950726630972216e-07, 1.586995543539706e-07, 1.541175995483626e-07, 1.499605402404485e-07, 1.1909285041098366e-07, 1.1588052395535624e-07, 1.1297528403391728e-07, 1.0864726886912171e-07, 1.0551041774349912e-07, 1.0306627154896242e-07, 1.0266445423610047e-07, 1.0067874394004057e-07, 1.002862347152057e-07, 9.873144075780812e-08, 9.815462775423853e-08]}]\n",
      "Actual answer:>>>>>>> [{'text': 'ruthenium/catalyst', 'answer_start': 311}] \n",
      "\n"
     ]
    },
    {
     "name": "stderr",
     "output_type": "stream",
     "text": [
      "convert squad examples to features: 100%|█████████| 1/1 [00:00<00:00, 89.10it/s]\n",
      "add example index and unique id: 100%|██████████| 1/1 [00:00<00:00, 7244.05it/s]\n"
     ]
    },
    {
     "data": {
      "application/vnd.jupyter.widget-view+json": {
       "model_id": "2909c37edf3f43408c1c3de9eae37ed5",
       "version_major": 2,
       "version_minor": 0
      },
      "text/plain": [
       "Running Prediction:   0%|          | 0/1 [00:00<?, ?it/s]"
      ]
     },
     "metadata": {},
     "output_type": "display_data"
    },
    {
     "name": "stdout",
     "output_type": "stream",
     "text": [
      "Prediction>>>>>> [{'id': '0', 'answer': ['', 'bis-phenol-A', '.', '. A complete conversion of waste PC was achieved using a microwave power of 3kW in a very short time (10min).', 'bis-phenol-A) and bis-phenol-A (BPA) itself were efficiently obtained from waste polycarbonate (PC) via a fast catalytic hydrolysis/glycolysis process using microwave heating.', 'bis-phenol-A) and bis-phenol-A (BPA) itself were efficiently obtained from waste polycarbonate (PC) via a fast catalytic hydrolysis/glycolysis process using microwave heating. A complete conversion of waste PC was achieved using a microwave power of 3kW in a very short time (10min).', 'bis-phenol-A (BPA) itself were efficiently obtained from waste polycarbonate (PC) via a fast catalytic hydrolysis/glycolysis process using microwave heating.', 'bis-phenol-A (BPA) itself were efficiently obtained from waste polycarbonate (PC) via a fast catalytic hydrolysis/glycolysis process using microwave heating. A complete conversion of waste PC was achieved using a microwave power of 3kW in a very short time (10min).', 'bis-phenol-A) and bis-phenol-A', 'BPA) itself were efficiently obtained from waste polycarbonate (PC) via a fast catalytic hydrolysis/glycolysis process using microwave heating.', 'BPA) itself were efficiently obtained from waste polycarbonate (PC) via a fast catalytic hydrolysis/glycolysis process using microwave heating. A complete conversion of waste PC was achieved using a microwave power of 3kW in a very short time (10min).', 'bis-phenol-A)', 's-phenol-A', 'bis-phenol-A) and bis-phenol-A (BPA', 'bis-phenol', 's-phenol-A (BPA) itself were efficiently obtained from waste polycarbonate (PC) via a fast catalytic hydrolysis/glycolysis process using microwave heating.', 's-phenol-A (BPA) itself were efficiently obtained from waste polycarbonate (PC) via a fast catalytic hydrolysis/glycolysis process using microwave heating. A complete conversion of waste PC was achieved using a microwave power of 3kW in a very short time (10min).', 'kW in a very short time (10min).', 's-phenol-A) and bis-phenol-A (BPA) itself were efficiently obtained from waste polycarbonate (PC) via a fast catalytic hydrolysis/glycolysis process using microwave heating.']}] [{'id': '0', 'probability': [0.9999710229751178, 3.193714647138684e-06, 2.332012387689902e-06, 2.32292073299919e-06, 2.282444928578709e-06, 2.273546519097377e-06, 1.5383585256444686e-06, 1.5323610341304859e-06, 1.3952305989508316e-06, 1.3735995534680158e-06, 1.3682443963130324e-06, 1.3313383380830666e-06, 1.3004979186983466e-06, 1.1343144453306676e-06, 9.403797043517731e-07, 9.367135113267054e-07, 9.330616114336937e-07, 9.330616114336937e-07, 9.294239489490969e-07]}]\n",
      "Actual answer:>>>>>>> [{'text': 'KOH', 'answer_start': 874}] \n",
      "\n"
     ]
    },
    {
     "name": "stderr",
     "output_type": "stream",
     "text": [
      "convert squad examples to features: 100%|█████████| 1/1 [00:00<00:00, 47.17it/s]\n",
      "add example index and unique id: 100%|██████████| 1/1 [00:00<00:00, 7269.16it/s]\n"
     ]
    },
    {
     "data": {
      "application/vnd.jupyter.widget-view+json": {
       "model_id": "8253331287b844c09c3e2c2b3ab205a1",
       "version_major": 2,
       "version_minor": 0
      },
      "text/plain": [
       "Running Prediction:   0%|          | 0/1 [00:00<?, ?it/s]"
      ]
     },
     "metadata": {},
     "output_type": "display_data"
    },
    {
     "name": "stdout",
     "output_type": "stream",
     "text": [
      "Prediction>>>>>> [{'id': '0', 'answer': ['', 'RuO2', 'titanium metal that was coated with IrO2/RuO2', 'IrO2/RuO2', '. Developing effective and safe disposal methods as alternatives to the present cementation method remains challenging. This investigation demonstrates the treatment of a mixed resin (sulfonated and quaternary ammonium polystyrene beads with a weight ratio of 40%:60%) by the electro-Fenton process. Mesh-type titanium metal that was coated with IrO2/RuO2', '. This investigation demonstrates the treatment of a mixed resin (sulfonated and quaternary ammonium polystyrene beads with a weight ratio of 40%:60%) by the electro-Fenton process. Mesh-type titanium metal that was coated with IrO2/RuO2', '. Mesh-type titanium metal that was coated with IrO2/RuO2', 'nuclear industry. Developing effective and safe disposal methods as alternatives to the present cementation method remains challenging. This investigation demonstrates the treatment of a mixed resin (sulfonated and quaternary ammonium polystyrene beads with a weight ratio of 40%:60%) by the electro-Fenton process. Mesh-type titanium metal that was coated with IrO2/RuO2', 'itanium metal that was coated with IrO2/RuO2', 'remains challenging. This investigation demonstrates the treatment of a mixed resin (sulfonated and quaternary ammonium polystyrene beads with a weight ratio of 40%:60%) by the electro-Fenton process. Mesh-type titanium metal that was coated with IrO2/RuO2', 'rO2/RuO2', 'nium metal that was coated with IrO2/RuO2', 'uO2', 'titanium metal that was coated with IrO2', 'challenging. This investigation demonstrates the treatment of a mixed resin (sulfonated and quaternary ammonium polystyrene beads with a weight ratio of 40%:60%) by the electro-Fenton process. Mesh-type titanium metal that was coated with IrO2/RuO2', 'IrO2', 'titanium', '. Developing effective and safe disposal methods as alternatives to the present cementation method remains challenging. This investigation demonstrates the treatment of a mixed resin (sulfonated and quaternary ammonium polystyrene beads with a weight ratio of 40%:60%) by the electro-Fenton process. Mesh-type titanium metal that was coated with IrO2', '. This investigation demonstrates the treatment of a mixed resin (sulfonated and quaternary ammonium polystyrene beads with a weight ratio of 40%:60%) by the electro-Fenton process. Mesh-type titanium metal that was coated with IrO2']}] [{'id': '0', 'probability': [0.9997993821348828, 4.326994821604872e-05, 2.4177612639939975e-05, 2.05593892102435e-05, 1.4437111913531633e-05, 1.4437111913531633e-05, 1.0059062630752887e-05, 8.790823184910953e-06, 8.404661416539747e-06, 7.345007696439222e-06, 7.174860776409605e-06, 5.948168502533998e-06, 5.9018794880088035e-06, 5.896118747140869e-06, 5.249240279537504e-06, 5.013753920105131e-06, 3.6042250956658283e-06, 3.5207333112503692e-06, 3.5207333112503692e-06]}]\n",
      "Actual answer:>>>>>>> [{'text': 'iron', 'answer_start': 1074}] \n",
      "\n"
     ]
    },
    {
     "name": "stderr",
     "output_type": "stream",
     "text": [
      "convert squad examples to features: 100%|█████████| 1/1 [00:00<00:00, 38.03it/s]\n",
      "add example index and unique id: 100%|██████████| 1/1 [00:00<00:00, 3218.96it/s]\n"
     ]
    },
    {
     "data": {
      "application/vnd.jupyter.widget-view+json": {
       "model_id": "0f162a5a43bc4785af98f37bdfaf3a42",
       "version_major": 2,
       "version_minor": 0
      },
      "text/plain": [
       "Running Prediction:   0%|          | 0/1 [00:00<?, ?it/s]"
      ]
     },
     "metadata": {},
     "output_type": "display_data"
    },
    {
     "name": "stdout",
     "output_type": "stream",
     "text": [
      "Prediction>>>>>> [{'id': '0', 'answer': ['Fe', 'Fe–Mo', '', 'Fe–Mo catalysts with various Fe', 'Fe–', 'Fe–Mo catalysts with various Fe:Mo weight ratios (such as 50:0, 45:5, 40:10, 30:20, 20:30 and 10:40, respectively) have been prepared and evaluated for production of carbon nanomaterials (CNMs) via catalytic pyrolysis of low-density polyethylene (LDPE) plastic waste. Highly acidic HZSM-5 zeolite', 'Mo', 'Fe–Mo catalysts with various Fe:Mo weight ratios (such as 50:0, 45:5, 40:10, 30:20, 20:30 and 10:40, respectively) have been prepared and evaluated for production of carbon nanomaterials (CNMs) via catalytic pyrolysis of low-density polyethylene (LDPE) plastic waste.', 'Fe–Mo catalysts with various Fe:Mo weight ratios (such as 50:0, 45:5, 40:10, 30:20, 20:30', 'Fe–Mo catalysts with various Fe:Mo weight ratios (such as 50:0', 'Fe–Mo catalysts with various Fe:Mo weight ratios (such as 50:0, 45:5, 40:10, 30:20', 'Fe–Mo catalysts with various Fe:Mo weight ratios (such as 50:0, 45:5', 'Fe–Mo catalysts with various Fe:Mo weight ratios (such as 50', 'Fe–Mo catalysts with various Fe:Mo weight ratios (such as 50:0, 45:5, 40:10', 'Fe–Mo catalysts with various Fe:Mo weight ratios (such as 50:0, 45:5, 40:10, 30', 'Fe–Mo catalysts with various Fe:Mo weight ratios (such as 50:0, 45:5, 40:10, 30:20, 20:30 and 10:40', 'Fe–Mo catalysts with various Fe:Mo weight ratios (such as 50:0, 45:5, 40', 'MgO supported bimetallic Fe', 'Mo catalysts with various Fe']}] [{'id': '0', 'probability': [0.9425109090038021, 0.049756506739940594, 0.005285428760230111, 0.0007599524745035873, 0.0002806651011693257, 0.00021815569885216127, 0.00019795526167495916, 0.0001362519707661091, 0.00012749786862309675, 0.00012454438367752243, 9.775600681567158e-05, 9.493360692280819e-05, 8.328915909423836e-05, 8.120101708586356e-05, 7.687957778505013e-05, 7.524548469512398e-05, 6.201625466977638e-05, 2.5852221174539715e-05, 3.0234556404284656e-06]}]\n",
      "Actual answer:>>>>>>> [{'text': 'Fe', 'answer_start': 37}, {'text': 'Mo', 'answer_start': 40}] \n",
      "\n"
     ]
    },
    {
     "name": "stderr",
     "output_type": "stream",
     "text": [
      "convert squad examples to features: 100%|█████████| 1/1 [00:00<00:00, 59.46it/s]\n",
      "add example index and unique id: 100%|██████████| 1/1 [00:00<00:00, 5890.88it/s]\n"
     ]
    },
    {
     "data": {
      "application/vnd.jupyter.widget-view+json": {
       "model_id": "7291cf59bec848309b33b4e09a4532b2",
       "version_major": 2,
       "version_minor": 0
      },
      "text/plain": [
       "Running Prediction:   0%|          | 0/1 [00:00<?, ?it/s]"
      ]
     },
     "metadata": {},
     "output_type": "display_data"
    },
    {
     "name": "stdout",
     "output_type": "stream",
     "text": [
      "Prediction>>>>>> [{'id': '0', 'answer': ['', 'Ni-Fe', 'Ni', 'Fe', 'Ni-Fe catalysts for the catalytic pyrolysis of real-world waste plastics to produce hydrogen and high value carbon nanotubes (CNT), and the influence of catalyst composition and support materials has been investigated.', 'Ni-Fe catalysts for the catalytic pyrolysis of real-world waste plastics to produce hydrogen and high value carbon nanotubes (CNT), and the influence of catalyst composition and support materials has been investigated. Experiments were conducted in a two stage fixed bed reactor, where plastics were pyrolysed in the first stage followed by reaction of the evolved volatiles over the catalyst in the second stage.', 'Ni-', 'Ni-Fe catalyst', 'Ni-Fe catalysts for the catalytic pyrolysis of real-world waste plastics to produce hydrogen and high value carbon nanotubes (CNT), and the influence of catalyst composition and support materials has been investigated. Experiments were conducted in a two stage fixed bed reactor, where plastics were pyrolysed in the first stage followed by reaction of the evolved volatiles over the catalyst in the second stage. Different catalyst temperatures (700', 'Ni-Fe catalysts for the catalytic pyrolysis of real-world waste plastics to produce hydrogen and high value carbon nanotubes (CNT), and the influence of catalyst composition and support materials has been investigated. Experiments were conducted in a two stage fixed bed reactor, where plastics were pyrolysed in the first stage followed by reaction of the evolved volatiles over the catalyst in the second stage. Different catalyst temperatures (700, 800', 'Ni-Fe catalysts for the catalytic pyrolysis of real-world waste plastics to produce hydrogen and high value carbon nanotubes (CNT', 'Ni-Fe catalysts for the catalytic pyrolysis of real-world waste plastics to produce hydrogen and high value carbon nanotubes (CNT), and the influence of catalyst composition and support materials has', 'Ni-Fe catalysts for the catalytic pyrolysis of real-world waste plastics to produce hydrogen and high value carbon nanotubes (CNT), and the influence of catalyst composition and support materials has been investigated. Experiments were conducted in a two stage fixed bed reactor, where plastics were pyrolysed in the first stage followed by reaction of the evolved volatiles over the catalyst in the second stage. Different catalyst temperatures (700, 800, 900', '-Fe', 'Fe catalysts for the catalytic pyrolysis of real-world waste plastics to produce hydrogen and high value carbon nanotubes (CNT), and the influence of catalyst composition and support materials has been investigated.', 'Fe catalysts for the catalytic pyrolysis of real-world waste plastics to produce hydrogen and high value carbon nanotubes (CNT), and the influence of catalyst composition and support materials has been investigated. Experiments were conducted in a two stage fixed bed reactor, where plastics were pyrolysed in the first stage followed by reaction of the evolved volatiles over the catalyst in the second stage.', 'Fe catalyst', 'Fe catalysts for the catalytic pyrolysis of real-world waste plastics to produce hydrogen and high value carbon nanotubes (CNT), and the influence of catalyst composition and support materials has been investigated. Experiments were conducted in a two stage fixed bed reactor, where plastics were pyrolysed in the first stage followed by reaction of the evolved volatiles over the catalyst in the second stage. Different catalyst temperatures (700', 'Fe catalysts for the catalytic pyrolysis of real-world waste plastics to produce hydrogen and high value carbon nanotubes (CNT), and the influence of catalyst composition and support materials has been investigated. Experiments were conducted in a two stage fixed bed reactor, where plastics were pyrolysed in the first stage followed by reaction of the evolved volatiles over the catalyst in the second stage. Different catalyst temperatures (700, 800']}] [{'id': '0', 'probability': [0.7520744224620766, 0.20084285474528982, 0.03358880097071965, 0.010137025988186794, 0.0006858031025979961, 0.0006764906924146381, 0.0005935131165100322, 0.00022005374546288866, 0.0002124518902853302, 0.0002051126445990076, 0.00020036121530444482, 0.00019419674877313821, 0.00018458140101139652, 7.327814741043423e-05, 3.4614145883514725e-05, 3.414412595593964e-05, 1.110664623535709e-05, 1.0722962167576481e-05, 1.0352532637731908e-05]}]\n",
      "Actual answer:>>>>>>> [{'text': 'Ni-Fe/γ-Al2O3', 'answer_start': 1465}] \n",
      "\n"
     ]
    },
    {
     "ename": "IndexError",
     "evalue": "list index out of range",
     "output_type": "error",
     "traceback": [
      "\u001b[0;31m---------------------------------------------------------------------------\u001b[0m",
      "\u001b[0;31mIndexError\u001b[0m                                Traceback (most recent call last)",
      "\u001b[0;32m/tmp/ipykernel_13540/2064052111.py\u001b[0m in \u001b[0;36m<module>\u001b[0;34m\u001b[0m\n\u001b[1;32m      5\u001b[0m     to_predict = [\n\u001b[1;32m      6\u001b[0m         {\n\u001b[0;32m----> 7\u001b[0;31m             \u001b[0;34m\"context\"\u001b[0m\u001b[0;34m:\u001b[0m \u001b[0mvalid\u001b[0m\u001b[0;34m[\u001b[0m\u001b[0mi\u001b[0m\u001b[0;34m]\u001b[0m\u001b[0;34m[\u001b[0m\u001b[0;34m'context'\u001b[0m\u001b[0;34m]\u001b[0m\u001b[0;34m,\u001b[0m\u001b[0;34m\u001b[0m\u001b[0;34m\u001b[0m\u001b[0m\n\u001b[0m\u001b[1;32m      8\u001b[0m             \"qas\": [\n\u001b[1;32m      9\u001b[0m                 {\n",
      "\u001b[0;31mIndexError\u001b[0m: list index out of range"
     ]
    }
   ],
   "source": [
    "import numpy as np\n",
    "for i in np.arange(10,20,1):\n",
    "\n",
    "    # Make predictions with the model\n",
    "    to_predict = [\n",
    "        {\n",
    "            \"context\": valid[i]['context'],\n",
    "            \"qas\": [\n",
    "                {\n",
    "                    \"question\":valid[i]['qas'][0]['question'],\n",
    "                    \"id\": \"0\",\n",
    "                }\n",
    "            ],\n",
    "        }\n",
    "    ]\n",
    "\n",
    "\n",
    "\n",
    "    answers, probabilities = model.predict(to_predict)\n",
    "\n",
    "    print(\"Prediction>>>>>>\",answers, probabilities)\n",
    "    print(\"Actual answer:>>>>>>>\",valid[i]['qas'][0]['answers'],\"\\n\")"
   ]
  },
  {
   "cell_type": "code",
   "execution_count": 48,
   "id": "2dbda905",
   "metadata": {},
   "outputs": [
    {
     "data": {
      "text/plain": [
       "[{'id': '0', 'probability': [0.9130477957311179, 0.06105103198976647]}]"
      ]
     },
     "execution_count": 48,
     "metadata": {},
     "output_type": "execute_result"
    }
   ],
   "source": [
    "probabilities"
   ]
  },
  {
   "cell_type": "code",
   "execution_count": null,
   "id": "f07bb4a4",
   "metadata": {},
   "outputs": [],
   "source": []
  }
 ],
 "metadata": {
  "kernelspec": {
   "display_name": "bart1",
   "language": "python",
   "name": "bart1"
  },
  "language_info": {
   "codemirror_mode": {
    "name": "ipython",
    "version": 3
   },
   "file_extension": ".py",
   "mimetype": "text/x-python",
   "name": "python",
   "nbconvert_exporter": "python",
   "pygments_lexer": "ipython3",
   "version": "3.7.13"
  }
 },
 "nbformat": 4,
 "nbformat_minor": 5
}
